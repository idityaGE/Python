{
  "nbformat": 4,
  "nbformat_minor": 0,
  "metadata": {
    "colab": {
      "provenance": [],
      "authorship_tag": "ABX9TyMqV7RqoAJSbd2GWOm3gFN/",
      "include_colab_link": true
    },
    "kernelspec": {
      "name": "python3",
      "display_name": "Python 3"
    },
    "language_info": {
      "name": "python"
    }
  },
  "cells": [
    {
      "cell_type": "markdown",
      "metadata": {
        "id": "view-in-github",
        "colab_type": "text"
      },
      "source": [
        "<a href=\"https://colab.research.google.com/github/idityaGE/Python/blob/main/Basics/CIA_I_que.ipynb\" target=\"_parent\"><img src=\"https://colab.research.google.com/assets/colab-badge.svg\" alt=\"Open In Colab\"/></a>"
      ]
    },
    {
      "cell_type": "code",
      "execution_count": 2,
      "metadata": {
        "colab": {
          "base_uri": "https://localhost:8080/"
        },
        "id": "Q9gdUnRv5z9R",
        "outputId": "f1d448b8-2cbf-446f-99e4-4304fc813988"
      },
      "outputs": [
        {
          "output_type": "stream",
          "name": "stdout",
          "text": [
            "6\n",
            "-5\n"
          ]
        }
      ],
      "source": [
        "print(max(3, 6))\n",
        "\n",
        "def max_num(n1, n2):\n",
        "  if n1 > n2:\n",
        "    return n1\n",
        "  else:\n",
        "    return n2\n",
        "\n",
        "print(max_num(-9, -5))"
      ]
    },
    {
      "cell_type": "code",
      "source": [
        "def fact_rec(n):\n",
        "  if n == 1:\n",
        "    return 1\n",
        "  return n * fact_rec(n-1)\n",
        "\n",
        "def fact(n):\n",
        "  fact = 1\n",
        "  for i in range(1,n + 1):\n",
        "    fact *= i\n",
        "  return fact\n",
        "\n",
        "print(fact_rec(6))\n",
        "print(fact(6))"
      ],
      "metadata": {
        "colab": {
          "base_uri": "https://localhost:8080/"
        },
        "id": "DHXCWhnn_WEK",
        "outputId": "0b90cd9c-e389-406f-930e-fe65b1ea39f1"
      },
      "execution_count": 6,
      "outputs": [
        {
          "output_type": "stream",
          "name": "stdout",
          "text": [
            "720\n",
            "720\n"
          ]
        }
      ]
    },
    {
      "cell_type": "code",
      "source": [
        "def is_pallin(s):\n",
        "  return s == s[::-1]\n",
        "\n",
        "print(is_pallin(\"level\"))\n",
        "print(is_pallin(\"Adii\"))"
      ],
      "metadata": {
        "colab": {
          "base_uri": "https://localhost:8080/"
        },
        "id": "H-gAzvJjAVwZ",
        "outputId": "10a343aa-fc1b-42dd-bd32-b6eae77c56d2"
      },
      "execution_count": 10,
      "outputs": [
        {
          "output_type": "stream",
          "name": "stdout",
          "text": [
            "True\n",
            "False\n"
          ]
        }
      ]
    },
    {
      "cell_type": "code",
      "source": [
        "def is_sym(s):\n",
        "  n = len(s)\n",
        "  mid = n // 2\n",
        "  if n % 2 == 0:\n",
        "    first_half = s[:mid]\n",
        "    second_half = s[mid:]\n",
        "  else:\n",
        "    first_half = s[:mid]\n",
        "    second_half = s[mid+1:]\n",
        "  return first_half == second_half\n",
        "\n",
        "string = input(\"Enter a string: \")\n",
        "if is_sym(string):\n",
        "    print(f\"The string '{string}' is symmetrical.\")\n",
        "else:\n",
        "    print(f\"The string '{string}' is not symmetrical.\")"
      ],
      "metadata": {
        "colab": {
          "base_uri": "https://localhost:8080/"
        },
        "id": "pXi3XkWBAsrZ",
        "outputId": "668ec558-13d5-4eea-97ed-ec5ec2b15f30"
      },
      "execution_count": 13,
      "outputs": [
        {
          "output_type": "stream",
          "name": "stdout",
          "text": [
            "The string is not symmetrical.\n"
          ]
        }
      ]
    },
    {
      "cell_type": "code",
      "source": [
        "def is_substring(s, subs):\n",
        "  if subs in s:\n",
        "    return True\n",
        "  else:\n",
        "    return False\n",
        "\n",
        "string = \"Hello, world!\"\n",
        "substring = \"world\"\n",
        "\n",
        "print(is_substring(string, substring))\n",
        "\n",
        "if string.find(substring) != -1:\n",
        "    print(f\"'{substring}' is present in '{string}'\")\n",
        "else:\n",
        "    print(f\"'{substring}' is not present in '{string}'\")"
      ],
      "metadata": {
        "colab": {
          "base_uri": "https://localhost:8080/"
        },
        "id": "454XC6etDSXk",
        "outputId": "b0a372b5-2428-46aa-c315-075f27c85481"
      },
      "execution_count": 14,
      "outputs": [
        {
          "output_type": "stream",
          "name": "stdout",
          "text": [
            "True\n"
          ]
        }
      ]
    },
    {
      "cell_type": "code",
      "source": [
        "def swap(a, b):\n",
        "  a, b = b, a\n",
        "  return a, b\n",
        "\n",
        "a = 5\n",
        "b = 3\n",
        "\n",
        "a, b = swap(a,b)\n",
        "\n",
        "print(a , \" \", b)\n",
        "\n",
        "# you can use temp, XOR, add & sub method"
      ],
      "metadata": {
        "colab": {
          "base_uri": "https://localhost:8080/"
        },
        "id": "6e5-eRKdEPgU",
        "outputId": "37223c28-1be6-4b19-db49-2d8fb5d08ff0"
      },
      "execution_count": 16,
      "outputs": [
        {
          "output_type": "stream",
          "name": "stdout",
          "text": [
            "3   5\n"
          ]
        }
      ]
    },
    {
      "cell_type": "code",
      "source": [
        "list = [1,2,3,4,5]\n",
        "\n",
        "list[0], list [2] = list[2], list[0]\n",
        "\n",
        "print(list)"
      ],
      "metadata": {
        "colab": {
          "base_uri": "https://localhost:8080/"
        },
        "id": "W8nCbSB3FWQh",
        "outputId": "6722f67d-7c6a-45cf-a9f0-c6a1216e5a08"
      },
      "execution_count": 17,
      "outputs": [
        {
          "output_type": "stream",
          "name": "stdout",
          "text": [
            "[3, 2, 1, 4, 5]\n"
          ]
        }
      ]
    },
    {
      "cell_type": "code",
      "source": [
        "person = {\n",
        "  \"name\": \"Aditya\",\n",
        "  \"age\": 19\n",
        "}\n",
        "city = {\n",
        "  \"city\" : \"mau\"\n",
        "}\n",
        "person.update(city)\n",
        "print(person)\n",
        "\n",
        "new_dict = {**person, **city}\n",
        "print(new_dict)\n",
        "\n",
        "merge = person | city\n",
        "print(merge)"
      ],
      "metadata": {
        "colab": {
          "base_uri": "https://localhost:8080/"
        },
        "id": "Y_4aBUWUFmI0",
        "outputId": "e39878ce-a77f-412c-dc9d-464ddb182da3"
      },
      "execution_count": 20,
      "outputs": [
        {
          "output_type": "stream",
          "name": "stdout",
          "text": [
            "{'name': 'Aditya', 'age': 19, 'city': 'mau'}\n",
            "{'name': 'Aditya', 'age': 19, 'city': 'mau'}\n",
            "{'name': 'Aditya', 'age': 19, 'city': 'mau'}\n"
          ]
        }
      ]
    },
    {
      "cell_type": "code",
      "source": [
        "dict = { \"b\" : 2 , \"c\" : 3}\n",
        "k = \"a\"\n",
        "v = 1\n",
        "dict = {k:v, **dict}\n",
        "print(dict)"
      ],
      "metadata": {
        "colab": {
          "base_uri": "https://localhost:8080/"
        },
        "id": "diRD_H3KHmTp",
        "outputId": "46d87629-9e78-41b2-c11c-98dd4e505808"
      },
      "execution_count": 21,
      "outputs": [
        {
          "output_type": "stream",
          "name": "stdout",
          "text": [
            "{'a': 1, 'b': 2, 'c': 3}\n"
          ]
        }
      ]
    },
    {
      "cell_type": "code",
      "source": [
        "num = [1,2,3,4,5]\n",
        "print(num[::-1])\n",
        "num.reverse()\n",
        "print(num)\n",
        "for index, val in enumerate(num):\n",
        "  print(f\"{index} --> {val}\")"
      ],
      "metadata": {
        "colab": {
          "base_uri": "https://localhost:8080/"
        },
        "id": "oZk1pzEvH-Qi",
        "outputId": "989e67d1-a073-4252-8d61-b5abc83570a5"
      },
      "execution_count": 25,
      "outputs": [
        {
          "output_type": "stream",
          "name": "stdout",
          "text": [
            "[5, 4, 3, 2, 1]\n",
            "[5, 4, 3, 2, 1]\n",
            "0 --> 5\n",
            "1 --> 4\n",
            "2 --> 3\n",
            "3 --> 2\n",
            "4 --> 1\n"
          ]
        }
      ]
    },
    {
      "cell_type": "code",
      "source": [
        "num = [[1,2],[2,3],[3,4],[4,5]]\n",
        "# for i in num:\n",
        "#   print(i)\n",
        "\n",
        "list1, list2, list3, list4 = num\n",
        "print(\"List 1:\", list1)\n",
        "print(\"List 2:\", list2)\n",
        "print(\"List 3:\", list3)"
      ],
      "metadata": {
        "colab": {
          "base_uri": "https://localhost:8080/"
        },
        "id": "uXQOkTt0InT2",
        "outputId": "c12f329a-f93e-4be4-d011-24c4d135d65e"
      },
      "execution_count": 28,
      "outputs": [
        {
          "output_type": "stream",
          "name": "stdout",
          "text": [
            "List 1: [1, 2]\n",
            "List 2: [2, 3]\n",
            "List 3: [3, 4]\n"
          ]
        }
      ]
    }
  ]
}
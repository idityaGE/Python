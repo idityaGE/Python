{
  "nbformat": 4,
  "nbformat_minor": 0,
  "metadata": {
    "colab": {
      "provenance": [],
      "authorship_tag": "ABX9TyPUyi5b73fkD5vcQ0JxlS7d",
      "include_colab_link": true
    },
    "kernelspec": {
      "name": "python3",
      "display_name": "Python 3"
    },
    "language_info": {
      "name": "python"
    }
  },
  "cells": [
    {
      "cell_type": "markdown",
      "metadata": {
        "id": "view-in-github",
        "colab_type": "text"
      },
      "source": [
        "<a href=\"https://colab.research.google.com/github/idityaGE/Python/blob/main/Basics/Exam_prep.ipynb\" target=\"_parent\"><img src=\"https://colab.research.google.com/assets/colab-badge.svg\" alt=\"Open In Colab\"/></a>"
      ]
    },
    {
      "cell_type": "code",
      "execution_count": 1,
      "metadata": {
        "colab": {
          "base_uri": "https://localhost:8080/"
        },
        "id": "qH7tV0tPJtra",
        "outputId": "09b07b33-071b-4521-8202-6fee6ce86161"
      },
      "outputs": [
        {
          "output_type": "stream",
          "name": "stdout",
          "text": [
            "Hello World\n"
          ]
        }
      ],
      "source": [
        "print(\"Hello World\")"
      ]
    },
    {
      "cell_type": "code",
      "source": [
        "print(\"Adii\", 1, 1.4, True, 5+6j, sep='--', end=\" ?\")"
      ],
      "metadata": {
        "colab": {
          "base_uri": "https://localhost:8080/"
        },
        "id": "cQwZ9qlIKsBV",
        "outputId": "c494fd04-5c87-4c5c-d382-9e81f0dd1f83"
      },
      "execution_count": 8,
      "outputs": [
        {
          "output_type": "stream",
          "name": "stdout",
          "text": [
            "Adii--1--1.4--True--(5+6j) ?"
          ]
        }
      ]
    },
    {
      "cell_type": "code",
      "source": [
        "arr= [1,2,3,4,5]\n",
        "arr"
      ],
      "metadata": {
        "colab": {
          "base_uri": "https://localhost:8080/"
        },
        "id": "w3VGU_7mK7Y7",
        "outputId": "77c6a624-b70d-4934-9b40-a53804b787b2"
      },
      "execution_count": 10,
      "outputs": [
        {
          "output_type": "execute_result",
          "data": {
            "text/plain": [
              "[1, 2, 3, 4, 5]"
            ]
          },
          "metadata": {},
          "execution_count": 10
        }
      ]
    },
    {
      "cell_type": "code",
      "source": [
        "set_={1,3,3,5,7,3,5}\n",
        "set_"
      ],
      "metadata": {
        "colab": {
          "base_uri": "https://localhost:8080/"
        },
        "id": "aNT1D1RoLXUV",
        "outputId": "b16827c5-2185-4c5d-f625-24b3c8c7ed13"
      },
      "execution_count": 12,
      "outputs": [
        {
          "output_type": "execute_result",
          "data": {
            "text/plain": [
              "{1, 3, 5, 7}"
            ]
          },
          "metadata": {},
          "execution_count": 12
        }
      ]
    },
    {
      "cell_type": "code",
      "source": [
        "tp = tuple(arr)\n",
        "tp"
      ],
      "metadata": {
        "colab": {
          "base_uri": "https://localhost:8080/"
        },
        "id": "WDrvKJJILmyq",
        "outputId": "a4c60f04-2e03-4087-a88d-ebe57fa49126"
      },
      "execution_count": 14,
      "outputs": [
        {
          "output_type": "execute_result",
          "data": {
            "text/plain": [
              "(1, 2, 3, 4, 5)"
            ]
          },
          "metadata": {},
          "execution_count": 14
        }
      ]
    },
    {
      "cell_type": "code",
      "source": [
        "person = {'name':'Adii', 'gender':'Male', 'age': 19}\n",
        "person"
      ],
      "metadata": {
        "colab": {
          "base_uri": "https://localhost:8080/"
        },
        "id": "RMmAMUp1LQcw",
        "outputId": "3ead925e-5524-4377-935b-a195dad49122"
      },
      "execution_count": 16,
      "outputs": [
        {
          "output_type": "execute_result",
          "data": {
            "text/plain": [
              "{'name': 'Adii', 'gender': 'Male', 'age': 19}"
            ]
          },
          "metadata": {},
          "execution_count": 16
        }
      ]
    },
    {
      "cell_type": "code",
      "source": [
        "type(person)\n",
        "type(arr)"
      ],
      "metadata": {
        "colab": {
          "base_uri": "https://localhost:8080/"
        },
        "id": "pZvQ6KnBL5Ry",
        "outputId": "b106ae3e-0ada-4bbb-d013-35d0eb208cbc"
      },
      "execution_count": 18,
      "outputs": [
        {
          "output_type": "execute_result",
          "data": {
            "text/plain": [
              "list"
            ]
          },
          "metadata": {},
          "execution_count": 18
        }
      ]
    },
    {
      "cell_type": "code",
      "source": [
        "a = int(5)\n",
        "a"
      ],
      "metadata": {
        "colab": {
          "base_uri": "https://localhost:8080/"
        },
        "id": "fgKvC_VWL-I3",
        "outputId": "38956c7c-0a7f-48d0-a1cf-95f06df98180"
      },
      "execution_count": 20,
      "outputs": [
        {
          "output_type": "execute_result",
          "data": {
            "text/plain": [
              "5"
            ]
          },
          "metadata": {},
          "execution_count": 20
        }
      ]
    },
    {
      "cell_type": "code",
      "source": [
        "x, y, z = 5, 2.5, 3 + 7j\n",
        "x, y, z"
      ],
      "metadata": {
        "colab": {
          "base_uri": "https://localhost:8080/"
        },
        "id": "sVh2qcylMQ8W",
        "outputId": "3c9472f9-9ccd-48da-a592-f39446789f0c"
      },
      "execution_count": 21,
      "outputs": [
        {
          "output_type": "execute_result",
          "data": {
            "text/plain": [
              "(5, 2.5, (3+7j))"
            ]
          },
          "metadata": {},
          "execution_count": 21
        }
      ]
    },
    {
      "cell_type": "code",
      "source": [
        "#comment"
      ],
      "metadata": {
        "id": "veCGT57sMjhW"
      },
      "execution_count": 24,
      "outputs": []
    },
    {
      "cell_type": "code",
      "source": [
        "_ = \"nitish\"\n",
        "_"
      ],
      "metadata": {
        "colab": {
          "base_uri": "https://localhost:8080/",
          "height": 35
        },
        "id": "ypxjBMKCMquN",
        "outputId": "183620ab-6a01-4f6d-e7a9-58a9d7ec935d"
      },
      "execution_count": 28,
      "outputs": [
        {
          "output_type": "execute_result",
          "data": {
            "text/plain": [
              "'nitish'"
            ],
            "application/vnd.google.colaboratory.intrinsic+json": {
              "type": "string"
            }
          },
          "metadata": {},
          "execution_count": 28
        }
      ]
    },
    {
      "cell_type": "code",
      "source": [
        "num = int(input(\"Enter the value :\"))\n",
        "num"
      ],
      "metadata": {
        "colab": {
          "base_uri": "https://localhost:8080/"
        },
        "id": "-yEH8waeM7eb",
        "outputId": "ade6ba3b-384b-4f03-d35a-c50303826782"
      },
      "execution_count": 30,
      "outputs": [
        {
          "name": "stdout",
          "output_type": "stream",
          "text": [
            "Enter the value :55\n"
          ]
        },
        {
          "output_type": "execute_result",
          "data": {
            "text/plain": [
              "55"
            ]
          },
          "metadata": {},
          "execution_count": 30
        }
      ]
    },
    {
      "cell_type": "code",
      "source": [
        "print(5+5.4)\n",
        "print(8 + 2+8j)\n",
        "print(5 / 2) # normal division\n",
        "print(5 // 2) # floor division"
      ],
      "metadata": {
        "colab": {
          "base_uri": "https://localhost:8080/"
        },
        "id": "2N1XOpMrNIgf",
        "outputId": "061e2c6f-a504-49de-f993-47a2af88e623"
      },
      "execution_count": 36,
      "outputs": [
        {
          "output_type": "stream",
          "name": "stdout",
          "text": [
            "10.4\n",
            "(10+8j)\n",
            "2.5\n",
            "2\n"
          ]
        }
      ]
    },
    {
      "cell_type": "code",
      "source": [
        "s = str(6666)\n",
        "s\n",
        "\n",
        "fl = float(533)\n",
        "fl"
      ],
      "metadata": {
        "colab": {
          "base_uri": "https://localhost:8080/"
        },
        "id": "RNd5TUAONWEA",
        "outputId": "2a85e3bd-4848-4da0-809a-c69324d65373"
      },
      "execution_count": 38,
      "outputs": [
        {
          "output_type": "execute_result",
          "data": {
            "text/plain": [
              "533.0"
            ]
          },
          "metadata": {},
          "execution_count": 38
        }
      ]
    },
    {
      "cell_type": "code",
      "source": [
        "a = 0b1010 #Binary Literals\n",
        "b = 100 #Decimal Literal\n",
        "c = 0o310 #Octal Literal\n",
        "d = 0x12c #Hexadecimal Literal\n",
        "\n",
        "float_1 = 10.5\n",
        "float_2 = 1.5e6 # 1.5 * 10^6\n",
        "float_2 = 1.5e-6 # 1.5 * 10^-6\n",
        "\n",
        "x = 3.14j\n",
        "print(x, x.imag, x.real)"
      ],
      "metadata": {
        "colab": {
          "base_uri": "https://localhost:8080/"
        },
        "id": "WdefqnP0Nzz3",
        "outputId": "8d498c01-355a-4f31-a305-f7a2d8380c10"
      },
      "execution_count": 43,
      "outputs": [
        {
          "output_type": "stream",
          "name": "stdout",
          "text": [
            "3.14j 3.14 0.0\n"
          ]
        }
      ]
    },
    {
      "cell_type": "code",
      "source": [
        "# string\n",
        "\n",
        "string = 'this is string'\n",
        "strings = \"this is string\"\n",
        "char = \"C\"\n",
        "multiline_str = \"\"\"\n",
        "lorem lorem\n",
        "lorem lorem\n",
        "lorem lorem\n",
        "\"\"\"\n",
        "unicode = u\"\\U0001f600\\U0001F606\\U0001F923\"\n",
        "unicode\n",
        "\n",
        "raw_str = r\"raw \\n string\"\n",
        "raw_str"
      ],
      "metadata": {
        "colab": {
          "base_uri": "https://localhost:8080/",
          "height": 35
        },
        "id": "AjhSLtKFOH59",
        "outputId": "bde213bc-5ace-4e1a-8370-e5dc20cf5f85"
      },
      "execution_count": 50,
      "outputs": [
        {
          "output_type": "execute_result",
          "data": {
            "text/plain": [
              "'raw \\\\n string'"
            ],
            "application/vnd.google.colaboratory.intrinsic+json": {
              "type": "string"
            }
          },
          "metadata": {},
          "execution_count": 50
        }
      ]
    },
    {
      "cell_type": "code",
      "source": [
        "# True  = 1\n",
        "# False = 0\n",
        "a = True + 4\n",
        "b = False + 10\n",
        "\n",
        "print(\"a:\", a)\n",
        "print(\"b:\", b)"
      ],
      "metadata": {
        "colab": {
          "base_uri": "https://localhost:8080/"
        },
        "id": "tFleJJbFPN6a",
        "outputId": "a1444651-0f35-4a55-8e51-633d02c04945"
      },
      "execution_count": 51,
      "outputs": [
        {
          "output_type": "stream",
          "name": "stdout",
          "text": [
            "a: 5\n",
            "b: 10\n"
          ]
        }
      ]
    },
    {
      "cell_type": "code",
      "source": [
        "# Arithmetric Operators\n",
        "print(5+6)\n",
        "\n",
        "print(5-6)\n",
        "\n",
        "print(5*6)\n",
        "\n",
        "print(5/2)\n",
        "\n",
        "print(5//2)\n",
        "\n",
        "print(5%2)\n",
        "\n",
        "print(5**2)"
      ],
      "metadata": {
        "colab": {
          "base_uri": "https://localhost:8080/"
        },
        "id": "R-XYhryaPvBH",
        "outputId": "57a9ef09-6cf7-458e-b35a-cd9683d3bc75"
      },
      "execution_count": 53,
      "outputs": [
        {
          "output_type": "stream",
          "name": "stdout",
          "text": [
            "11\n",
            "-1\n",
            "30\n",
            "2.5\n",
            "2\n",
            "1\n",
            "25\n"
          ]
        }
      ]
    },
    {
      "cell_type": "code",
      "source": [
        "# Relational Operators\n",
        "print(4>5)\n",
        "\n",
        "print(4<5)\n",
        "\n",
        "print(4>=4)\n",
        "\n",
        "print(4<=4)\n",
        "\n",
        "print(4==4)\n",
        "\n",
        "print(4!=4)"
      ],
      "metadata": {
        "colab": {
          "base_uri": "https://localhost:8080/"
        },
        "id": "MvocefIqQMLS",
        "outputId": "5bea4f87-fcbe-4fc0-98a3-c9c1cf2cd736"
      },
      "execution_count": 55,
      "outputs": [
        {
          "output_type": "stream",
          "name": "stdout",
          "text": [
            "False\n",
            "True\n",
            "True\n",
            "True\n",
            "True\n",
            "False\n"
          ]
        }
      ]
    },
    {
      "cell_type": "code",
      "source": [
        "print(1 and 0)\n",
        "print(0 or 1)\n",
        "print(not 0)"
      ],
      "metadata": {
        "colab": {
          "base_uri": "https://localhost:8080/"
        },
        "id": "ZzX2xwgeQdf7",
        "outputId": "db3aafc6-f55b-4105-e075-9562ed9cbf8b"
      },
      "execution_count": 57,
      "outputs": [
        {
          "output_type": "stream",
          "name": "stdout",
          "text": [
            "0\n",
            "1\n",
            "True\n"
          ]
        }
      ]
    },
    {
      "cell_type": "code",
      "source": [
        "# Bitwise Operators\n",
        "\n",
        "# bitwise and\n",
        "print(2 & 3)\n",
        "\n",
        "# bitwise or\n",
        "print(2 | 3)\n",
        "\n",
        "# bitwise xor\n",
        "print(2 ^ 3)\n",
        "\n",
        "print(~3)\n",
        "\n",
        " # /2^k\n",
        "print(4 >> 2)\n",
        "\n",
        " # *2^k\n",
        "print(5 << 2)"
      ],
      "metadata": {
        "colab": {
          "base_uri": "https://localhost:8080/"
        },
        "id": "OvyMOfWsQlGh",
        "outputId": "673467af-846a-4562-a01b-aa1edea8a4da"
      },
      "execution_count": 61,
      "outputs": [
        {
          "output_type": "stream",
          "name": "stdout",
          "text": [
            "2\n",
            "3\n",
            "1\n",
            "-4\n",
            "1\n",
            "20\n"
          ]
        }
      ]
    },
    {
      "cell_type": "code",
      "source": [
        "# Assignment Operators\n",
        "\n",
        "# =\n",
        "# a = 2\n",
        "\n",
        "a = 2\n",
        "\n",
        "# a = a % 2\n",
        "a %= 2\n",
        "\n",
        "# a++ ++a\n",
        "\n",
        "print(a)"
      ],
      "metadata": {
        "colab": {
          "base_uri": "https://localhost:8080/"
        },
        "id": "wiGLPe3RQ-lt",
        "outputId": "e6fa6400-98cb-4c3a-dea2-35a439db4d44"
      },
      "execution_count": 62,
      "outputs": [
        {
          "output_type": "stream",
          "name": "stdout",
          "text": [
            "0\n"
          ]
        }
      ]
    },
    {
      "cell_type": "code",
      "source": [
        "# Membership Operators\n",
        "\n",
        "# in/not in\n",
        "\n",
        "print('D' not in 'Delhi')\n",
        "print('D' in 'Delhi')\n",
        "\n",
        "print(1 in [2,3,4,5,6])"
      ],
      "metadata": {
        "colab": {
          "base_uri": "https://localhost:8080/"
        },
        "id": "kG3BU3PRRv8M",
        "outputId": "34f0d316-b645-4e01-d20e-dd9503174486"
      },
      "execution_count": 68,
      "outputs": [
        {
          "output_type": "stream",
          "name": "stdout",
          "text": [
            "False\n",
            "True\n",
            "False\n"
          ]
        }
      ]
    },
    {
      "cell_type": "code",
      "source": [
        "# Identity Operators\n",
        "x = 5\n",
        "y = 6\n",
        "print(x is y)\n",
        "print(x is not y)"
      ],
      "metadata": {
        "colab": {
          "base_uri": "https://localhost:8080/"
        },
        "id": "-XDcls-vR33u",
        "outputId": "74cc0c5c-242f-40cc-b30a-9e3f1ebac905"
      },
      "execution_count": 71,
      "outputs": [
        {
          "output_type": "stream",
          "name": "stdout",
          "text": [
            "False\n",
            "True\n"
          ]
        }
      ]
    },
    {
      "cell_type": "code",
      "source": [
        "num = int(input(\"Enter the num : \"))\n",
        "\n",
        "def findSumOfDigits(num):\n",
        "  n = num\n",
        "  ans = 0\n",
        "  while n > 0:\n",
        "    ans += n % 10\n",
        "    n //= 10\n",
        "  return ans\n",
        "\n",
        "print(findSumOfDigits(num))"
      ],
      "metadata": {
        "colab": {
          "base_uri": "https://localhost:8080/"
        },
        "id": "4_rnJYqfSU2z",
        "outputId": "24e4b81a-3354-489c-9471-e38ad7e173b3"
      },
      "execution_count": 84,
      "outputs": [
        {
          "output_type": "stream",
          "name": "stdout",
          "text": [
            "Enter the num : 53336\n",
            "20\n"
          ]
        }
      ]
    },
    {
      "cell_type": "code",
      "source": [
        "arr = [1, 3, 5, 7, 8, 9, 13]\n",
        "x = int(input(\"Enter the x : \"))\n",
        "\n",
        "def BS(arr, x):\n",
        "  low = 0\n",
        "  high = len(arr) - 1\n",
        "  while low <= high:\n",
        "    mid = low + (high - low) // 2\n",
        "    if arr[mid] == x:\n",
        "      print(f\"Found at {mid}\")\n",
        "      return\n",
        "    elif arr[mid] < x:\n",
        "      low = mid + 1\n",
        "    else:\n",
        "      high = mid - 1\n",
        "  print(\"Not Found\")\n",
        "\n",
        "BS(arr, x)"
      ],
      "metadata": {
        "colab": {
          "base_uri": "https://localhost:8080/"
        },
        "id": "fY57I91dT_OX",
        "outputId": "33644617-2ff2-4058-fdbe-ed4b66187057"
      },
      "execution_count": 86,
      "outputs": [
        {
          "output_type": "stream",
          "name": "stdout",
          "text": [
            "Enter the x : 66\n",
            "Not Found\n"
          ]
        }
      ]
    },
    {
      "cell_type": "code",
      "source": [
        "import math\n",
        "\n",
        "print(math.sqrt(196))"
      ],
      "metadata": {
        "colab": {
          "base_uri": "https://localhost:8080/"
        },
        "id": "31hTcRyXWwIU",
        "outputId": "5378130c-1e19-42a7-9b1e-f9d89dbe6759"
      },
      "execution_count": 87,
      "outputs": [
        {
          "output_type": "stream",
          "name": "stdout",
          "text": [
            "14.0\n"
          ]
        }
      ]
    },
    {
      "cell_type": "code",
      "source": [
        "import keyword\n",
        "print(keyword.kwlist)"
      ],
      "metadata": {
        "colab": {
          "base_uri": "https://localhost:8080/"
        },
        "id": "ijgfabzdXb7E",
        "outputId": "a5c35039-0898-4db1-82c9-1421dcbd2360"
      },
      "execution_count": 89,
      "outputs": [
        {
          "output_type": "stream",
          "name": "stdout",
          "text": [
            "['False', 'None', 'True', 'and', 'as', 'assert', 'async', 'await', 'break', 'class', 'continue', 'def', 'del', 'elif', 'else', 'except', 'finally', 'for', 'from', 'global', 'if', 'import', 'in', 'is', 'lambda', 'nonlocal', 'not', 'or', 'pass', 'raise', 'return', 'try', 'while', 'with', 'yield']\n"
          ]
        }
      ]
    },
    {
      "cell_type": "code",
      "source": [
        "import random\n",
        "# 1 to 10\n",
        "for i in range(0, 30):\n",
        "  n = random.random() * 10\n",
        "  print(n)\n",
        "\n",
        "list1 = [1, 2, 3, 4, 5, 6]\n",
        "print(random.choice(list1))\n",
        "string = \"striver\"\n",
        "print(random.choice(string))"
      ],
      "metadata": {
        "colab": {
          "base_uri": "https://localhost:8080/"
        },
        "id": "ZcNr-UgEXg8c",
        "outputId": "8c07cca1-6716-4984-9fde-bfa21cb49046"
      },
      "execution_count": 96,
      "outputs": [
        {
          "output_type": "stream",
          "name": "stdout",
          "text": [
            "8.569966746277618\n",
            "1.3890722731134975\n",
            "7.604983943952002\n",
            "7.166883242468498\n",
            "6.632725474447195\n",
            "3.13442252782146\n",
            "3.4292864664669134\n",
            "9.672621683936246\n",
            "4.239707235222773\n",
            "1.6246549161382484\n",
            "6.981366926794528\n",
            "8.903868288002442\n",
            "6.651308119580152\n",
            "0.93507184390626\n",
            "6.771101837078025\n",
            "4.029286395168929\n",
            "4.956195345321226\n",
            "7.3439660227135475\n",
            "1.1514210981771056\n",
            "0.7056805507491537\n",
            "4.001968312147715\n",
            "4.002478812126209\n",
            "2.5698152481706438\n",
            "0.34461895469142134\n",
            "5.921196619453055\n",
            "7.425633910244147\n",
            "1.4177192440789599\n",
            "6.155420158346644\n",
            "4.094311993547136\n",
            "9.367003071126504\n",
            "6\n",
            "s\n"
          ]
        }
      ]
    },
    {
      "cell_type": "code",
      "source": [
        "from datetime import date, time\n",
        "\n",
        "current = date.today()\n",
        "\n",
        "print(current)\n",
        "print(current.day)\n",
        "print(current.month)\n",
        "print(current.year)\n",
        "\n",
        "timing = time()\n",
        "\n",
        "print(timing)"
      ],
      "metadata": {
        "colab": {
          "base_uri": "https://localhost:8080/"
        },
        "id": "uvqL0mJwX0Bb",
        "outputId": "95296559-dd8c-448b-e255-8da58199f040"
      },
      "execution_count": 104,
      "outputs": [
        {
          "output_type": "stream",
          "name": "stdout",
          "text": [
            "2024-12-13\n",
            "13\n",
            "12\n",
            "2024\n",
            "00:00:00\n"
          ]
        }
      ]
    },
    {
      "cell_type": "code",
      "source": [
        "help('datetime')"
      ],
      "metadata": {
        "colab": {
          "base_uri": "https://localhost:8080/"
        },
        "id": "0TlI7QpkYl3G",
        "outputId": "ea9648ce-d879-4bd9-dcfc-c69f6f5112fb"
      },
      "execution_count": 105,
      "outputs": [
        {
          "output_type": "stream",
          "name": "stdout",
          "text": [
            "Help on module datetime:\n",
            "\n",
            "NAME\n",
            "    datetime - Fast implementation of the datetime type.\n",
            "\n",
            "MODULE REFERENCE\n",
            "    https://docs.python.org/3.10/library/datetime.html\n",
            "    \n",
            "    The following documentation is automatically generated from the Python\n",
            "    source files.  It may be incomplete, incorrect or include features that\n",
            "    are considered implementation detail and may vary between Python\n",
            "    implementations.  When in doubt, consult the module reference at the\n",
            "    location listed above.\n",
            "\n",
            "CLASSES\n",
            "    builtins.object\n",
            "        date\n",
            "            datetime\n",
            "        time\n",
            "        timedelta\n",
            "        tzinfo\n",
            "            timezone\n",
            "    \n",
            "    class date(builtins.object)\n",
            "     |  date(year, month, day) --> date object\n",
            "     |  \n",
            "     |  Methods defined here:\n",
            "     |  \n",
            "     |  __add__(self, value, /)\n",
            "     |      Return self+value.\n",
            "     |  \n",
            "     |  __eq__(self, value, /)\n",
            "     |      Return self==value.\n",
            "     |  \n",
            "     |  __format__(...)\n",
            "     |      Formats self with strftime.\n",
            "     |  \n",
            "     |  __ge__(self, value, /)\n",
            "     |      Return self>=value.\n",
            "     |  \n",
            "     |  __getattribute__(self, name, /)\n",
            "     |      Return getattr(self, name).\n",
            "     |  \n",
            "     |  __gt__(self, value, /)\n",
            "     |      Return self>value.\n",
            "     |  \n",
            "     |  __hash__(self, /)\n",
            "     |      Return hash(self).\n",
            "     |  \n",
            "     |  __le__(self, value, /)\n",
            "     |      Return self<=value.\n",
            "     |  \n",
            "     |  __lt__(self, value, /)\n",
            "     |      Return self<value.\n",
            "     |  \n",
            "     |  __ne__(self, value, /)\n",
            "     |      Return self!=value.\n",
            "     |  \n",
            "     |  __radd__(self, value, /)\n",
            "     |      Return value+self.\n",
            "     |  \n",
            "     |  __reduce__(...)\n",
            "     |      __reduce__() -> (cls, state)\n",
            "     |  \n",
            "     |  __repr__(self, /)\n",
            "     |      Return repr(self).\n",
            "     |  \n",
            "     |  __rsub__(self, value, /)\n",
            "     |      Return value-self.\n",
            "     |  \n",
            "     |  __str__(self, /)\n",
            "     |      Return str(self).\n",
            "     |  \n",
            "     |  __sub__(self, value, /)\n",
            "     |      Return self-value.\n",
            "     |  \n",
            "     |  ctime(...)\n",
            "     |      Return ctime() style string.\n",
            "     |  \n",
            "     |  isocalendar(...)\n",
            "     |      Return a named tuple containing ISO year, week number, and weekday.\n",
            "     |  \n",
            "     |  isoformat(...)\n",
            "     |      Return string in ISO 8601 format, YYYY-MM-DD.\n",
            "     |  \n",
            "     |  isoweekday(...)\n",
            "     |      Return the day of the week represented by the date.\n",
            "     |      Monday == 1 ... Sunday == 7\n",
            "     |  \n",
            "     |  replace(...)\n",
            "     |      Return date with new specified fields.\n",
            "     |  \n",
            "     |  strftime(...)\n",
            "     |      format -> strftime() style string.\n",
            "     |  \n",
            "     |  timetuple(...)\n",
            "     |      Return time tuple, compatible with time.localtime().\n",
            "     |  \n",
            "     |  toordinal(...)\n",
            "     |      Return proleptic Gregorian ordinal.  January 1 of year 1 is day 1.\n",
            "     |  \n",
            "     |  weekday(...)\n",
            "     |      Return the day of the week represented by the date.\n",
            "     |      Monday == 0 ... Sunday == 6\n",
            "     |  \n",
            "     |  ----------------------------------------------------------------------\n",
            "     |  Class methods defined here:\n",
            "     |  \n",
            "     |  fromisocalendar(...) from builtins.type\n",
            "     |      int, int, int -> Construct a date from the ISO year, week number and weekday.\n",
            "     |      \n",
            "     |      This is the inverse of the date.isocalendar() function\n",
            "     |  \n",
            "     |  fromisoformat(...) from builtins.type\n",
            "     |      str -> Construct a date from the output of date.isoformat()\n",
            "     |  \n",
            "     |  fromordinal(...) from builtins.type\n",
            "     |      int -> date corresponding to a proleptic Gregorian ordinal.\n",
            "     |  \n",
            "     |  fromtimestamp(timestamp, /) from builtins.type\n",
            "     |      Create a date from a POSIX timestamp.\n",
            "     |      \n",
            "     |      The timestamp is a number, e.g. created via time.time(), that is interpreted\n",
            "     |      as local time.\n",
            "     |  \n",
            "     |  today(...) from builtins.type\n",
            "     |      Current date or datetime:  same as self.__class__.fromtimestamp(time.time()).\n",
            "     |  \n",
            "     |  ----------------------------------------------------------------------\n",
            "     |  Static methods defined here:\n",
            "     |  \n",
            "     |  __new__(*args, **kwargs) from builtins.type\n",
            "     |      Create and return a new object.  See help(type) for accurate signature.\n",
            "     |  \n",
            "     |  ----------------------------------------------------------------------\n",
            "     |  Data descriptors defined here:\n",
            "     |  \n",
            "     |  day\n",
            "     |  \n",
            "     |  month\n",
            "     |  \n",
            "     |  year\n",
            "     |  \n",
            "     |  ----------------------------------------------------------------------\n",
            "     |  Data and other attributes defined here:\n",
            "     |  \n",
            "     |  max = datetime.date(9999, 12, 31)\n",
            "     |  \n",
            "     |  min = datetime.date(1, 1, 1)\n",
            "     |  \n",
            "     |  resolution = datetime.timedelta(days=1)\n",
            "    \n",
            "    class datetime(date)\n",
            "     |  datetime(year, month, day[, hour[, minute[, second[, microsecond[,tzinfo]]]]])\n",
            "     |  \n",
            "     |  The year, month and day arguments are required. tzinfo may be None, or an\n",
            "     |  instance of a tzinfo subclass. The remaining arguments may be ints.\n",
            "     |  \n",
            "     |  Method resolution order:\n",
            "     |      datetime\n",
            "     |      date\n",
            "     |      builtins.object\n",
            "     |  \n",
            "     |  Methods defined here:\n",
            "     |  \n",
            "     |  __add__(self, value, /)\n",
            "     |      Return self+value.\n",
            "     |  \n",
            "     |  __eq__(self, value, /)\n",
            "     |      Return self==value.\n",
            "     |  \n",
            "     |  __ge__(self, value, /)\n",
            "     |      Return self>=value.\n",
            "     |  \n",
            "     |  __getattribute__(self, name, /)\n",
            "     |      Return getattr(self, name).\n",
            "     |  \n",
            "     |  __gt__(self, value, /)\n",
            "     |      Return self>value.\n",
            "     |  \n",
            "     |  __hash__(self, /)\n",
            "     |      Return hash(self).\n",
            "     |  \n",
            "     |  __le__(self, value, /)\n",
            "     |      Return self<=value.\n",
            "     |  \n",
            "     |  __lt__(self, value, /)\n",
            "     |      Return self<value.\n",
            "     |  \n",
            "     |  __ne__(self, value, /)\n",
            "     |      Return self!=value.\n",
            "     |  \n",
            "     |  __radd__(self, value, /)\n",
            "     |      Return value+self.\n",
            "     |  \n",
            "     |  __reduce__(...)\n",
            "     |      __reduce__() -> (cls, state)\n",
            "     |  \n",
            "     |  __reduce_ex__(...)\n",
            "     |      __reduce_ex__(proto) -> (cls, state)\n",
            "     |  \n",
            "     |  __repr__(self, /)\n",
            "     |      Return repr(self).\n",
            "     |  \n",
            "     |  __rsub__(self, value, /)\n",
            "     |      Return value-self.\n",
            "     |  \n",
            "     |  __str__(self, /)\n",
            "     |      Return str(self).\n",
            "     |  \n",
            "     |  __sub__(self, value, /)\n",
            "     |      Return self-value.\n",
            "     |  \n",
            "     |  astimezone(...)\n",
            "     |      tz -> convert to local time in new timezone tz\n",
            "     |  \n",
            "     |  ctime(...)\n",
            "     |      Return ctime() style string.\n",
            "     |  \n",
            "     |  date(...)\n",
            "     |      Return date object with same year, month and day.\n",
            "     |  \n",
            "     |  dst(...)\n",
            "     |      Return self.tzinfo.dst(self).\n",
            "     |  \n",
            "     |  isoformat(...)\n",
            "     |      [sep] -> string in ISO 8601 format, YYYY-MM-DDT[HH[:MM[:SS[.mmm[uuu]]]]][+HH:MM].\n",
            "     |      sep is used to separate the year from the time, and defaults to 'T'.\n",
            "     |      The optional argument timespec specifies the number of additional terms\n",
            "     |      of the time to include. Valid options are 'auto', 'hours', 'minutes',\n",
            "     |      'seconds', 'milliseconds' and 'microseconds'.\n",
            "     |  \n",
            "     |  replace(...)\n",
            "     |      Return datetime with new specified fields.\n",
            "     |  \n",
            "     |  time(...)\n",
            "     |      Return time object with same time but with tzinfo=None.\n",
            "     |  \n",
            "     |  timestamp(...)\n",
            "     |      Return POSIX timestamp as float.\n",
            "     |  \n",
            "     |  timetuple(...)\n",
            "     |      Return time tuple, compatible with time.localtime().\n",
            "     |  \n",
            "     |  timetz(...)\n",
            "     |      Return time object with same time and tzinfo.\n",
            "     |  \n",
            "     |  tzname(...)\n",
            "     |      Return self.tzinfo.tzname(self).\n",
            "     |  \n",
            "     |  utcoffset(...)\n",
            "     |      Return self.tzinfo.utcoffset(self).\n",
            "     |  \n",
            "     |  utctimetuple(...)\n",
            "     |      Return UTC time tuple, compatible with time.localtime().\n",
            "     |  \n",
            "     |  ----------------------------------------------------------------------\n",
            "     |  Class methods defined here:\n",
            "     |  \n",
            "     |  combine(...) from builtins.type\n",
            "     |      date, time -> datetime with same date and time fields\n",
            "     |  \n",
            "     |  fromisoformat(...) from builtins.type\n",
            "     |      string -> datetime from datetime.isoformat() output\n",
            "     |  \n",
            "     |  fromtimestamp(...) from builtins.type\n",
            "     |      timestamp[, tz] -> tz's local time from POSIX timestamp.\n",
            "     |  \n",
            "     |  now(tz=None) from builtins.type\n",
            "     |      Returns new datetime object representing current time local to tz.\n",
            "     |      \n",
            "     |        tz\n",
            "     |          Timezone object.\n",
            "     |      \n",
            "     |      If no tz is specified, uses local timezone.\n",
            "     |  \n",
            "     |  strptime(...) from builtins.type\n",
            "     |      string, format -> new datetime parsed from a string (like time.strptime()).\n",
            "     |  \n",
            "     |  utcfromtimestamp(...) from builtins.type\n",
            "     |      Construct a naive UTC datetime from a POSIX timestamp.\n",
            "     |  \n",
            "     |  utcnow(...) from builtins.type\n",
            "     |      Return a new datetime representing UTC day and time.\n",
            "     |  \n",
            "     |  ----------------------------------------------------------------------\n",
            "     |  Static methods defined here:\n",
            "     |  \n",
            "     |  __new__(*args, **kwargs) from builtins.type\n",
            "     |      Create and return a new object.  See help(type) for accurate signature.\n",
            "     |  \n",
            "     |  ----------------------------------------------------------------------\n",
            "     |  Data descriptors defined here:\n",
            "     |  \n",
            "     |  fold\n",
            "     |  \n",
            "     |  hour\n",
            "     |  \n",
            "     |  microsecond\n",
            "     |  \n",
            "     |  minute\n",
            "     |  \n",
            "     |  second\n",
            "     |  \n",
            "     |  tzinfo\n",
            "     |  \n",
            "     |  ----------------------------------------------------------------------\n",
            "     |  Data and other attributes defined here:\n",
            "     |  \n",
            "     |  max = datetime.datetime(9999, 12, 31, 23, 59, 59, 999999)\n",
            "     |  \n",
            "     |  min = datetime.datetime(1, 1, 1, 0, 0)\n",
            "     |  \n",
            "     |  resolution = datetime.timedelta(microseconds=1)\n",
            "     |  \n",
            "     |  ----------------------------------------------------------------------\n",
            "     |  Methods inherited from date:\n",
            "     |  \n",
            "     |  __format__(...)\n",
            "     |      Formats self with strftime.\n",
            "     |  \n",
            "     |  isocalendar(...)\n",
            "     |      Return a named tuple containing ISO year, week number, and weekday.\n",
            "     |  \n",
            "     |  isoweekday(...)\n",
            "     |      Return the day of the week represented by the date.\n",
            "     |      Monday == 1 ... Sunday == 7\n",
            "     |  \n",
            "     |  strftime(...)\n",
            "     |      format -> strftime() style string.\n",
            "     |  \n",
            "     |  toordinal(...)\n",
            "     |      Return proleptic Gregorian ordinal.  January 1 of year 1 is day 1.\n",
            "     |  \n",
            "     |  weekday(...)\n",
            "     |      Return the day of the week represented by the date.\n",
            "     |      Monday == 0 ... Sunday == 6\n",
            "     |  \n",
            "     |  ----------------------------------------------------------------------\n",
            "     |  Class methods inherited from date:\n",
            "     |  \n",
            "     |  fromisocalendar(...) from builtins.type\n",
            "     |      int, int, int -> Construct a date from the ISO year, week number and weekday.\n",
            "     |      \n",
            "     |      This is the inverse of the date.isocalendar() function\n",
            "     |  \n",
            "     |  fromordinal(...) from builtins.type\n",
            "     |      int -> date corresponding to a proleptic Gregorian ordinal.\n",
            "     |  \n",
            "     |  today(...) from builtins.type\n",
            "     |      Current date or datetime:  same as self.__class__.fromtimestamp(time.time()).\n",
            "     |  \n",
            "     |  ----------------------------------------------------------------------\n",
            "     |  Data descriptors inherited from date:\n",
            "     |  \n",
            "     |  day\n",
            "     |  \n",
            "     |  month\n",
            "     |  \n",
            "     |  year\n",
            "    \n",
            "    class time(builtins.object)\n",
            "     |  time([hour[, minute[, second[, microsecond[, tzinfo]]]]]) --> a time object\n",
            "     |  \n",
            "     |  All arguments are optional. tzinfo may be None, or an instance of\n",
            "     |  a tzinfo subclass. The remaining arguments may be ints.\n",
            "     |  \n",
            "     |  Methods defined here:\n",
            "     |  \n",
            "     |  __eq__(self, value, /)\n",
            "     |      Return self==value.\n",
            "     |  \n",
            "     |  __format__(...)\n",
            "     |      Formats self with strftime.\n",
            "     |  \n",
            "     |  __ge__(self, value, /)\n",
            "     |      Return self>=value.\n",
            "     |  \n",
            "     |  __getattribute__(self, name, /)\n",
            "     |      Return getattr(self, name).\n",
            "     |  \n",
            "     |  __gt__(self, value, /)\n",
            "     |      Return self>value.\n",
            "     |  \n",
            "     |  __hash__(self, /)\n",
            "     |      Return hash(self).\n",
            "     |  \n",
            "     |  __le__(self, value, /)\n",
            "     |      Return self<=value.\n",
            "     |  \n",
            "     |  __lt__(self, value, /)\n",
            "     |      Return self<value.\n",
            "     |  \n",
            "     |  __ne__(self, value, /)\n",
            "     |      Return self!=value.\n",
            "     |  \n",
            "     |  __reduce__(...)\n",
            "     |      __reduce__() -> (cls, state)\n",
            "     |  \n",
            "     |  __reduce_ex__(...)\n",
            "     |      __reduce_ex__(proto) -> (cls, state)\n",
            "     |  \n",
            "     |  __repr__(self, /)\n",
            "     |      Return repr(self).\n",
            "     |  \n",
            "     |  __str__(self, /)\n",
            "     |      Return str(self).\n",
            "     |  \n",
            "     |  dst(...)\n",
            "     |      Return self.tzinfo.dst(self).\n",
            "     |  \n",
            "     |  isoformat(...)\n",
            "     |      Return string in ISO 8601 format, [HH[:MM[:SS[.mmm[uuu]]]]][+HH:MM].\n",
            "     |      \n",
            "     |      The optional argument timespec specifies the number of additional terms\n",
            "     |      of the time to include. Valid options are 'auto', 'hours', 'minutes',\n",
            "     |      'seconds', 'milliseconds' and 'microseconds'.\n",
            "     |  \n",
            "     |  replace(...)\n",
            "     |      Return time with new specified fields.\n",
            "     |  \n",
            "     |  strftime(...)\n",
            "     |      format -> strftime() style string.\n",
            "     |  \n",
            "     |  tzname(...)\n",
            "     |      Return self.tzinfo.tzname(self).\n",
            "     |  \n",
            "     |  utcoffset(...)\n",
            "     |      Return self.tzinfo.utcoffset(self).\n",
            "     |  \n",
            "     |  ----------------------------------------------------------------------\n",
            "     |  Class methods defined here:\n",
            "     |  \n",
            "     |  fromisoformat(...) from builtins.type\n",
            "     |      string -> time from time.isoformat() output\n",
            "     |  \n",
            "     |  ----------------------------------------------------------------------\n",
            "     |  Static methods defined here:\n",
            "     |  \n",
            "     |  __new__(*args, **kwargs) from builtins.type\n",
            "     |      Create and return a new object.  See help(type) for accurate signature.\n",
            "     |  \n",
            "     |  ----------------------------------------------------------------------\n",
            "     |  Data descriptors defined here:\n",
            "     |  \n",
            "     |  fold\n",
            "     |  \n",
            "     |  hour\n",
            "     |  \n",
            "     |  microsecond\n",
            "     |  \n",
            "     |  minute\n",
            "     |  \n",
            "     |  second\n",
            "     |  \n",
            "     |  tzinfo\n",
            "     |  \n",
            "     |  ----------------------------------------------------------------------\n",
            "     |  Data and other attributes defined here:\n",
            "     |  \n",
            "     |  max = datetime.time(23, 59, 59, 999999)\n",
            "     |  \n",
            "     |  min = datetime.time(0, 0)\n",
            "     |  \n",
            "     |  resolution = datetime.timedelta(microseconds=1)\n",
            "    \n",
            "    class timedelta(builtins.object)\n",
            "     |  Difference between two datetime values.\n",
            "     |  \n",
            "     |  timedelta(days=0, seconds=0, microseconds=0, milliseconds=0, minutes=0, hours=0, weeks=0)\n",
            "     |  \n",
            "     |  All arguments are optional and default to 0.\n",
            "     |  Arguments may be integers or floats, and may be positive or negative.\n",
            "     |  \n",
            "     |  Methods defined here:\n",
            "     |  \n",
            "     |  __abs__(self, /)\n",
            "     |      abs(self)\n",
            "     |  \n",
            "     |  __add__(self, value, /)\n",
            "     |      Return self+value.\n",
            "     |  \n",
            "     |  __bool__(self, /)\n",
            "     |      True if self else False\n",
            "     |  \n",
            "     |  __divmod__(self, value, /)\n",
            "     |      Return divmod(self, value).\n",
            "     |  \n",
            "     |  __eq__(self, value, /)\n",
            "     |      Return self==value.\n",
            "     |  \n",
            "     |  __floordiv__(self, value, /)\n",
            "     |      Return self//value.\n",
            "     |  \n",
            "     |  __ge__(self, value, /)\n",
            "     |      Return self>=value.\n",
            "     |  \n",
            "     |  __getattribute__(self, name, /)\n",
            "     |      Return getattr(self, name).\n",
            "     |  \n",
            "     |  __gt__(self, value, /)\n",
            "     |      Return self>value.\n",
            "     |  \n",
            "     |  __hash__(self, /)\n",
            "     |      Return hash(self).\n",
            "     |  \n",
            "     |  __le__(self, value, /)\n",
            "     |      Return self<=value.\n",
            "     |  \n",
            "     |  __lt__(self, value, /)\n",
            "     |      Return self<value.\n",
            "     |  \n",
            "     |  __mod__(self, value, /)\n",
            "     |      Return self%value.\n",
            "     |  \n",
            "     |  __mul__(self, value, /)\n",
            "     |      Return self*value.\n",
            "     |  \n",
            "     |  __ne__(self, value, /)\n",
            "     |      Return self!=value.\n",
            "     |  \n",
            "     |  __neg__(self, /)\n",
            "     |      -self\n",
            "     |  \n",
            "     |  __pos__(self, /)\n",
            "     |      +self\n",
            "     |  \n",
            "     |  __radd__(self, value, /)\n",
            "     |      Return value+self.\n",
            "     |  \n",
            "     |  __rdivmod__(self, value, /)\n",
            "     |      Return divmod(value, self).\n",
            "     |  \n",
            "     |  __reduce__(...)\n",
            "     |      __reduce__() -> (cls, state)\n",
            "     |  \n",
            "     |  __repr__(self, /)\n",
            "     |      Return repr(self).\n",
            "     |  \n",
            "     |  __rfloordiv__(self, value, /)\n",
            "     |      Return value//self.\n",
            "     |  \n",
            "     |  __rmod__(self, value, /)\n",
            "     |      Return value%self.\n",
            "     |  \n",
            "     |  __rmul__(self, value, /)\n",
            "     |      Return value*self.\n",
            "     |  \n",
            "     |  __rsub__(self, value, /)\n",
            "     |      Return value-self.\n",
            "     |  \n",
            "     |  __rtruediv__(self, value, /)\n",
            "     |      Return value/self.\n",
            "     |  \n",
            "     |  __str__(self, /)\n",
            "     |      Return str(self).\n",
            "     |  \n",
            "     |  __sub__(self, value, /)\n",
            "     |      Return self-value.\n",
            "     |  \n",
            "     |  __truediv__(self, value, /)\n",
            "     |      Return self/value.\n",
            "     |  \n",
            "     |  total_seconds(...)\n",
            "     |      Total seconds in the duration.\n",
            "     |  \n",
            "     |  ----------------------------------------------------------------------\n",
            "     |  Static methods defined here:\n",
            "     |  \n",
            "     |  __new__(*args, **kwargs) from builtins.type\n",
            "     |      Create and return a new object.  See help(type) for accurate signature.\n",
            "     |  \n",
            "     |  ----------------------------------------------------------------------\n",
            "     |  Data descriptors defined here:\n",
            "     |  \n",
            "     |  days\n",
            "     |      Number of days.\n",
            "     |  \n",
            "     |  microseconds\n",
            "     |      Number of microseconds (>= 0 and less than 1 second).\n",
            "     |  \n",
            "     |  seconds\n",
            "     |      Number of seconds (>= 0 and less than 1 day).\n",
            "     |  \n",
            "     |  ----------------------------------------------------------------------\n",
            "     |  Data and other attributes defined here:\n",
            "     |  \n",
            "     |  max = datetime.timedelta(days=999999999, seconds=86399, microseconds=9...\n",
            "     |  \n",
            "     |  min = datetime.timedelta(days=-999999999)\n",
            "     |  \n",
            "     |  resolution = datetime.timedelta(microseconds=1)\n",
            "    \n",
            "    class timezone(tzinfo)\n",
            "     |  Fixed offset from UTC implementation of tzinfo.\n",
            "     |  \n",
            "     |  Method resolution order:\n",
            "     |      timezone\n",
            "     |      tzinfo\n",
            "     |      builtins.object\n",
            "     |  \n",
            "     |  Methods defined here:\n",
            "     |  \n",
            "     |  __eq__(self, value, /)\n",
            "     |      Return self==value.\n",
            "     |  \n",
            "     |  __ge__(self, value, /)\n",
            "     |      Return self>=value.\n",
            "     |  \n",
            "     |  __getinitargs__(...)\n",
            "     |      pickle support\n",
            "     |  \n",
            "     |  __gt__(self, value, /)\n",
            "     |      Return self>value.\n",
            "     |  \n",
            "     |  __hash__(self, /)\n",
            "     |      Return hash(self).\n",
            "     |  \n",
            "     |  __le__(self, value, /)\n",
            "     |      Return self<=value.\n",
            "     |  \n",
            "     |  __lt__(self, value, /)\n",
            "     |      Return self<value.\n",
            "     |  \n",
            "     |  __ne__(self, value, /)\n",
            "     |      Return self!=value.\n",
            "     |  \n",
            "     |  __repr__(self, /)\n",
            "     |      Return repr(self).\n",
            "     |  \n",
            "     |  __str__(self, /)\n",
            "     |      Return str(self).\n",
            "     |  \n",
            "     |  dst(...)\n",
            "     |      Return None.\n",
            "     |  \n",
            "     |  fromutc(...)\n",
            "     |      datetime in UTC -> datetime in local time.\n",
            "     |  \n",
            "     |  tzname(...)\n",
            "     |      If name is specified when timezone is created, returns the name.  Otherwise returns offset as 'UTC(+|-)HH:MM'.\n",
            "     |  \n",
            "     |  utcoffset(...)\n",
            "     |      Return fixed offset.\n",
            "     |  \n",
            "     |  ----------------------------------------------------------------------\n",
            "     |  Static methods defined here:\n",
            "     |  \n",
            "     |  __new__(*args, **kwargs) from builtins.type\n",
            "     |      Create and return a new object.  See help(type) for accurate signature.\n",
            "     |  \n",
            "     |  ----------------------------------------------------------------------\n",
            "     |  Data and other attributes defined here:\n",
            "     |  \n",
            "     |  max = datetime.timezone(datetime.timedelta(seconds=86340))\n",
            "     |  \n",
            "     |  min = datetime.timezone(datetime.timedelta(days=-1, seconds=60))\n",
            "     |  \n",
            "     |  utc = datetime.timezone.utc\n",
            "     |  \n",
            "     |  ----------------------------------------------------------------------\n",
            "     |  Methods inherited from tzinfo:\n",
            "     |  \n",
            "     |  __getattribute__(self, name, /)\n",
            "     |      Return getattr(self, name).\n",
            "     |  \n",
            "     |  __reduce__(...)\n",
            "     |      -> (cls, state)\n",
            "    \n",
            "    class tzinfo(builtins.object)\n",
            "     |  Abstract base class for time zone info objects.\n",
            "     |  \n",
            "     |  Methods defined here:\n",
            "     |  \n",
            "     |  __getattribute__(self, name, /)\n",
            "     |      Return getattr(self, name).\n",
            "     |  \n",
            "     |  __reduce__(...)\n",
            "     |      -> (cls, state)\n",
            "     |  \n",
            "     |  dst(...)\n",
            "     |      datetime -> DST offset as timedelta positive east of UTC.\n",
            "     |  \n",
            "     |  fromutc(...)\n",
            "     |      datetime in UTC -> datetime in local time.\n",
            "     |  \n",
            "     |  tzname(...)\n",
            "     |      datetime -> string name of time zone.\n",
            "     |  \n",
            "     |  utcoffset(...)\n",
            "     |      datetime -> timedelta showing offset from UTC, negative values indicating West of UTC\n",
            "     |  \n",
            "     |  ----------------------------------------------------------------------\n",
            "     |  Static methods defined here:\n",
            "     |  \n",
            "     |  __new__(*args, **kwargs) from builtins.type\n",
            "     |      Create and return a new object.  See help(type) for accurate signature.\n",
            "\n",
            "DATA\n",
            "    MAXYEAR = 9999\n",
            "    MINYEAR = 1\n",
            "    __all__ = ('date', 'datetime', 'time', 'timedelta', 'timezone', 'tzinf...\n",
            "\n",
            "FILE\n",
            "    /usr/lib/python3.10/datetime.py\n",
            "\n",
            "\n"
          ]
        }
      ]
    },
    {
      "cell_type": "code",
      "source": [
        "i = 5\n",
        "while i < 10:\n",
        "  print(i)\n",
        "  i += 1\n",
        "else:\n",
        "  print(\"limit reached\", i)"
      ],
      "metadata": {
        "colab": {
          "base_uri": "https://localhost:8080/"
        },
        "id": "h10Koz33Zcly",
        "outputId": "786b8cbb-92c2-4cb6-8cb0-14110183ee28"
      },
      "execution_count": 108,
      "outputs": [
        {
          "output_type": "stream",
          "name": "stdout",
          "text": [
            "5\n",
            "6\n",
            "7\n",
            "8\n",
            "9\n",
            "limit reached 10\n"
          ]
        }
      ]
    },
    {
      "cell_type": "code",
      "source": [
        "# Guessing Game\n",
        "range = int(input(\"Enter the range from 1 to max : \"))\n",
        "\n",
        "def guess(range):\n",
        "  jackpot = random.randint(1, range)\n",
        "  print(f\"Guess from 1 to {range}\")\n",
        "  cnt = 1\n",
        "  guess = int(input(\"Guess : \"))\n",
        "  while guess is not jackpot:\n",
        "    if guess > jackpot:\n",
        "      print(\"Go Lower\")\n",
        "    else:\n",
        "      print(\"Go Higher\")\n",
        "    guess = int(input(\"Guess : \"))\n",
        "    cnt += 1\n",
        "  else:\n",
        "    print(\"🏆❄️❄️\")\n",
        "    print(\"No. of guess you took = \", cnt)\n",
        "\n",
        "guess(range)"
      ],
      "metadata": {
        "colab": {
          "base_uri": "https://localhost:8080/"
        },
        "id": "jQdepjw6aSYw",
        "outputId": "253bd42d-7b74-4ea8-bc13-8d4d83558b2e"
      },
      "execution_count": 110,
      "outputs": [
        {
          "output_type": "stream",
          "name": "stdout",
          "text": [
            "Enter the range from 1 to max : 10\n",
            "Guess from 1 to 10\n",
            "Guess : 5\n",
            "Go Higher\n",
            "Guess : 8\n",
            "Go Higher\n",
            "Guess : 9\n",
            "🏆❄️❄️\n",
            "No. of guess you took =  3\n"
          ]
        }
      ]
    },
    {
      "cell_type": "code",
      "source": [
        "print(arr)\n",
        "\n",
        "for i in arr:\n",
        "  print(i, end=\" \")\n",
        "\n",
        "print()\n",
        "\n",
        "for idx, val in enumerate(arr):\n",
        "  print(idx, val)"
      ],
      "metadata": {
        "colab": {
          "base_uri": "https://localhost:8080/"
        },
        "id": "TU-ZbI7zclz7",
        "outputId": "a11b0e7d-f624-4a14-ce19-12045932a743"
      },
      "execution_count": 124,
      "outputs": [
        {
          "output_type": "stream",
          "name": "stdout",
          "text": [
            "[1, 3, 5, 7, 8, 9, 13]\n",
            "1 3 5 7 8 9 13 \n",
            "0 1\n",
            "1 3\n",
            "2 5\n",
            "3 7\n",
            "4 8\n",
            "5 9\n",
            "6 13\n"
          ]
        }
      ]
    },
    {
      "cell_type": "code",
      "source": [
        "person"
      ],
      "metadata": {
        "colab": {
          "base_uri": "https://localhost:8080/"
        },
        "id": "zUW5vWwedYSm",
        "outputId": "9c0cbb80-5543-48f5-fd85-48f0acbd8327"
      },
      "execution_count": 116,
      "outputs": [
        {
          "output_type": "execute_result",
          "data": {
            "text/plain": [
              "{'name': 'Adii', 'gender': 'Male', 'age': 19}"
            ]
          },
          "metadata": {},
          "execution_count": 116
        }
      ]
    },
    {
      "cell_type": "code",
      "source": [
        "for key, val in person.items():\n",
        "  print(key, val)\n",
        "\n",
        "for key in person:\n",
        "  print(key)\n",
        "\n",
        "for val in person.values():\n",
        "  print(val)\n",
        "\n",
        "for key in person.keys():\n",
        "  print(key)"
      ],
      "metadata": {
        "colab": {
          "base_uri": "https://localhost:8080/"
        },
        "id": "f33hpTFbdpZ1",
        "outputId": "1527a58a-7389-4074-c466-8d96a1e331b9"
      },
      "execution_count": 121,
      "outputs": [
        {
          "output_type": "stream",
          "name": "stdout",
          "text": [
            "name Adii\n",
            "gender Male\n",
            "age 19\n",
            "name\n",
            "gender\n",
            "age\n",
            "Adii\n",
            "Male\n",
            "19\n",
            "name\n",
            "gender\n",
            "age\n"
          ]
        }
      ]
    },
    {
      "cell_type": "code",
      "source": [],
      "metadata": {
        "id": "qVcxWBmBeG2D"
      },
      "execution_count": null,
      "outputs": []
    }
  ]
}
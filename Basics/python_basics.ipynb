{
  "nbformat": 4,
  "nbformat_minor": 0,
  "metadata": {
    "colab": {
      "provenance": [],
      "authorship_tag": "ABX9TyPlM8RuPEDeFXsUdkKw9qrF",
      "include_colab_link": true
    },
    "kernelspec": {
      "name": "python3",
      "display_name": "Python 3"
    },
    "language_info": {
      "name": "python"
    }
  },
  "cells": [
    {
      "cell_type": "markdown",
      "metadata": {
        "id": "view-in-github",
        "colab_type": "text"
      },
      "source": [
        "<a href=\"https://colab.research.google.com/github/idityaGE/Python/blob/main/Basics/python_basics.ipynb\" target=\"_parent\"><img src=\"https://colab.research.google.com/assets/colab-badge.svg\" alt=\"Open In Colab\"/></a>"
      ]
    },
    {
      "cell_type": "code",
      "execution_count": 69,
      "metadata": {
        "colab": {
          "base_uri": "https://localhost:8080/"
        },
        "id": "qH7tV0tPJtra",
        "outputId": "2ae28c35-c993-4eb7-e260-4ca87f6a4ac2"
      },
      "outputs": [
        {
          "output_type": "stream",
          "name": "stdout",
          "text": [
            "Hello World\n"
          ]
        }
      ],
      "source": [
        "print(\"Hello World\")"
      ]
    },
    {
      "cell_type": "code",
      "source": [
        "print(\"Adii\", 1, 1.4, True, 5+6j, sep='--', end=\" ?\")"
      ],
      "metadata": {
        "colab": {
          "base_uri": "https://localhost:8080/"
        },
        "id": "cQwZ9qlIKsBV",
        "outputId": "718d7cb4-a32d-4a6e-e43a-ec867fbe1f3a"
      },
      "execution_count": 70,
      "outputs": [
        {
          "output_type": "stream",
          "name": "stdout",
          "text": [
            "Adii--1--1.4--True--(5+6j) ?"
          ]
        }
      ]
    },
    {
      "cell_type": "code",
      "source": [
        "arr= [1,2,3,4,5]\n",
        "arr"
      ],
      "metadata": {
        "colab": {
          "base_uri": "https://localhost:8080/"
        },
        "id": "w3VGU_7mK7Y7",
        "outputId": "23f07834-ac73-4c97-aede-60323e760423"
      },
      "execution_count": 71,
      "outputs": [
        {
          "output_type": "execute_result",
          "data": {
            "text/plain": [
              "[1, 2, 3, 4, 5]"
            ]
          },
          "metadata": {},
          "execution_count": 71
        }
      ]
    },
    {
      "cell_type": "code",
      "source": [
        "set_={1,3,3,5,7,3,5}\n",
        "set_"
      ],
      "metadata": {
        "colab": {
          "base_uri": "https://localhost:8080/"
        },
        "id": "aNT1D1RoLXUV",
        "outputId": "2d831701-aff6-4abc-f742-4c6d595ae542"
      },
      "execution_count": 72,
      "outputs": [
        {
          "output_type": "execute_result",
          "data": {
            "text/plain": [
              "{1, 3, 5, 7}"
            ]
          },
          "metadata": {},
          "execution_count": 72
        }
      ]
    },
    {
      "cell_type": "code",
      "source": [
        "tp = tuple(arr)\n",
        "tp"
      ],
      "metadata": {
        "colab": {
          "base_uri": "https://localhost:8080/"
        },
        "id": "WDrvKJJILmyq",
        "outputId": "ee6fae0c-57e5-4843-dd7e-b73d5ec5b510"
      },
      "execution_count": 73,
      "outputs": [
        {
          "output_type": "execute_result",
          "data": {
            "text/plain": [
              "(1, 2, 3, 4, 5)"
            ]
          },
          "metadata": {},
          "execution_count": 73
        }
      ]
    },
    {
      "cell_type": "code",
      "source": [
        "person = {'name':'Adii', 'gender':'Male', 'age': 19}\n",
        "person"
      ],
      "metadata": {
        "colab": {
          "base_uri": "https://localhost:8080/"
        },
        "id": "RMmAMUp1LQcw",
        "outputId": "4514582c-6c59-4a40-863f-5c7d6f218a9d"
      },
      "execution_count": 74,
      "outputs": [
        {
          "output_type": "execute_result",
          "data": {
            "text/plain": [
              "{'name': 'Adii', 'gender': 'Male', 'age': 19}"
            ]
          },
          "metadata": {},
          "execution_count": 74
        }
      ]
    },
    {
      "cell_type": "code",
      "source": [
        "type(person)\n",
        "type(arr)"
      ],
      "metadata": {
        "colab": {
          "base_uri": "https://localhost:8080/"
        },
        "id": "pZvQ6KnBL5Ry",
        "outputId": "efc3be55-767f-4896-ddd7-2da83fcd03e6"
      },
      "execution_count": 75,
      "outputs": [
        {
          "output_type": "execute_result",
          "data": {
            "text/plain": [
              "list"
            ]
          },
          "metadata": {},
          "execution_count": 75
        }
      ]
    },
    {
      "cell_type": "code",
      "source": [
        "a = int(5)\n",
        "a"
      ],
      "metadata": {
        "colab": {
          "base_uri": "https://localhost:8080/"
        },
        "id": "fgKvC_VWL-I3",
        "outputId": "eaa98d97-5123-4405-c23c-4a5c5fb52c3a"
      },
      "execution_count": 10,
      "outputs": [
        {
          "output_type": "execute_result",
          "data": {
            "text/plain": [
              "5"
            ]
          },
          "metadata": {},
          "execution_count": 10
        }
      ]
    },
    {
      "cell_type": "code",
      "source": [
        "x, y, z = 5, 2.5, 3 + 7j\n",
        "x, y, z"
      ],
      "metadata": {
        "colab": {
          "base_uri": "https://localhost:8080/"
        },
        "id": "sVh2qcylMQ8W",
        "outputId": "39db14fa-2442-4ea7-a0a8-ead1ef0d09d0"
      },
      "execution_count": 11,
      "outputs": [
        {
          "output_type": "execute_result",
          "data": {
            "text/plain": [
              "(5, 2.5, (3+7j))"
            ]
          },
          "metadata": {},
          "execution_count": 11
        }
      ]
    },
    {
      "cell_type": "code",
      "source": [
        "#comment"
      ],
      "metadata": {
        "id": "veCGT57sMjhW"
      },
      "execution_count": 12,
      "outputs": []
    },
    {
      "cell_type": "code",
      "source": [
        "_ = \"nitish\"\n",
        "_"
      ],
      "metadata": {
        "colab": {
          "base_uri": "https://localhost:8080/",
          "height": 35
        },
        "id": "ypxjBMKCMquN",
        "outputId": "3e4c9f07-08fc-4a14-d9d6-6806d1ee16d8"
      },
      "execution_count": 13,
      "outputs": [
        {
          "output_type": "execute_result",
          "data": {
            "text/plain": [
              "'nitish'"
            ],
            "application/vnd.google.colaboratory.intrinsic+json": {
              "type": "string"
            }
          },
          "metadata": {},
          "execution_count": 13
        }
      ]
    },
    {
      "cell_type": "code",
      "source": [
        "num = int(input(\"Enter the value :\"))\n",
        "num"
      ],
      "metadata": {
        "colab": {
          "base_uri": "https://localhost:8080/"
        },
        "id": "-yEH8waeM7eb",
        "outputId": "1d89cf8f-f8cb-4cab-fa9b-400af3a4762d"
      },
      "execution_count": 17,
      "outputs": [
        {
          "name": "stdout",
          "output_type": "stream",
          "text": [
            "Enter the value :66\n"
          ]
        },
        {
          "output_type": "execute_result",
          "data": {
            "text/plain": [
              "66"
            ]
          },
          "metadata": {},
          "execution_count": 17
        }
      ]
    },
    {
      "cell_type": "code",
      "source": [
        "print(5+5.4)\n",
        "print(8 + 2+8j)\n",
        "print(5 / 2) # normal division\n",
        "print(5 // 2) # floor division"
      ],
      "metadata": {
        "colab": {
          "base_uri": "https://localhost:8080/"
        },
        "id": "2N1XOpMrNIgf",
        "outputId": "f19ea589-69fb-498a-acb9-f968198c4503"
      },
      "execution_count": 18,
      "outputs": [
        {
          "output_type": "stream",
          "name": "stdout",
          "text": [
            "10.4\n",
            "(10+8j)\n",
            "2.5\n",
            "2\n"
          ]
        }
      ]
    },
    {
      "cell_type": "code",
      "source": [
        "s = str(6666)\n",
        "s\n",
        "\n",
        "fl = float(533)\n",
        "fl"
      ],
      "metadata": {
        "colab": {
          "base_uri": "https://localhost:8080/"
        },
        "id": "RNd5TUAONWEA",
        "outputId": "ab69ad18-8e47-48fc-fec1-977b06ad9b81"
      },
      "execution_count": 19,
      "outputs": [
        {
          "output_type": "execute_result",
          "data": {
            "text/plain": [
              "533.0"
            ]
          },
          "metadata": {},
          "execution_count": 19
        }
      ]
    },
    {
      "cell_type": "code",
      "source": [
        "a = 0b1010 #Binary Literals\n",
        "b = 100 #Decimal Literal\n",
        "c = 0o310 #Octal Literal\n",
        "d = 0x12c #Hexadecimal Literal\n",
        "\n",
        "float_1 = 10.5\n",
        "float_2 = 1.5e6 # 1.5 * 10^6\n",
        "float_2 = 1.5e-6 # 1.5 * 10^-6\n",
        "\n",
        "x = 3.14j\n",
        "print(x, x.imag, x.real)"
      ],
      "metadata": {
        "colab": {
          "base_uri": "https://localhost:8080/"
        },
        "id": "WdefqnP0Nzz3",
        "outputId": "7d07a92d-fef5-4b72-9208-6c2db050ec47"
      },
      "execution_count": 20,
      "outputs": [
        {
          "output_type": "stream",
          "name": "stdout",
          "text": [
            "3.14j 3.14 0.0\n"
          ]
        }
      ]
    },
    {
      "cell_type": "code",
      "source": [
        "# string\n",
        "\n",
        "string = 'this is string'\n",
        "strings = \"this is string\"\n",
        "char = \"C\"\n",
        "multiline_str = \"\"\"\n",
        "lorem lorem\n",
        "lorem lorem\n",
        "lorem lorem\n",
        "\"\"\"\n",
        "unicode = u\"\\U0001f600\\U0001F606\\U0001F923\"\n",
        "unicode\n",
        "\n",
        "raw_str = r\"raw \\n string\"\n",
        "raw_str"
      ],
      "metadata": {
        "colab": {
          "base_uri": "https://localhost:8080/",
          "height": 35
        },
        "id": "AjhSLtKFOH59",
        "outputId": "8b0d801e-0b7a-4f82-90ed-e6b77c8c7c95"
      },
      "execution_count": 21,
      "outputs": [
        {
          "output_type": "execute_result",
          "data": {
            "text/plain": [
              "'raw \\\\n string'"
            ],
            "application/vnd.google.colaboratory.intrinsic+json": {
              "type": "string"
            }
          },
          "metadata": {},
          "execution_count": 21
        }
      ]
    },
    {
      "cell_type": "code",
      "source": [
        "# True  = 1\n",
        "# False = 0\n",
        "a = True + 4\n",
        "b = False + 10\n",
        "\n",
        "print(\"a:\", a)\n",
        "print(\"b:\", b)"
      ],
      "metadata": {
        "colab": {
          "base_uri": "https://localhost:8080/"
        },
        "id": "tFleJJbFPN6a",
        "outputId": "6d4b3767-90fa-4db2-9fec-34ab937c7f0b"
      },
      "execution_count": 22,
      "outputs": [
        {
          "output_type": "stream",
          "name": "stdout",
          "text": [
            "a: 5\n",
            "b: 10\n"
          ]
        }
      ]
    },
    {
      "cell_type": "code",
      "source": [
        "# Arithmetric Operators\n",
        "print(5+6)\n",
        "\n",
        "print(5-6)\n",
        "\n",
        "print(5*6)\n",
        "\n",
        "print(5/2)\n",
        "\n",
        "print(5//2)\n",
        "\n",
        "print(5%2)\n",
        "\n",
        "print(5**2)"
      ],
      "metadata": {
        "colab": {
          "base_uri": "https://localhost:8080/"
        },
        "id": "R-XYhryaPvBH",
        "outputId": "d4a8680d-5850-4c3f-e5cf-6573f8265c2f"
      },
      "execution_count": 23,
      "outputs": [
        {
          "output_type": "stream",
          "name": "stdout",
          "text": [
            "11\n",
            "-1\n",
            "30\n",
            "2.5\n",
            "2\n",
            "1\n",
            "25\n"
          ]
        }
      ]
    },
    {
      "cell_type": "code",
      "source": [
        "# Relational Operators\n",
        "print(4>5)\n",
        "\n",
        "print(4<5)\n",
        "\n",
        "print(4>=4)\n",
        "\n",
        "print(4<=4)\n",
        "\n",
        "print(4==4)\n",
        "\n",
        "print(4!=4)"
      ],
      "metadata": {
        "colab": {
          "base_uri": "https://localhost:8080/"
        },
        "id": "MvocefIqQMLS",
        "outputId": "8d286723-52ae-4526-bb75-db00c539caf6"
      },
      "execution_count": 24,
      "outputs": [
        {
          "output_type": "stream",
          "name": "stdout",
          "text": [
            "False\n",
            "True\n",
            "True\n",
            "True\n",
            "True\n",
            "False\n"
          ]
        }
      ]
    },
    {
      "cell_type": "code",
      "source": [
        "print(1 and 0)\n",
        "print(0 or 1)\n",
        "print(not 0)"
      ],
      "metadata": {
        "colab": {
          "base_uri": "https://localhost:8080/"
        },
        "id": "ZzX2xwgeQdf7",
        "outputId": "f396d1b6-60cb-4782-b7c5-d5f64b8d6945"
      },
      "execution_count": 25,
      "outputs": [
        {
          "output_type": "stream",
          "name": "stdout",
          "text": [
            "0\n",
            "1\n",
            "True\n"
          ]
        }
      ]
    },
    {
      "cell_type": "code",
      "source": [
        "# Bitwise Operators\n",
        "\n",
        "# bitwise and\n",
        "print(2 & 3)\n",
        "\n",
        "# bitwise or\n",
        "print(2 | 3)\n",
        "\n",
        "# bitwise xor\n",
        "print(2 ^ 3)\n",
        "\n",
        "print(~3)\n",
        "\n",
        " # /2^k\n",
        "print(4 >> 2)\n",
        "\n",
        " # *2^k\n",
        "print(5 << 2)"
      ],
      "metadata": {
        "colab": {
          "base_uri": "https://localhost:8080/"
        },
        "id": "OvyMOfWsQlGh",
        "outputId": "5ef2307f-a2eb-47e9-c0eb-928978afa358"
      },
      "execution_count": 26,
      "outputs": [
        {
          "output_type": "stream",
          "name": "stdout",
          "text": [
            "2\n",
            "3\n",
            "1\n",
            "-4\n",
            "1\n",
            "20\n"
          ]
        }
      ]
    },
    {
      "cell_type": "code",
      "source": [
        "# Assignment Operators\n",
        "\n",
        "# =\n",
        "# a = 2\n",
        "\n",
        "a = 2\n",
        "\n",
        "# a = a % 2\n",
        "a %= 2\n",
        "\n",
        "# a++ ++a\n",
        "\n",
        "print(a)"
      ],
      "metadata": {
        "colab": {
          "base_uri": "https://localhost:8080/"
        },
        "id": "wiGLPe3RQ-lt",
        "outputId": "f40dd67f-f90d-4ec5-dd64-33e164797f0c"
      },
      "execution_count": 28,
      "outputs": [
        {
          "output_type": "stream",
          "name": "stdout",
          "text": [
            "0\n"
          ]
        }
      ]
    },
    {
      "cell_type": "code",
      "source": [
        "# Membership Operators\n",
        "\n",
        "# in/not in\n",
        "\n",
        "print('D' not in 'Delhi')\n",
        "print('D' in 'Delhi')\n",
        "\n",
        "print(1 in [2,3,4,5,6])"
      ],
      "metadata": {
        "colab": {
          "base_uri": "https://localhost:8080/"
        },
        "id": "kG3BU3PRRv8M",
        "outputId": "3e571e39-8571-4f2c-8c42-be55bb50b9c3"
      },
      "execution_count": 29,
      "outputs": [
        {
          "output_type": "stream",
          "name": "stdout",
          "text": [
            "False\n",
            "True\n",
            "False\n"
          ]
        }
      ]
    },
    {
      "cell_type": "code",
      "source": [
        "# Identity Operators\n",
        "x = 5\n",
        "y = 6\n",
        "print(x is y)\n",
        "print(x is not y)"
      ],
      "metadata": {
        "colab": {
          "base_uri": "https://localhost:8080/"
        },
        "id": "-XDcls-vR33u",
        "outputId": "fd6f7631-175f-4bae-e17d-cde57ff64650"
      },
      "execution_count": 30,
      "outputs": [
        {
          "output_type": "stream",
          "name": "stdout",
          "text": [
            "False\n",
            "True\n"
          ]
        }
      ]
    },
    {
      "cell_type": "code",
      "source": [
        "num = int(input(\"Enter the num : \"))\n",
        "\n",
        "def findSumOfDigits(num):\n",
        "  n = num\n",
        "  ans = 0\n",
        "  while n > 0:\n",
        "    ans += n % 10\n",
        "    n //= 10\n",
        "  return ans\n",
        "\n",
        "print(findSumOfDigits(num))"
      ],
      "metadata": {
        "colab": {
          "base_uri": "https://localhost:8080/"
        },
        "id": "4_rnJYqfSU2z",
        "outputId": "d10682ff-6f88-4d11-c771-ae6a52a18729"
      },
      "execution_count": 31,
      "outputs": [
        {
          "output_type": "stream",
          "name": "stdout",
          "text": [
            "Enter the num : 12340\n",
            "10\n"
          ]
        }
      ]
    },
    {
      "cell_type": "code",
      "source": [
        "arr = [1, 3, 5, 7, 8, 9, 13]\n",
        "x = int(input(\"Enter the x : \"))\n",
        "\n",
        "def BS(arr, x):\n",
        "  low = 0\n",
        "  high = len(arr) - 1\n",
        "  while low <= high:\n",
        "    mid = low + (high - low) // 2\n",
        "    if arr[mid] == x:\n",
        "      print(f\"Found at {mid}\")\n",
        "      return\n",
        "    elif arr[mid] < x:\n",
        "      low = mid + 1\n",
        "    else:\n",
        "      high = mid - 1\n",
        "  print(\"Not Found\")\n",
        "\n",
        "BS(arr, x)"
      ],
      "metadata": {
        "colab": {
          "base_uri": "https://localhost:8080/"
        },
        "id": "fY57I91dT_OX",
        "outputId": "31699321-8950-4c13-dc04-8dc711f3feab"
      },
      "execution_count": 32,
      "outputs": [
        {
          "output_type": "stream",
          "name": "stdout",
          "text": [
            "Enter the x : 9\n",
            "Found at 5\n"
          ]
        }
      ]
    },
    {
      "cell_type": "code",
      "source": [
        "import math\n",
        "\n",
        "print(math.sqrt(196))"
      ],
      "metadata": {
        "colab": {
          "base_uri": "https://localhost:8080/"
        },
        "id": "31hTcRyXWwIU",
        "outputId": "1cccdf85-7021-4f2a-8edd-28d0ec7a551d"
      },
      "execution_count": 33,
      "outputs": [
        {
          "output_type": "stream",
          "name": "stdout",
          "text": [
            "14.0\n"
          ]
        }
      ]
    },
    {
      "cell_type": "code",
      "source": [
        "import keyword\n",
        "print(keyword.kwlist)"
      ],
      "metadata": {
        "colab": {
          "base_uri": "https://localhost:8080/"
        },
        "id": "ijgfabzdXb7E",
        "outputId": "bc49fcbb-ff57-4025-d26e-3c0d47a64226"
      },
      "execution_count": 34,
      "outputs": [
        {
          "output_type": "stream",
          "name": "stdout",
          "text": [
            "['False', 'None', 'True', 'and', 'as', 'assert', 'async', 'await', 'break', 'class', 'continue', 'def', 'del', 'elif', 'else', 'except', 'finally', 'for', 'from', 'global', 'if', 'import', 'in', 'is', 'lambda', 'nonlocal', 'not', 'or', 'pass', 'raise', 'return', 'try', 'while', 'with', 'yield']\n"
          ]
        }
      ]
    },
    {
      "cell_type": "code",
      "source": [
        "import random\n",
        "\n",
        "# Explicitly define range as the built-in range function\n",
        "range = __builtins__.range\n",
        "\n",
        "# Verify random is working\n",
        "print(random.randint(1, 10))\n",
        "print(random.choice([1, 2, 3]))\n",
        "\n",
        "for i in range(11):\n",
        "    print(random.randint(1,10))\n",
        "\n",
        "list1 = [1, 2, 3, 4, 5, 6]\n",
        "print(random.choice(list1))\n",
        "\n",
        "string = \"striver\"\n",
        "print(random.choice(string))"
      ],
      "metadata": {
        "colab": {
          "base_uri": "https://localhost:8080/"
        },
        "id": "d0g8ni3fXeSG",
        "outputId": "61a774e6-f1c0-47bc-ab03-2515274da0f2"
      },
      "execution_count": 76,
      "outputs": [
        {
          "output_type": "stream",
          "name": "stdout",
          "text": [
            "2\n",
            "1\n",
            "3\n",
            "8\n",
            "5\n",
            "8\n",
            "5\n",
            "9\n",
            "6\n",
            "8\n",
            "8\n",
            "1\n",
            "2\n",
            "2\n",
            "v\n"
          ]
        }
      ]
    },
    {
      "cell_type": "code",
      "source": [
        "from datetime import date, time\n",
        "\n",
        "current = date.today()\n",
        "\n",
        "print(current)\n",
        "print(current.day)\n",
        "print(current.month)\n",
        "print(current.year)\n",
        "\n",
        "timing = time()\n",
        "\n",
        "print(timing)"
      ],
      "metadata": {
        "colab": {
          "base_uri": "https://localhost:8080/"
        },
        "id": "uvqL0mJwX0Bb",
        "outputId": "4bc6ea04-3dd6-48db-a829-c5afbffb2f59"
      },
      "execution_count": 49,
      "outputs": [
        {
          "output_type": "stream",
          "name": "stdout",
          "text": [
            "2024-12-16\n",
            "16\n",
            "12\n",
            "2024\n",
            "00:00:00\n"
          ]
        }
      ]
    },
    {
      "cell_type": "code",
      "source": [
        "help('datetime')"
      ],
      "metadata": {
        "colab": {
          "base_uri": "https://localhost:8080/"
        },
        "id": "0TlI7QpkYl3G",
        "outputId": "2e8d9096-ea3d-43b9-a426-60ffeb8ee161"
      },
      "execution_count": 77,
      "outputs": [
        {
          "output_type": "stream",
          "name": "stdout",
          "text": [
            "Help on module datetime:\n",
            "\n",
            "NAME\n",
            "    datetime - Fast implementation of the datetime type.\n",
            "\n",
            "MODULE REFERENCE\n",
            "    https://docs.python.org/3.10/library/datetime.html\n",
            "    \n",
            "    The following documentation is automatically generated from the Python\n",
            "    source files.  It may be incomplete, incorrect or include features that\n",
            "    are considered implementation detail and may vary between Python\n",
            "    implementations.  When in doubt, consult the module reference at the\n",
            "    location listed above.\n",
            "\n",
            "CLASSES\n",
            "    builtins.object\n",
            "        date\n",
            "            datetime\n",
            "        time\n",
            "        timedelta\n",
            "        tzinfo\n",
            "            timezone\n",
            "    \n",
            "    class date(builtins.object)\n",
            "     |  date(year, month, day) --> date object\n",
            "     |  \n",
            "     |  Methods defined here:\n",
            "     |  \n",
            "     |  __add__(self, value, /)\n",
            "     |      Return self+value.\n",
            "     |  \n",
            "     |  __eq__(self, value, /)\n",
            "     |      Return self==value.\n",
            "     |  \n",
            "     |  __format__(...)\n",
            "     |      Formats self with strftime.\n",
            "     |  \n",
            "     |  __ge__(self, value, /)\n",
            "     |      Return self>=value.\n",
            "     |  \n",
            "     |  __getattribute__(self, name, /)\n",
            "     |      Return getattr(self, name).\n",
            "     |  \n",
            "     |  __gt__(self, value, /)\n",
            "     |      Return self>value.\n",
            "     |  \n",
            "     |  __hash__(self, /)\n",
            "     |      Return hash(self).\n",
            "     |  \n",
            "     |  __le__(self, value, /)\n",
            "     |      Return self<=value.\n",
            "     |  \n",
            "     |  __lt__(self, value, /)\n",
            "     |      Return self<value.\n",
            "     |  \n",
            "     |  __ne__(self, value, /)\n",
            "     |      Return self!=value.\n",
            "     |  \n",
            "     |  __radd__(self, value, /)\n",
            "     |      Return value+self.\n",
            "     |  \n",
            "     |  __reduce__(...)\n",
            "     |      __reduce__() -> (cls, state)\n",
            "     |  \n",
            "     |  __repr__(self, /)\n",
            "     |      Return repr(self).\n",
            "     |  \n",
            "     |  __rsub__(self, value, /)\n",
            "     |      Return value-self.\n",
            "     |  \n",
            "     |  __str__(self, /)\n",
            "     |      Return str(self).\n",
            "     |  \n",
            "     |  __sub__(self, value, /)\n",
            "     |      Return self-value.\n",
            "     |  \n",
            "     |  ctime(...)\n",
            "     |      Return ctime() style string.\n",
            "     |  \n",
            "     |  isocalendar(...)\n",
            "     |      Return a named tuple containing ISO year, week number, and weekday.\n",
            "     |  \n",
            "     |  isoformat(...)\n",
            "     |      Return string in ISO 8601 format, YYYY-MM-DD.\n",
            "     |  \n",
            "     |  isoweekday(...)\n",
            "     |      Return the day of the week represented by the date.\n",
            "     |      Monday == 1 ... Sunday == 7\n",
            "     |  \n",
            "     |  replace(...)\n",
            "     |      Return date with new specified fields.\n",
            "     |  \n",
            "     |  strftime(...)\n",
            "     |      format -> strftime() style string.\n",
            "     |  \n",
            "     |  timetuple(...)\n",
            "     |      Return time tuple, compatible with time.localtime().\n",
            "     |  \n",
            "     |  toordinal(...)\n",
            "     |      Return proleptic Gregorian ordinal.  January 1 of year 1 is day 1.\n",
            "     |  \n",
            "     |  weekday(...)\n",
            "     |      Return the day of the week represented by the date.\n",
            "     |      Monday == 0 ... Sunday == 6\n",
            "     |  \n",
            "     |  ----------------------------------------------------------------------\n",
            "     |  Class methods defined here:\n",
            "     |  \n",
            "     |  fromisocalendar(...) from builtins.type\n",
            "     |      int, int, int -> Construct a date from the ISO year, week number and weekday.\n",
            "     |      \n",
            "     |      This is the inverse of the date.isocalendar() function\n",
            "     |  \n",
            "     |  fromisoformat(...) from builtins.type\n",
            "     |      str -> Construct a date from the output of date.isoformat()\n",
            "     |  \n",
            "     |  fromordinal(...) from builtins.type\n",
            "     |      int -> date corresponding to a proleptic Gregorian ordinal.\n",
            "     |  \n",
            "     |  fromtimestamp(timestamp, /) from builtins.type\n",
            "     |      Create a date from a POSIX timestamp.\n",
            "     |      \n",
            "     |      The timestamp is a number, e.g. created via time.time(), that is interpreted\n",
            "     |      as local time.\n",
            "     |  \n",
            "     |  today(...) from builtins.type\n",
            "     |      Current date or datetime:  same as self.__class__.fromtimestamp(time.time()).\n",
            "     |  \n",
            "     |  ----------------------------------------------------------------------\n",
            "     |  Static methods defined here:\n",
            "     |  \n",
            "     |  __new__(*args, **kwargs) from builtins.type\n",
            "     |      Create and return a new object.  See help(type) for accurate signature.\n",
            "     |  \n",
            "     |  ----------------------------------------------------------------------\n",
            "     |  Data descriptors defined here:\n",
            "     |  \n",
            "     |  day\n",
            "     |  \n",
            "     |  month\n",
            "     |  \n",
            "     |  year\n",
            "     |  \n",
            "     |  ----------------------------------------------------------------------\n",
            "     |  Data and other attributes defined here:\n",
            "     |  \n",
            "     |  max = datetime.date(9999, 12, 31)\n",
            "     |  \n",
            "     |  min = datetime.date(1, 1, 1)\n",
            "     |  \n",
            "     |  resolution = datetime.timedelta(days=1)\n",
            "    \n",
            "    class datetime(date)\n",
            "     |  datetime(year, month, day[, hour[, minute[, second[, microsecond[,tzinfo]]]]])\n",
            "     |  \n",
            "     |  The year, month and day arguments are required. tzinfo may be None, or an\n",
            "     |  instance of a tzinfo subclass. The remaining arguments may be ints.\n",
            "     |  \n",
            "     |  Method resolution order:\n",
            "     |      datetime\n",
            "     |      date\n",
            "     |      builtins.object\n",
            "     |  \n",
            "     |  Methods defined here:\n",
            "     |  \n",
            "     |  __add__(self, value, /)\n",
            "     |      Return self+value.\n",
            "     |  \n",
            "     |  __eq__(self, value, /)\n",
            "     |      Return self==value.\n",
            "     |  \n",
            "     |  __ge__(self, value, /)\n",
            "     |      Return self>=value.\n",
            "     |  \n",
            "     |  __getattribute__(self, name, /)\n",
            "     |      Return getattr(self, name).\n",
            "     |  \n",
            "     |  __gt__(self, value, /)\n",
            "     |      Return self>value.\n",
            "     |  \n",
            "     |  __hash__(self, /)\n",
            "     |      Return hash(self).\n",
            "     |  \n",
            "     |  __le__(self, value, /)\n",
            "     |      Return self<=value.\n",
            "     |  \n",
            "     |  __lt__(self, value, /)\n",
            "     |      Return self<value.\n",
            "     |  \n",
            "     |  __ne__(self, value, /)\n",
            "     |      Return self!=value.\n",
            "     |  \n",
            "     |  __radd__(self, value, /)\n",
            "     |      Return value+self.\n",
            "     |  \n",
            "     |  __reduce__(...)\n",
            "     |      __reduce__() -> (cls, state)\n",
            "     |  \n",
            "     |  __reduce_ex__(...)\n",
            "     |      __reduce_ex__(proto) -> (cls, state)\n",
            "     |  \n",
            "     |  __repr__(self, /)\n",
            "     |      Return repr(self).\n",
            "     |  \n",
            "     |  __rsub__(self, value, /)\n",
            "     |      Return value-self.\n",
            "     |  \n",
            "     |  __str__(self, /)\n",
            "     |      Return str(self).\n",
            "     |  \n",
            "     |  __sub__(self, value, /)\n",
            "     |      Return self-value.\n",
            "     |  \n",
            "     |  astimezone(...)\n",
            "     |      tz -> convert to local time in new timezone tz\n",
            "     |  \n",
            "     |  ctime(...)\n",
            "     |      Return ctime() style string.\n",
            "     |  \n",
            "     |  date(...)\n",
            "     |      Return date object with same year, month and day.\n",
            "     |  \n",
            "     |  dst(...)\n",
            "     |      Return self.tzinfo.dst(self).\n",
            "     |  \n",
            "     |  isoformat(...)\n",
            "     |      [sep] -> string in ISO 8601 format, YYYY-MM-DDT[HH[:MM[:SS[.mmm[uuu]]]]][+HH:MM].\n",
            "     |      sep is used to separate the year from the time, and defaults to 'T'.\n",
            "     |      The optional argument timespec specifies the number of additional terms\n",
            "     |      of the time to include. Valid options are 'auto', 'hours', 'minutes',\n",
            "     |      'seconds', 'milliseconds' and 'microseconds'.\n",
            "     |  \n",
            "     |  replace(...)\n",
            "     |      Return datetime with new specified fields.\n",
            "     |  \n",
            "     |  time(...)\n",
            "     |      Return time object with same time but with tzinfo=None.\n",
            "     |  \n",
            "     |  timestamp(...)\n",
            "     |      Return POSIX timestamp as float.\n",
            "     |  \n",
            "     |  timetuple(...)\n",
            "     |      Return time tuple, compatible with time.localtime().\n",
            "     |  \n",
            "     |  timetz(...)\n",
            "     |      Return time object with same time and tzinfo.\n",
            "     |  \n",
            "     |  tzname(...)\n",
            "     |      Return self.tzinfo.tzname(self).\n",
            "     |  \n",
            "     |  utcoffset(...)\n",
            "     |      Return self.tzinfo.utcoffset(self).\n",
            "     |  \n",
            "     |  utctimetuple(...)\n",
            "     |      Return UTC time tuple, compatible with time.localtime().\n",
            "     |  \n",
            "     |  ----------------------------------------------------------------------\n",
            "     |  Class methods defined here:\n",
            "     |  \n",
            "     |  combine(...) from builtins.type\n",
            "     |      date, time -> datetime with same date and time fields\n",
            "     |  \n",
            "     |  fromisoformat(...) from builtins.type\n",
            "     |      string -> datetime from datetime.isoformat() output\n",
            "     |  \n",
            "     |  fromtimestamp(...) from builtins.type\n",
            "     |      timestamp[, tz] -> tz's local time from POSIX timestamp.\n",
            "     |  \n",
            "     |  now(tz=None) from builtins.type\n",
            "     |      Returns new datetime object representing current time local to tz.\n",
            "     |      \n",
            "     |        tz\n",
            "     |          Timezone object.\n",
            "     |      \n",
            "     |      If no tz is specified, uses local timezone.\n",
            "     |  \n",
            "     |  strptime(...) from builtins.type\n",
            "     |      string, format -> new datetime parsed from a string (like time.strptime()).\n",
            "     |  \n",
            "     |  utcfromtimestamp(...) from builtins.type\n",
            "     |      Construct a naive UTC datetime from a POSIX timestamp.\n",
            "     |  \n",
            "     |  utcnow(...) from builtins.type\n",
            "     |      Return a new datetime representing UTC day and time.\n",
            "     |  \n",
            "     |  ----------------------------------------------------------------------\n",
            "     |  Static methods defined here:\n",
            "     |  \n",
            "     |  __new__(*args, **kwargs) from builtins.type\n",
            "     |      Create and return a new object.  See help(type) for accurate signature.\n",
            "     |  \n",
            "     |  ----------------------------------------------------------------------\n",
            "     |  Data descriptors defined here:\n",
            "     |  \n",
            "     |  fold\n",
            "     |  \n",
            "     |  hour\n",
            "     |  \n",
            "     |  microsecond\n",
            "     |  \n",
            "     |  minute\n",
            "     |  \n",
            "     |  second\n",
            "     |  \n",
            "     |  tzinfo\n",
            "     |  \n",
            "     |  ----------------------------------------------------------------------\n",
            "     |  Data and other attributes defined here:\n",
            "     |  \n",
            "     |  max = datetime.datetime(9999, 12, 31, 23, 59, 59, 999999)\n",
            "     |  \n",
            "     |  min = datetime.datetime(1, 1, 1, 0, 0)\n",
            "     |  \n",
            "     |  resolution = datetime.timedelta(microseconds=1)\n",
            "     |  \n",
            "     |  ----------------------------------------------------------------------\n",
            "     |  Methods inherited from date:\n",
            "     |  \n",
            "     |  __format__(...)\n",
            "     |      Formats self with strftime.\n",
            "     |  \n",
            "     |  isocalendar(...)\n",
            "     |      Return a named tuple containing ISO year, week number, and weekday.\n",
            "     |  \n",
            "     |  isoweekday(...)\n",
            "     |      Return the day of the week represented by the date.\n",
            "     |      Monday == 1 ... Sunday == 7\n",
            "     |  \n",
            "     |  strftime(...)\n",
            "     |      format -> strftime() style string.\n",
            "     |  \n",
            "     |  toordinal(...)\n",
            "     |      Return proleptic Gregorian ordinal.  January 1 of year 1 is day 1.\n",
            "     |  \n",
            "     |  weekday(...)\n",
            "     |      Return the day of the week represented by the date.\n",
            "     |      Monday == 0 ... Sunday == 6\n",
            "     |  \n",
            "     |  ----------------------------------------------------------------------\n",
            "     |  Class methods inherited from date:\n",
            "     |  \n",
            "     |  fromisocalendar(...) from builtins.type\n",
            "     |      int, int, int -> Construct a date from the ISO year, week number and weekday.\n",
            "     |      \n",
            "     |      This is the inverse of the date.isocalendar() function\n",
            "     |  \n",
            "     |  fromordinal(...) from builtins.type\n",
            "     |      int -> date corresponding to a proleptic Gregorian ordinal.\n",
            "     |  \n",
            "     |  today(...) from builtins.type\n",
            "     |      Current date or datetime:  same as self.__class__.fromtimestamp(time.time()).\n",
            "     |  \n",
            "     |  ----------------------------------------------------------------------\n",
            "     |  Data descriptors inherited from date:\n",
            "     |  \n",
            "     |  day\n",
            "     |  \n",
            "     |  month\n",
            "     |  \n",
            "     |  year\n",
            "    \n",
            "    class time(builtins.object)\n",
            "     |  time([hour[, minute[, second[, microsecond[, tzinfo]]]]]) --> a time object\n",
            "     |  \n",
            "     |  All arguments are optional. tzinfo may be None, or an instance of\n",
            "     |  a tzinfo subclass. The remaining arguments may be ints.\n",
            "     |  \n",
            "     |  Methods defined here:\n",
            "     |  \n",
            "     |  __eq__(self, value, /)\n",
            "     |      Return self==value.\n",
            "     |  \n",
            "     |  __format__(...)\n",
            "     |      Formats self with strftime.\n",
            "     |  \n",
            "     |  __ge__(self, value, /)\n",
            "     |      Return self>=value.\n",
            "     |  \n",
            "     |  __getattribute__(self, name, /)\n",
            "     |      Return getattr(self, name).\n",
            "     |  \n",
            "     |  __gt__(self, value, /)\n",
            "     |      Return self>value.\n",
            "     |  \n",
            "     |  __hash__(self, /)\n",
            "     |      Return hash(self).\n",
            "     |  \n",
            "     |  __le__(self, value, /)\n",
            "     |      Return self<=value.\n",
            "     |  \n",
            "     |  __lt__(self, value, /)\n",
            "     |      Return self<value.\n",
            "     |  \n",
            "     |  __ne__(self, value, /)\n",
            "     |      Return self!=value.\n",
            "     |  \n",
            "     |  __reduce__(...)\n",
            "     |      __reduce__() -> (cls, state)\n",
            "     |  \n",
            "     |  __reduce_ex__(...)\n",
            "     |      __reduce_ex__(proto) -> (cls, state)\n",
            "     |  \n",
            "     |  __repr__(self, /)\n",
            "     |      Return repr(self).\n",
            "     |  \n",
            "     |  __str__(self, /)\n",
            "     |      Return str(self).\n",
            "     |  \n",
            "     |  dst(...)\n",
            "     |      Return self.tzinfo.dst(self).\n",
            "     |  \n",
            "     |  isoformat(...)\n",
            "     |      Return string in ISO 8601 format, [HH[:MM[:SS[.mmm[uuu]]]]][+HH:MM].\n",
            "     |      \n",
            "     |      The optional argument timespec specifies the number of additional terms\n",
            "     |      of the time to include. Valid options are 'auto', 'hours', 'minutes',\n",
            "     |      'seconds', 'milliseconds' and 'microseconds'.\n",
            "     |  \n",
            "     |  replace(...)\n",
            "     |      Return time with new specified fields.\n",
            "     |  \n",
            "     |  strftime(...)\n",
            "     |      format -> strftime() style string.\n",
            "     |  \n",
            "     |  tzname(...)\n",
            "     |      Return self.tzinfo.tzname(self).\n",
            "     |  \n",
            "     |  utcoffset(...)\n",
            "     |      Return self.tzinfo.utcoffset(self).\n",
            "     |  \n",
            "     |  ----------------------------------------------------------------------\n",
            "     |  Class methods defined here:\n",
            "     |  \n",
            "     |  fromisoformat(...) from builtins.type\n",
            "     |      string -> time from time.isoformat() output\n",
            "     |  \n",
            "     |  ----------------------------------------------------------------------\n",
            "     |  Static methods defined here:\n",
            "     |  \n",
            "     |  __new__(*args, **kwargs) from builtins.type\n",
            "     |      Create and return a new object.  See help(type) for accurate signature.\n",
            "     |  \n",
            "     |  ----------------------------------------------------------------------\n",
            "     |  Data descriptors defined here:\n",
            "     |  \n",
            "     |  fold\n",
            "     |  \n",
            "     |  hour\n",
            "     |  \n",
            "     |  microsecond\n",
            "     |  \n",
            "     |  minute\n",
            "     |  \n",
            "     |  second\n",
            "     |  \n",
            "     |  tzinfo\n",
            "     |  \n",
            "     |  ----------------------------------------------------------------------\n",
            "     |  Data and other attributes defined here:\n",
            "     |  \n",
            "     |  max = datetime.time(23, 59, 59, 999999)\n",
            "     |  \n",
            "     |  min = datetime.time(0, 0)\n",
            "     |  \n",
            "     |  resolution = datetime.timedelta(microseconds=1)\n",
            "    \n",
            "    class timedelta(builtins.object)\n",
            "     |  Difference between two datetime values.\n",
            "     |  \n",
            "     |  timedelta(days=0, seconds=0, microseconds=0, milliseconds=0, minutes=0, hours=0, weeks=0)\n",
            "     |  \n",
            "     |  All arguments are optional and default to 0.\n",
            "     |  Arguments may be integers or floats, and may be positive or negative.\n",
            "     |  \n",
            "     |  Methods defined here:\n",
            "     |  \n",
            "     |  __abs__(self, /)\n",
            "     |      abs(self)\n",
            "     |  \n",
            "     |  __add__(self, value, /)\n",
            "     |      Return self+value.\n",
            "     |  \n",
            "     |  __bool__(self, /)\n",
            "     |      True if self else False\n",
            "     |  \n",
            "     |  __divmod__(self, value, /)\n",
            "     |      Return divmod(self, value).\n",
            "     |  \n",
            "     |  __eq__(self, value, /)\n",
            "     |      Return self==value.\n",
            "     |  \n",
            "     |  __floordiv__(self, value, /)\n",
            "     |      Return self//value.\n",
            "     |  \n",
            "     |  __ge__(self, value, /)\n",
            "     |      Return self>=value.\n",
            "     |  \n",
            "     |  __getattribute__(self, name, /)\n",
            "     |      Return getattr(self, name).\n",
            "     |  \n",
            "     |  __gt__(self, value, /)\n",
            "     |      Return self>value.\n",
            "     |  \n",
            "     |  __hash__(self, /)\n",
            "     |      Return hash(self).\n",
            "     |  \n",
            "     |  __le__(self, value, /)\n",
            "     |      Return self<=value.\n",
            "     |  \n",
            "     |  __lt__(self, value, /)\n",
            "     |      Return self<value.\n",
            "     |  \n",
            "     |  __mod__(self, value, /)\n",
            "     |      Return self%value.\n",
            "     |  \n",
            "     |  __mul__(self, value, /)\n",
            "     |      Return self*value.\n",
            "     |  \n",
            "     |  __ne__(self, value, /)\n",
            "     |      Return self!=value.\n",
            "     |  \n",
            "     |  __neg__(self, /)\n",
            "     |      -self\n",
            "     |  \n",
            "     |  __pos__(self, /)\n",
            "     |      +self\n",
            "     |  \n",
            "     |  __radd__(self, value, /)\n",
            "     |      Return value+self.\n",
            "     |  \n",
            "     |  __rdivmod__(self, value, /)\n",
            "     |      Return divmod(value, self).\n",
            "     |  \n",
            "     |  __reduce__(...)\n",
            "     |      __reduce__() -> (cls, state)\n",
            "     |  \n",
            "     |  __repr__(self, /)\n",
            "     |      Return repr(self).\n",
            "     |  \n",
            "     |  __rfloordiv__(self, value, /)\n",
            "     |      Return value//self.\n",
            "     |  \n",
            "     |  __rmod__(self, value, /)\n",
            "     |      Return value%self.\n",
            "     |  \n",
            "     |  __rmul__(self, value, /)\n",
            "     |      Return value*self.\n",
            "     |  \n",
            "     |  __rsub__(self, value, /)\n",
            "     |      Return value-self.\n",
            "     |  \n",
            "     |  __rtruediv__(self, value, /)\n",
            "     |      Return value/self.\n",
            "     |  \n",
            "     |  __str__(self, /)\n",
            "     |      Return str(self).\n",
            "     |  \n",
            "     |  __sub__(self, value, /)\n",
            "     |      Return self-value.\n",
            "     |  \n",
            "     |  __truediv__(self, value, /)\n",
            "     |      Return self/value.\n",
            "     |  \n",
            "     |  total_seconds(...)\n",
            "     |      Total seconds in the duration.\n",
            "     |  \n",
            "     |  ----------------------------------------------------------------------\n",
            "     |  Static methods defined here:\n",
            "     |  \n",
            "     |  __new__(*args, **kwargs) from builtins.type\n",
            "     |      Create and return a new object.  See help(type) for accurate signature.\n",
            "     |  \n",
            "     |  ----------------------------------------------------------------------\n",
            "     |  Data descriptors defined here:\n",
            "     |  \n",
            "     |  days\n",
            "     |      Number of days.\n",
            "     |  \n",
            "     |  microseconds\n",
            "     |      Number of microseconds (>= 0 and less than 1 second).\n",
            "     |  \n",
            "     |  seconds\n",
            "     |      Number of seconds (>= 0 and less than 1 day).\n",
            "     |  \n",
            "     |  ----------------------------------------------------------------------\n",
            "     |  Data and other attributes defined here:\n",
            "     |  \n",
            "     |  max = datetime.timedelta(days=999999999, seconds=86399, microseconds=9...\n",
            "     |  \n",
            "     |  min = datetime.timedelta(days=-999999999)\n",
            "     |  \n",
            "     |  resolution = datetime.timedelta(microseconds=1)\n",
            "    \n",
            "    class timezone(tzinfo)\n",
            "     |  Fixed offset from UTC implementation of tzinfo.\n",
            "     |  \n",
            "     |  Method resolution order:\n",
            "     |      timezone\n",
            "     |      tzinfo\n",
            "     |      builtins.object\n",
            "     |  \n",
            "     |  Methods defined here:\n",
            "     |  \n",
            "     |  __eq__(self, value, /)\n",
            "     |      Return self==value.\n",
            "     |  \n",
            "     |  __ge__(self, value, /)\n",
            "     |      Return self>=value.\n",
            "     |  \n",
            "     |  __getinitargs__(...)\n",
            "     |      pickle support\n",
            "     |  \n",
            "     |  __gt__(self, value, /)\n",
            "     |      Return self>value.\n",
            "     |  \n",
            "     |  __hash__(self, /)\n",
            "     |      Return hash(self).\n",
            "     |  \n",
            "     |  __le__(self, value, /)\n",
            "     |      Return self<=value.\n",
            "     |  \n",
            "     |  __lt__(self, value, /)\n",
            "     |      Return self<value.\n",
            "     |  \n",
            "     |  __ne__(self, value, /)\n",
            "     |      Return self!=value.\n",
            "     |  \n",
            "     |  __repr__(self, /)\n",
            "     |      Return repr(self).\n",
            "     |  \n",
            "     |  __str__(self, /)\n",
            "     |      Return str(self).\n",
            "     |  \n",
            "     |  dst(...)\n",
            "     |      Return None.\n",
            "     |  \n",
            "     |  fromutc(...)\n",
            "     |      datetime in UTC -> datetime in local time.\n",
            "     |  \n",
            "     |  tzname(...)\n",
            "     |      If name is specified when timezone is created, returns the name.  Otherwise returns offset as 'UTC(+|-)HH:MM'.\n",
            "     |  \n",
            "     |  utcoffset(...)\n",
            "     |      Return fixed offset.\n",
            "     |  \n",
            "     |  ----------------------------------------------------------------------\n",
            "     |  Static methods defined here:\n",
            "     |  \n",
            "     |  __new__(*args, **kwargs) from builtins.type\n",
            "     |      Create and return a new object.  See help(type) for accurate signature.\n",
            "     |  \n",
            "     |  ----------------------------------------------------------------------\n",
            "     |  Data and other attributes defined here:\n",
            "     |  \n",
            "     |  max = datetime.timezone(datetime.timedelta(seconds=86340))\n",
            "     |  \n",
            "     |  min = datetime.timezone(datetime.timedelta(days=-1, seconds=60))\n",
            "     |  \n",
            "     |  utc = datetime.timezone.utc\n",
            "     |  \n",
            "     |  ----------------------------------------------------------------------\n",
            "     |  Methods inherited from tzinfo:\n",
            "     |  \n",
            "     |  __getattribute__(self, name, /)\n",
            "     |      Return getattr(self, name).\n",
            "     |  \n",
            "     |  __reduce__(...)\n",
            "     |      -> (cls, state)\n",
            "    \n",
            "    class tzinfo(builtins.object)\n",
            "     |  Abstract base class for time zone info objects.\n",
            "     |  \n",
            "     |  Methods defined here:\n",
            "     |  \n",
            "     |  __getattribute__(self, name, /)\n",
            "     |      Return getattr(self, name).\n",
            "     |  \n",
            "     |  __reduce__(...)\n",
            "     |      -> (cls, state)\n",
            "     |  \n",
            "     |  dst(...)\n",
            "     |      datetime -> DST offset as timedelta positive east of UTC.\n",
            "     |  \n",
            "     |  fromutc(...)\n",
            "     |      datetime in UTC -> datetime in local time.\n",
            "     |  \n",
            "     |  tzname(...)\n",
            "     |      datetime -> string name of time zone.\n",
            "     |  \n",
            "     |  utcoffset(...)\n",
            "     |      datetime -> timedelta showing offset from UTC, negative values indicating West of UTC\n",
            "     |  \n",
            "     |  ----------------------------------------------------------------------\n",
            "     |  Static methods defined here:\n",
            "     |  \n",
            "     |  __new__(*args, **kwargs) from builtins.type\n",
            "     |      Create and return a new object.  See help(type) for accurate signature.\n",
            "\n",
            "DATA\n",
            "    MAXYEAR = 9999\n",
            "    MINYEAR = 1\n",
            "    __all__ = ('date', 'datetime', 'time', 'timedelta', 'timezone', 'tzinf...\n",
            "\n",
            "FILE\n",
            "    /usr/lib/python3.10/datetime.py\n",
            "\n",
            "\n"
          ]
        }
      ]
    },
    {
      "cell_type": "code",
      "source": [
        "i = 5\n",
        "while i < 10:\n",
        "  print(i)\n",
        "  i += 1\n",
        "else:\n",
        "  print(\"limit reached\", i)"
      ],
      "metadata": {
        "colab": {
          "base_uri": "https://localhost:8080/"
        },
        "id": "h10Koz33Zcly",
        "outputId": "3c8213dd-7e92-442b-d6dd-2ad5162c4f46"
      },
      "execution_count": 50,
      "outputs": [
        {
          "output_type": "stream",
          "name": "stdout",
          "text": [
            "5\n",
            "6\n",
            "7\n",
            "8\n",
            "9\n",
            "limit reached 10\n"
          ]
        }
      ]
    },
    {
      "cell_type": "code",
      "source": [
        "# Guessing Game\n",
        "limit = int(input(\"Enter the limit from 1 to max : \"))\n",
        "\n",
        "def guess(limit):\n",
        "  jackpot = random.randint(1, limit)\n",
        "  print(f\"Guess from 1 to {limit}\")\n",
        "  cnt = 1\n",
        "  guess = int(input(\"Guess : \"))\n",
        "  while guess is not jackpot:\n",
        "    if guess > jackpot:\n",
        "      print(\"Go Lower\")\n",
        "    else:\n",
        "      print(\"Go Higher\")\n",
        "    guess = int(input(\"Guess : \"))\n",
        "    cnt += 1\n",
        "  else:\n",
        "    print(\"🏆❄️❄️\")\n",
        "    print(\"No. of guess you took = \", cnt)\n",
        "\n",
        "guess(limit)"
      ],
      "metadata": {
        "colab": {
          "base_uri": "https://localhost:8080/"
        },
        "id": "jQdepjw6aSYw",
        "outputId": "784ccfce-c4ae-45f1-ae66-2289a9df3e31"
      },
      "execution_count": 63,
      "outputs": [
        {
          "output_type": "stream",
          "name": "stdout",
          "text": [
            "Enter the limit from 1 to max : 10\n",
            "Guess : 5\n",
            "Guess from 1 to 10\n",
            "Go Lower\n",
            "Guess : 3\n",
            "Go Lower\n",
            "Guess : 2\n",
            "🏆❄️❄️\n",
            "No. of guess you took =  3\n"
          ]
        }
      ]
    },
    {
      "cell_type": "code",
      "source": [
        "print(arr)\n",
        "\n",
        "for i in arr:\n",
        "  print(i, end=\" \")\n",
        "\n",
        "print()\n",
        "\n",
        "for idx, val in enumerate(arr):\n",
        "  print(idx, val)"
      ],
      "metadata": {
        "colab": {
          "base_uri": "https://localhost:8080/"
        },
        "id": "TU-ZbI7zclz7",
        "outputId": "7b60492a-5fbc-43dd-f41c-48d6efd30093"
      },
      "execution_count": 52,
      "outputs": [
        {
          "output_type": "stream",
          "name": "stdout",
          "text": [
            "[1, 3, 5, 7, 8, 9, 13]\n",
            "1 3 5 7 8 9 13 \n",
            "0 1\n",
            "1 3\n",
            "2 5\n",
            "3 7\n",
            "4 8\n",
            "5 9\n",
            "6 13\n"
          ]
        }
      ]
    },
    {
      "cell_type": "code",
      "source": [
        "person"
      ],
      "metadata": {
        "colab": {
          "base_uri": "https://localhost:8080/"
        },
        "id": "zUW5vWwedYSm",
        "outputId": "3167a8b6-081b-4d5f-ac90-b7c1e80cc402"
      },
      "execution_count": 53,
      "outputs": [
        {
          "output_type": "execute_result",
          "data": {
            "text/plain": [
              "{'name': 'Adii', 'gender': 'Male', 'age': 19}"
            ]
          },
          "metadata": {},
          "execution_count": 53
        }
      ]
    },
    {
      "cell_type": "code",
      "source": [
        "for key, val in person.items():\n",
        "  print(key, val)\n",
        "\n",
        "for key in person:\n",
        "  print(key)\n",
        "\n",
        "for val in person.values():\n",
        "  print(val)\n",
        "\n",
        "for key in person.keys():\n",
        "  print(key)"
      ],
      "metadata": {
        "colab": {
          "base_uri": "https://localhost:8080/"
        },
        "id": "f33hpTFbdpZ1",
        "outputId": "84c864a0-919e-4cb0-90fa-a74667983d32"
      },
      "execution_count": 54,
      "outputs": [
        {
          "output_type": "stream",
          "name": "stdout",
          "text": [
            "name Adii\n",
            "gender Male\n",
            "age 19\n",
            "name\n",
            "gender\n",
            "age\n",
            "Adii\n",
            "Male\n",
            "19\n",
            "name\n",
            "gender\n",
            "age\n"
          ]
        }
      ]
    },
    {
      "cell_type": "code",
      "source": [
        "curr_pop = 10000\n",
        "\n",
        "for i in range(10, 0, -1):\n",
        "  print(i, curr_pop)\n",
        "  curr_pop = curr_pop/1.1"
      ],
      "metadata": {
        "id": "fBATMk-mo1jq",
        "colab": {
          "base_uri": "https://localhost:8080/"
        },
        "outputId": "e5ebbef2-3189-4124-93e1-946ffbfebda8"
      },
      "execution_count": 78,
      "outputs": [
        {
          "output_type": "stream",
          "name": "stdout",
          "text": [
            "10 10000\n",
            "9 9090.90909090909\n",
            "8 8264.462809917353\n",
            "7 7513.148009015775\n",
            "6 6830.134553650703\n",
            "5 6209.213230591548\n",
            "4 5644.739300537771\n",
            "3 5131.5811823070635\n",
            "2 4665.07380209733\n",
            "1 4240.976183724845\n"
          ]
        }
      ]
    },
    {
      "cell_type": "code",
      "source": [
        "n = int(input(\"Enter n :\"))\n",
        "\n",
        "result = 0\n",
        "fact = 1\n",
        "\n",
        "for i in range(1, n+1):\n",
        "  fact *= i\n",
        "  result += i/fact\n",
        "\n",
        "print(result)"
      ],
      "metadata": {
        "id": "qVcxWBmBeG2D",
        "colab": {
          "base_uri": "https://localhost:8080/"
        },
        "outputId": "e927a5ec-61a5-41f4-b32b-fe88039c68fc"
      },
      "execution_count": 79,
      "outputs": [
        {
          "output_type": "stream",
          "name": "stdout",
          "text": [
            "Enter n :1\n",
            "1.0\n"
          ]
        }
      ]
    },
    {
      "cell_type": "code",
      "source": [
        "row = int(input(\"rows :\"))\n",
        "\n",
        "for i in range(row+1):\n",
        "  for j in range(i+1):\n",
        "    print('*',end='')\n",
        "  print()\n",
        ""
      ],
      "metadata": {
        "colab": {
          "base_uri": "https://localhost:8080/"
        },
        "id": "ygcD6iG4bv7k",
        "outputId": "9c6ea161-9bbd-4906-e43d-16adad7a7fc5"
      },
      "execution_count": 80,
      "outputs": [
        {
          "output_type": "stream",
          "name": "stdout",
          "text": [
            "rows :9\n",
            "*\n",
            "**\n",
            "***\n",
            "****\n",
            "*****\n",
            "******\n",
            "*******\n",
            "********\n",
            "*********\n",
            "**********\n"
          ]
        }
      ]
    },
    {
      "cell_type": "code",
      "source": [
        "# break\n",
        "# continue\n",
        "\n",
        "for i in range(10):\n",
        "  if i == 5:\n",
        "    continue\n",
        "  if i == 8:\n",
        "    break\n",
        "  print(i)"
      ],
      "metadata": {
        "colab": {
          "base_uri": "https://localhost:8080/"
        },
        "id": "V2RdeXOXcIUx",
        "outputId": "5f3b0b77-a6b8-4e12-c457-3382f787eee1"
      },
      "execution_count": 83,
      "outputs": [
        {
          "output_type": "stream",
          "name": "stdout",
          "text": [
            "0\n",
            "1\n",
            "2\n",
            "3\n",
            "4\n",
            "6\n",
            "7\n"
          ]
        }
      ]
    },
    {
      "cell_type": "code",
      "source": [
        "for i in range(10,0, -1):\n",
        "  pass # do nothing"
      ],
      "metadata": {
        "id": "JiCnNRDJcYym"
      },
      "execution_count": 84,
      "outputs": []
    },
    {
      "cell_type": "markdown",
      "source": [
        "## String"
      ],
      "metadata": {
        "id": "eynGKRoEdCv6"
      }
    },
    {
      "cell_type": "code",
      "source": [
        "s = \"hello world\"\n",
        "\n",
        "print(s)\n",
        "print(s[6:1:-1])\n",
        "print(s[::-1])\n",
        "print(s[-1:-6:-1])"
      ],
      "metadata": {
        "colab": {
          "base_uri": "https://localhost:8080/"
        },
        "id": "cZXTEDIEc8eB",
        "outputId": "bb9eb65e-e26b-41ab-c85b-22e060817541"
      },
      "execution_count": 100,
      "outputs": [
        {
          "output_type": "stream",
          "name": "stdout",
          "text": [
            "hello world\n",
            "w oll\n",
            "dlrow olleh\n",
            "dlrow\n"
          ]
        }
      ]
    },
    {
      "cell_type": "code",
      "source": [
        "s = \"hello world\"\n",
        "\n",
        "# s[0] = 'H'\n",
        "\n",
        "s[0], s[6] = s[6], s[0]"
      ],
      "metadata": {
        "colab": {
          "base_uri": "https://localhost:8080/",
          "height": 176
        },
        "id": "fJu7oohWd5Ev",
        "outputId": "ebb4304a-62f6-4dc4-9d90-2217d8d6e39d"
      },
      "execution_count": 103,
      "outputs": [
        {
          "output_type": "error",
          "ename": "TypeError",
          "evalue": "'str' object does not support item assignment",
          "traceback": [
            "\u001b[0;31m---------------------------------------------------------------------------\u001b[0m",
            "\u001b[0;31mTypeError\u001b[0m                                 Traceback (most recent call last)",
            "\u001b[0;32m<ipython-input-103-b1d5724d8aa0>\u001b[0m in \u001b[0;36m<cell line: 5>\u001b[0;34m()\u001b[0m\n\u001b[1;32m      3\u001b[0m \u001b[0;31m# s[0] = 'H'\u001b[0m\u001b[0;34m\u001b[0m\u001b[0;34m\u001b[0m\u001b[0m\n\u001b[1;32m      4\u001b[0m \u001b[0;34m\u001b[0m\u001b[0m\n\u001b[0;32m----> 5\u001b[0;31m \u001b[0ms\u001b[0m\u001b[0;34m[\u001b[0m\u001b[0;36m0\u001b[0m\u001b[0;34m]\u001b[0m\u001b[0;34m,\u001b[0m \u001b[0ms\u001b[0m\u001b[0;34m[\u001b[0m\u001b[0;36m6\u001b[0m\u001b[0;34m]\u001b[0m \u001b[0;34m=\u001b[0m \u001b[0ms\u001b[0m\u001b[0;34m[\u001b[0m\u001b[0;36m6\u001b[0m\u001b[0;34m]\u001b[0m\u001b[0;34m,\u001b[0m \u001b[0ms\u001b[0m\u001b[0;34m[\u001b[0m\u001b[0;36m0\u001b[0m\u001b[0;34m]\u001b[0m\u001b[0;34m\u001b[0m\u001b[0;34m\u001b[0m\u001b[0m\n\u001b[0m",
            "\u001b[0;31mTypeError\u001b[0m: 'str' object does not support item assignment"
          ]
        }
      ]
    },
    {
      "cell_type": "code",
      "source": [
        "del s\n",
        "print(s)"
      ],
      "metadata": {
        "colab": {
          "base_uri": "https://localhost:8080/",
          "height": 159
        },
        "id": "qlKfXMoue-tQ",
        "outputId": "989dd16c-a719-4414-8e71-333116de0bb4"
      },
      "execution_count": 104,
      "outputs": [
        {
          "output_type": "error",
          "ename": "NameError",
          "evalue": "name 's' is not defined",
          "traceback": [
            "\u001b[0;31m---------------------------------------------------------------------------\u001b[0m",
            "\u001b[0;31mNameError\u001b[0m                                 Traceback (most recent call last)",
            "\u001b[0;32m<ipython-input-104-5477e9d4b00d>\u001b[0m in \u001b[0;36m<cell line: 2>\u001b[0;34m()\u001b[0m\n\u001b[1;32m      1\u001b[0m \u001b[0;32mdel\u001b[0m \u001b[0ms\u001b[0m\u001b[0;34m\u001b[0m\u001b[0;34m\u001b[0m\u001b[0m\n\u001b[0;32m----> 2\u001b[0;31m \u001b[0mprint\u001b[0m\u001b[0;34m(\u001b[0m\u001b[0ms\u001b[0m\u001b[0;34m)\u001b[0m\u001b[0;34m\u001b[0m\u001b[0;34m\u001b[0m\u001b[0m\n\u001b[0m",
            "\u001b[0;31mNameError\u001b[0m: name 's' is not defined"
          ]
        }
      ]
    },
    {
      "cell_type": "code",
      "source": [
        "s = \"hello world\"\n",
        "del s[-1:-6:-1]\n",
        "print(s)"
      ],
      "metadata": {
        "colab": {
          "base_uri": "https://localhost:8080/",
          "height": 176
        },
        "id": "Sbu3kYjQfSJG",
        "outputId": "4bd9bc4f-4797-4188-bfc0-7406f9fb752a"
      },
      "execution_count": 105,
      "outputs": [
        {
          "output_type": "error",
          "ename": "TypeError",
          "evalue": "'str' object does not support item deletion",
          "traceback": [
            "\u001b[0;31m---------------------------------------------------------------------------\u001b[0m",
            "\u001b[0;31mTypeError\u001b[0m                                 Traceback (most recent call last)",
            "\u001b[0;32m<ipython-input-105-142b0c075b0e>\u001b[0m in \u001b[0;36m<cell line: 2>\u001b[0;34m()\u001b[0m\n\u001b[1;32m      1\u001b[0m \u001b[0ms\u001b[0m \u001b[0;34m=\u001b[0m \u001b[0;34m\"hello world\"\u001b[0m\u001b[0;34m\u001b[0m\u001b[0;34m\u001b[0m\u001b[0m\n\u001b[0;32m----> 2\u001b[0;31m \u001b[0;32mdel\u001b[0m \u001b[0ms\u001b[0m\u001b[0;34m[\u001b[0m\u001b[0;34m-\u001b[0m\u001b[0;36m1\u001b[0m\u001b[0;34m:\u001b[0m\u001b[0;34m-\u001b[0m\u001b[0;36m6\u001b[0m\u001b[0;34m:\u001b[0m\u001b[0;34m-\u001b[0m\u001b[0;36m1\u001b[0m\u001b[0;34m]\u001b[0m\u001b[0;34m\u001b[0m\u001b[0;34m\u001b[0m\u001b[0m\n\u001b[0m\u001b[1;32m      3\u001b[0m \u001b[0mprint\u001b[0m\u001b[0;34m(\u001b[0m\u001b[0ms\u001b[0m\u001b[0;34m)\u001b[0m\u001b[0;34m\u001b[0m\u001b[0;34m\u001b[0m\u001b[0m\n",
            "\u001b[0;31mTypeError\u001b[0m: 'str' object does not support item deletion"
          ]
        }
      ]
    },
    {
      "cell_type": "code",
      "source": [
        "print('city : ' +'delhi')\n",
        "\n",
        "print(\"*\"*9)\n",
        "\n",
        "print('delhi' == 'delhi')\n"
      ],
      "metadata": {
        "colab": {
          "base_uri": "https://localhost:8080/"
        },
        "id": "PGkb7u8JfXdp",
        "outputId": "99ce5577-afd6-48f3-eb1f-2832e7c64215"
      },
      "execution_count": 117,
      "outputs": [
        {
          "output_type": "stream",
          "name": "stdout",
          "text": [
            "city : delhi\n",
            "*********\n",
            "True\n"
          ]
        }
      ]
    },
    {
      "cell_type": "code",
      "source": [
        "not 'hello'"
      ],
      "metadata": {
        "colab": {
          "base_uri": "https://localhost:8080/"
        },
        "id": "1Li7mqExfidZ",
        "outputId": "11fcb645-8e2b-4947-8cd6-a70fbd96ff38"
      },
      "execution_count": 119,
      "outputs": [
        {
          "output_type": "execute_result",
          "data": {
            "text/plain": [
              "False"
            ]
          },
          "metadata": {},
          "execution_count": 119
        }
      ]
    },
    {
      "cell_type": "code",
      "source": [
        "s = 'my name is Adii'\n",
        "print(s.capitalize())\n",
        "print(s.upper())\n",
        "print(s.lower())\n",
        "print(s.count('i'))\n",
        "print(s.find('d'))\n",
        "print(s.index('d'))\n",
        "print(s.endswith('i'))\n",
        "print(s.startswith('my'))\n",
        "\n",
        "# isalnum\n",
        "# isalpha\n",
        "# isdigit\n",
        "# isidentifier\n",
        "\n",
        "arr = s.split()\n",
        "st = ' '.join(arr)\n",
        "strr = st.replace('Adii', 'Aditya')\n",
        "print(st)\n",
        "print(strr)"
      ],
      "metadata": {
        "colab": {
          "base_uri": "https://localhost:8080/"
        },
        "id": "f5Dm4c56ixB_",
        "outputId": "c6f04068-4323-4cc6-b398-27d16d7f64d2"
      },
      "execution_count": 138,
      "outputs": [
        {
          "output_type": "stream",
          "name": "stdout",
          "text": [
            "My name is adii\n",
            "MY NAME IS ADII\n",
            "my name is adii\n",
            "3\n",
            "12\n",
            "12\n",
            "True\n",
            "True\n",
            "my name is Adii\n",
            "my name is Aditya\n"
          ]
        }
      ]
    },
    {
      "cell_type": "code",
      "source": [
        "len(s)\n",
        "sorted(s, reverse=True)"
      ],
      "metadata": {
        "colab": {
          "base_uri": "https://localhost:8080/"
        },
        "id": "jlbGy_7eo5Rx",
        "outputId": "1871d34c-64fd-4548-8dc8-bc2cd09f4578"
      },
      "execution_count": 141,
      "outputs": [
        {
          "output_type": "execute_result",
          "data": {
            "text/plain": [
              "['y', 's', 'n', 'm', 'm', 'i', 'i', 'i', 'e', 'd', 'a', 'A', ' ', ' ', ' ']"
            ]
          },
          "metadata": {},
          "execution_count": 141
        }
      ]
    },
    {
      "cell_type": "code",
      "source": [
        "# Find the length of a given string without using the len() function\n",
        "\n",
        "s = input('enter the string')\n",
        "\n",
        "counter = 0\n",
        "\n",
        "for i in s:\n",
        "  counter += 1\n",
        "\n",
        "print('length of string is',counter)"
      ],
      "metadata": {
        "colab": {
          "base_uri": "https://localhost:8080/"
        },
        "id": "UILuuMA-qdSO",
        "outputId": "1a1c406d-dd79-494d-f77d-9633ee2119da"
      },
      "execution_count": 142,
      "outputs": [
        {
          "output_type": "stream",
          "name": "stdout",
          "text": [
            "enter the stringAdii\n",
            "length of string is 4\n"
          ]
        }
      ]
    },
    {
      "cell_type": "code",
      "source": [
        "# Extract username from a given email.\n",
        "# Eg if the email is nitish24singh@gmail.com\n",
        "# then the username should be nitish24singh\n",
        "\n",
        "s = input('enter the email')\n",
        "\n",
        "pos = s.index('@')\n",
        "print(s[0:pos])"
      ],
      "metadata": {
        "colab": {
          "base_uri": "https://localhost:8080/"
        },
        "id": "u2luFloSseHD",
        "outputId": "2cb97d04-d7e2-4e54-eb45-789a61e46341"
      },
      "execution_count": 143,
      "outputs": [
        {
          "output_type": "stream",
          "name": "stdout",
          "text": [
            "enter the emailAdii@gmail.com\n",
            "Adii\n"
          ]
        }
      ]
    },
    {
      "cell_type": "code",
      "source": [
        "# Count the frequency of a particular character in a provided string.\n",
        "# Eg 'hello how are you' is the string, the frequency of h in this string is 2.\n",
        "\n",
        "s = input('enter the email')\n",
        "term = input('what would like to search for')\n",
        "\n",
        "counter = 0\n",
        "for i in s:\n",
        "  if i == term:\n",
        "    counter += 1\n",
        "\n",
        "print('frequency',counter)"
      ],
      "metadata": {
        "colab": {
          "base_uri": "https://localhost:8080/"
        },
        "id": "R7-fQCIvsiog",
        "outputId": "e27ec626-9f37-468b-efb7-32423ebc8c37"
      },
      "execution_count": 144,
      "outputs": [
        {
          "output_type": "stream",
          "name": "stdout",
          "text": [
            "enter the emailadiimaurya02@outlook.com\n",
            "what would like to search form\n",
            "frequency 2\n"
          ]
        }
      ]
    },
    {
      "cell_type": "code",
      "source": [
        "# Write a program which can remove a particular character from a string.\n",
        "s = input('enter the string')\n",
        "term = input('what would like to remove')\n",
        "\n",
        "result = ''\n",
        "\n",
        "for i in s:\n",
        "  if i != term:\n",
        "    result = result + i\n",
        "\n",
        "print(result)"
      ],
      "metadata": {
        "id": "B800SWwisnlS"
      },
      "execution_count": null,
      "outputs": []
    },
    {
      "cell_type": "code",
      "source": [
        "# Write a program that can check whether a given string is palindrome or not.\n",
        "# abba\n",
        "# malayalam\n",
        "\n",
        "s = input('enter the string')\n",
        "flag = True\n",
        "for i in range(0,len(s)//2):\n",
        "  if s[i] != s[len(s) - i -1]:\n",
        "    flag = False\n",
        "    print('Not a Palindrome')\n",
        "    break\n",
        "\n",
        "if flag:\n",
        "  print('Palindrome')"
      ],
      "metadata": {
        "id": "cisVOpMhsuq-"
      },
      "execution_count": null,
      "outputs": []
    },
    {
      "cell_type": "code",
      "source": [
        "# Write a program to count the number of words in a string without split()\n",
        "\n",
        "s = input('enter the string')\n",
        "L = []\n",
        "temp = ''\n",
        "for i in s:\n",
        "\n",
        "  if i != ' ':\n",
        "    temp = temp + i\n",
        "  else:\n",
        "    L.append(temp)\n",
        "    temp = ''\n",
        "\n",
        "L.append(temp)\n",
        "print(L)"
      ],
      "metadata": {
        "colab": {
          "base_uri": "https://localhost:8080/"
        },
        "id": "eHNstQ1Usxq5",
        "outputId": "5a680e19-4b81-4ce9-ed78-174796f79039"
      },
      "execution_count": 145,
      "outputs": [
        {
          "output_type": "stream",
          "name": "stdout",
          "text": [
            "enter the stringadd vkjbdsn skcbwe\n",
            "['add', 'vkjbdsn', 'skcbwe']\n"
          ]
        }
      ]
    },
    {
      "cell_type": "code",
      "source": [
        "# Write a python program to convert a string to title case without using the title()\n",
        "s = input('enter the string')\n",
        "\n",
        "L = []\n",
        "for i in s.split():\n",
        "  L.append(i[0].upper() + i[1:].lower())\n",
        "\n",
        "print(\" \".join(L))"
      ],
      "metadata": {
        "id": "0LcndY7Fs6nu"
      },
      "execution_count": null,
      "outputs": []
    },
    {
      "cell_type": "code",
      "source": [
        "# Write a program that can convert an integer to string.\n",
        "\n",
        "number = int(input('enter the number'))\n",
        "\n",
        "digits = '0123456789'\n",
        "result = ''\n",
        "while number != 0:\n",
        "  result = digits[number % 10] + result\n",
        "  number = number//10\n",
        "\n",
        "print(result)\n",
        "print(type(result))"
      ],
      "metadata": {
        "id": "ZrINuyyps-Ys"
      },
      "execution_count": null,
      "outputs": []
    },
    {
      "cell_type": "code",
      "source": [
        "help(str)"
      ],
      "metadata": {
        "colab": {
          "base_uri": "https://localhost:8080/"
        },
        "id": "ejOYA_YTtAVt",
        "outputId": "c29dc242-a801-465e-c326-c17e7ce6992a"
      },
      "execution_count": 146,
      "outputs": [
        {
          "output_type": "stream",
          "name": "stdout",
          "text": [
            "Help on class str in module builtins:\n",
            "\n",
            "class str(object)\n",
            " |  str(object='') -> str\n",
            " |  str(bytes_or_buffer[, encoding[, errors]]) -> str\n",
            " |  \n",
            " |  Create a new string object from the given object. If encoding or\n",
            " |  errors is specified, then the object must expose a data buffer\n",
            " |  that will be decoded using the given encoding and error handler.\n",
            " |  Otherwise, returns the result of object.__str__() (if defined)\n",
            " |  or repr(object).\n",
            " |  encoding defaults to sys.getdefaultencoding().\n",
            " |  errors defaults to 'strict'.\n",
            " |  \n",
            " |  Methods defined here:\n",
            " |  \n",
            " |  __add__(self, value, /)\n",
            " |      Return self+value.\n",
            " |  \n",
            " |  __contains__(self, key, /)\n",
            " |      Return key in self.\n",
            " |  \n",
            " |  __eq__(self, value, /)\n",
            " |      Return self==value.\n",
            " |  \n",
            " |  __format__(self, format_spec, /)\n",
            " |      Return a formatted version of the string as described by format_spec.\n",
            " |  \n",
            " |  __ge__(self, value, /)\n",
            " |      Return self>=value.\n",
            " |  \n",
            " |  __getattribute__(self, name, /)\n",
            " |      Return getattr(self, name).\n",
            " |  \n",
            " |  __getitem__(self, key, /)\n",
            " |      Return self[key].\n",
            " |  \n",
            " |  __getnewargs__(...)\n",
            " |  \n",
            " |  __gt__(self, value, /)\n",
            " |      Return self>value.\n",
            " |  \n",
            " |  __hash__(self, /)\n",
            " |      Return hash(self).\n",
            " |  \n",
            " |  __iter__(self, /)\n",
            " |      Implement iter(self).\n",
            " |  \n",
            " |  __le__(self, value, /)\n",
            " |      Return self<=value.\n",
            " |  \n",
            " |  __len__(self, /)\n",
            " |      Return len(self).\n",
            " |  \n",
            " |  __lt__(self, value, /)\n",
            " |      Return self<value.\n",
            " |  \n",
            " |  __mod__(self, value, /)\n",
            " |      Return self%value.\n",
            " |  \n",
            " |  __mul__(self, value, /)\n",
            " |      Return self*value.\n",
            " |  \n",
            " |  __ne__(self, value, /)\n",
            " |      Return self!=value.\n",
            " |  \n",
            " |  __repr__(self, /)\n",
            " |      Return repr(self).\n",
            " |  \n",
            " |  __rmod__(self, value, /)\n",
            " |      Return value%self.\n",
            " |  \n",
            " |  __rmul__(self, value, /)\n",
            " |      Return value*self.\n",
            " |  \n",
            " |  __sizeof__(self, /)\n",
            " |      Return the size of the string in memory, in bytes.\n",
            " |  \n",
            " |  __str__(self, /)\n",
            " |      Return str(self).\n",
            " |  \n",
            " |  capitalize(self, /)\n",
            " |      Return a capitalized version of the string.\n",
            " |      \n",
            " |      More specifically, make the first character have upper case and the rest lower\n",
            " |      case.\n",
            " |  \n",
            " |  casefold(self, /)\n",
            " |      Return a version of the string suitable for caseless comparisons.\n",
            " |  \n",
            " |  center(self, width, fillchar=' ', /)\n",
            " |      Return a centered string of length width.\n",
            " |      \n",
            " |      Padding is done using the specified fill character (default is a space).\n",
            " |  \n",
            " |  count(...)\n",
            " |      S.count(sub[, start[, end]]) -> int\n",
            " |      \n",
            " |      Return the number of non-overlapping occurrences of substring sub in\n",
            " |      string S[start:end].  Optional arguments start and end are\n",
            " |      interpreted as in slice notation.\n",
            " |  \n",
            " |  encode(self, /, encoding='utf-8', errors='strict')\n",
            " |      Encode the string using the codec registered for encoding.\n",
            " |      \n",
            " |      encoding\n",
            " |        The encoding in which to encode the string.\n",
            " |      errors\n",
            " |        The error handling scheme to use for encoding errors.\n",
            " |        The default is 'strict' meaning that encoding errors raise a\n",
            " |        UnicodeEncodeError.  Other possible values are 'ignore', 'replace' and\n",
            " |        'xmlcharrefreplace' as well as any other name registered with\n",
            " |        codecs.register_error that can handle UnicodeEncodeErrors.\n",
            " |  \n",
            " |  endswith(...)\n",
            " |      S.endswith(suffix[, start[, end]]) -> bool\n",
            " |      \n",
            " |      Return True if S ends with the specified suffix, False otherwise.\n",
            " |      With optional start, test S beginning at that position.\n",
            " |      With optional end, stop comparing S at that position.\n",
            " |      suffix can also be a tuple of strings to try.\n",
            " |  \n",
            " |  expandtabs(self, /, tabsize=8)\n",
            " |      Return a copy where all tab characters are expanded using spaces.\n",
            " |      \n",
            " |      If tabsize is not given, a tab size of 8 characters is assumed.\n",
            " |  \n",
            " |  find(...)\n",
            " |      S.find(sub[, start[, end]]) -> int\n",
            " |      \n",
            " |      Return the lowest index in S where substring sub is found,\n",
            " |      such that sub is contained within S[start:end].  Optional\n",
            " |      arguments start and end are interpreted as in slice notation.\n",
            " |      \n",
            " |      Return -1 on failure.\n",
            " |  \n",
            " |  format(...)\n",
            " |      S.format(*args, **kwargs) -> str\n",
            " |      \n",
            " |      Return a formatted version of S, using substitutions from args and kwargs.\n",
            " |      The substitutions are identified by braces ('{' and '}').\n",
            " |  \n",
            " |  format_map(...)\n",
            " |      S.format_map(mapping) -> str\n",
            " |      \n",
            " |      Return a formatted version of S, using substitutions from mapping.\n",
            " |      The substitutions are identified by braces ('{' and '}').\n",
            " |  \n",
            " |  index(...)\n",
            " |      S.index(sub[, start[, end]]) -> int\n",
            " |      \n",
            " |      Return the lowest index in S where substring sub is found,\n",
            " |      such that sub is contained within S[start:end].  Optional\n",
            " |      arguments start and end are interpreted as in slice notation.\n",
            " |      \n",
            " |      Raises ValueError when the substring is not found.\n",
            " |  \n",
            " |  isalnum(self, /)\n",
            " |      Return True if the string is an alpha-numeric string, False otherwise.\n",
            " |      \n",
            " |      A string is alpha-numeric if all characters in the string are alpha-numeric and\n",
            " |      there is at least one character in the string.\n",
            " |  \n",
            " |  isalpha(self, /)\n",
            " |      Return True if the string is an alphabetic string, False otherwise.\n",
            " |      \n",
            " |      A string is alphabetic if all characters in the string are alphabetic and there\n",
            " |      is at least one character in the string.\n",
            " |  \n",
            " |  isascii(self, /)\n",
            " |      Return True if all characters in the string are ASCII, False otherwise.\n",
            " |      \n",
            " |      ASCII characters have code points in the range U+0000-U+007F.\n",
            " |      Empty string is ASCII too.\n",
            " |  \n",
            " |  isdecimal(self, /)\n",
            " |      Return True if the string is a decimal string, False otherwise.\n",
            " |      \n",
            " |      A string is a decimal string if all characters in the string are decimal and\n",
            " |      there is at least one character in the string.\n",
            " |  \n",
            " |  isdigit(self, /)\n",
            " |      Return True if the string is a digit string, False otherwise.\n",
            " |      \n",
            " |      A string is a digit string if all characters in the string are digits and there\n",
            " |      is at least one character in the string.\n",
            " |  \n",
            " |  isidentifier(self, /)\n",
            " |      Return True if the string is a valid Python identifier, False otherwise.\n",
            " |      \n",
            " |      Call keyword.iskeyword(s) to test whether string s is a reserved identifier,\n",
            " |      such as \"def\" or \"class\".\n",
            " |  \n",
            " |  islower(self, /)\n",
            " |      Return True if the string is a lowercase string, False otherwise.\n",
            " |      \n",
            " |      A string is lowercase if all cased characters in the string are lowercase and\n",
            " |      there is at least one cased character in the string.\n",
            " |  \n",
            " |  isnumeric(self, /)\n",
            " |      Return True if the string is a numeric string, False otherwise.\n",
            " |      \n",
            " |      A string is numeric if all characters in the string are numeric and there is at\n",
            " |      least one character in the string.\n",
            " |  \n",
            " |  isprintable(self, /)\n",
            " |      Return True if the string is printable, False otherwise.\n",
            " |      \n",
            " |      A string is printable if all of its characters are considered printable in\n",
            " |      repr() or if it is empty.\n",
            " |  \n",
            " |  isspace(self, /)\n",
            " |      Return True if the string is a whitespace string, False otherwise.\n",
            " |      \n",
            " |      A string is whitespace if all characters in the string are whitespace and there\n",
            " |      is at least one character in the string.\n",
            " |  \n",
            " |  istitle(self, /)\n",
            " |      Return True if the string is a title-cased string, False otherwise.\n",
            " |      \n",
            " |      In a title-cased string, upper- and title-case characters may only\n",
            " |      follow uncased characters and lowercase characters only cased ones.\n",
            " |  \n",
            " |  isupper(self, /)\n",
            " |      Return True if the string is an uppercase string, False otherwise.\n",
            " |      \n",
            " |      A string is uppercase if all cased characters in the string are uppercase and\n",
            " |      there is at least one cased character in the string.\n",
            " |  \n",
            " |  join(self, iterable, /)\n",
            " |      Concatenate any number of strings.\n",
            " |      \n",
            " |      The string whose method is called is inserted in between each given string.\n",
            " |      The result is returned as a new string.\n",
            " |      \n",
            " |      Example: '.'.join(['ab', 'pq', 'rs']) -> 'ab.pq.rs'\n",
            " |  \n",
            " |  ljust(self, width, fillchar=' ', /)\n",
            " |      Return a left-justified string of length width.\n",
            " |      \n",
            " |      Padding is done using the specified fill character (default is a space).\n",
            " |  \n",
            " |  lower(self, /)\n",
            " |      Return a copy of the string converted to lowercase.\n",
            " |  \n",
            " |  lstrip(self, chars=None, /)\n",
            " |      Return a copy of the string with leading whitespace removed.\n",
            " |      \n",
            " |      If chars is given and not None, remove characters in chars instead.\n",
            " |  \n",
            " |  partition(self, sep, /)\n",
            " |      Partition the string into three parts using the given separator.\n",
            " |      \n",
            " |      This will search for the separator in the string.  If the separator is found,\n",
            " |      returns a 3-tuple containing the part before the separator, the separator\n",
            " |      itself, and the part after it.\n",
            " |      \n",
            " |      If the separator is not found, returns a 3-tuple containing the original string\n",
            " |      and two empty strings.\n",
            " |  \n",
            " |  removeprefix(self, prefix, /)\n",
            " |      Return a str with the given prefix string removed if present.\n",
            " |      \n",
            " |      If the string starts with the prefix string, return string[len(prefix):].\n",
            " |      Otherwise, return a copy of the original string.\n",
            " |  \n",
            " |  removesuffix(self, suffix, /)\n",
            " |      Return a str with the given suffix string removed if present.\n",
            " |      \n",
            " |      If the string ends with the suffix string and that suffix is not empty,\n",
            " |      return string[:-len(suffix)]. Otherwise, return a copy of the original\n",
            " |      string.\n",
            " |  \n",
            " |  replace(self, old, new, count=-1, /)\n",
            " |      Return a copy with all occurrences of substring old replaced by new.\n",
            " |      \n",
            " |        count\n",
            " |          Maximum number of occurrences to replace.\n",
            " |          -1 (the default value) means replace all occurrences.\n",
            " |      \n",
            " |      If the optional argument count is given, only the first count occurrences are\n",
            " |      replaced.\n",
            " |  \n",
            " |  rfind(...)\n",
            " |      S.rfind(sub[, start[, end]]) -> int\n",
            " |      \n",
            " |      Return the highest index in S where substring sub is found,\n",
            " |      such that sub is contained within S[start:end].  Optional\n",
            " |      arguments start and end are interpreted as in slice notation.\n",
            " |      \n",
            " |      Return -1 on failure.\n",
            " |  \n",
            " |  rindex(...)\n",
            " |      S.rindex(sub[, start[, end]]) -> int\n",
            " |      \n",
            " |      Return the highest index in S where substring sub is found,\n",
            " |      such that sub is contained within S[start:end].  Optional\n",
            " |      arguments start and end are interpreted as in slice notation.\n",
            " |      \n",
            " |      Raises ValueError when the substring is not found.\n",
            " |  \n",
            " |  rjust(self, width, fillchar=' ', /)\n",
            " |      Return a right-justified string of length width.\n",
            " |      \n",
            " |      Padding is done using the specified fill character (default is a space).\n",
            " |  \n",
            " |  rpartition(self, sep, /)\n",
            " |      Partition the string into three parts using the given separator.\n",
            " |      \n",
            " |      This will search for the separator in the string, starting at the end. If\n",
            " |      the separator is found, returns a 3-tuple containing the part before the\n",
            " |      separator, the separator itself, and the part after it.\n",
            " |      \n",
            " |      If the separator is not found, returns a 3-tuple containing two empty strings\n",
            " |      and the original string.\n",
            " |  \n",
            " |  rsplit(self, /, sep=None, maxsplit=-1)\n",
            " |      Return a list of the substrings in the string, using sep as the separator string.\n",
            " |      \n",
            " |        sep\n",
            " |          The separator used to split the string.\n",
            " |      \n",
            " |          When set to None (the default value), will split on any whitespace\n",
            " |          character (including \\\\n \\\\r \\\\t \\\\f and spaces) and will discard\n",
            " |          empty strings from the result.\n",
            " |        maxsplit\n",
            " |          Maximum number of splits (starting from the left).\n",
            " |          -1 (the default value) means no limit.\n",
            " |      \n",
            " |      Splitting starts at the end of the string and works to the front.\n",
            " |  \n",
            " |  rstrip(self, chars=None, /)\n",
            " |      Return a copy of the string with trailing whitespace removed.\n",
            " |      \n",
            " |      If chars is given and not None, remove characters in chars instead.\n",
            " |  \n",
            " |  split(self, /, sep=None, maxsplit=-1)\n",
            " |      Return a list of the substrings in the string, using sep as the separator string.\n",
            " |      \n",
            " |        sep\n",
            " |          The separator used to split the string.\n",
            " |      \n",
            " |          When set to None (the default value), will split on any whitespace\n",
            " |          character (including \\\\n \\\\r \\\\t \\\\f and spaces) and will discard\n",
            " |          empty strings from the result.\n",
            " |        maxsplit\n",
            " |          Maximum number of splits (starting from the left).\n",
            " |          -1 (the default value) means no limit.\n",
            " |      \n",
            " |      Note, str.split() is mainly useful for data that has been intentionally\n",
            " |      delimited.  With natural text that includes punctuation, consider using\n",
            " |      the regular expression module.\n",
            " |  \n",
            " |  splitlines(self, /, keepends=False)\n",
            " |      Return a list of the lines in the string, breaking at line boundaries.\n",
            " |      \n",
            " |      Line breaks are not included in the resulting list unless keepends is given and\n",
            " |      true.\n",
            " |  \n",
            " |  startswith(...)\n",
            " |      S.startswith(prefix[, start[, end]]) -> bool\n",
            " |      \n",
            " |      Return True if S starts with the specified prefix, False otherwise.\n",
            " |      With optional start, test S beginning at that position.\n",
            " |      With optional end, stop comparing S at that position.\n",
            " |      prefix can also be a tuple of strings to try.\n",
            " |  \n",
            " |  strip(self, chars=None, /)\n",
            " |      Return a copy of the string with leading and trailing whitespace removed.\n",
            " |      \n",
            " |      If chars is given and not None, remove characters in chars instead.\n",
            " |  \n",
            " |  swapcase(self, /)\n",
            " |      Convert uppercase characters to lowercase and lowercase characters to uppercase.\n",
            " |  \n",
            " |  title(self, /)\n",
            " |      Return a version of the string where each word is titlecased.\n",
            " |      \n",
            " |      More specifically, words start with uppercased characters and all remaining\n",
            " |      cased characters have lower case.\n",
            " |  \n",
            " |  translate(self, table, /)\n",
            " |      Replace each character in the string using the given translation table.\n",
            " |      \n",
            " |        table\n",
            " |          Translation table, which must be a mapping of Unicode ordinals to\n",
            " |          Unicode ordinals, strings, or None.\n",
            " |      \n",
            " |      The table must implement lookup/indexing via __getitem__, for instance a\n",
            " |      dictionary or list.  If this operation raises LookupError, the character is\n",
            " |      left untouched.  Characters mapped to None are deleted.\n",
            " |  \n",
            " |  upper(self, /)\n",
            " |      Return a copy of the string converted to uppercase.\n",
            " |  \n",
            " |  zfill(self, width, /)\n",
            " |      Pad a numeric string with zeros on the left, to fill a field of the given width.\n",
            " |      \n",
            " |      The string is never truncated.\n",
            " |  \n",
            " |  ----------------------------------------------------------------------\n",
            " |  Static methods defined here:\n",
            " |  \n",
            " |  __new__(*args, **kwargs) from builtins.type\n",
            " |      Create and return a new object.  See help(type) for accurate signature.\n",
            " |  \n",
            " |  maketrans(...)\n",
            " |      Return a translation table usable for str.translate().\n",
            " |      \n",
            " |      If there is only one argument, it must be a dictionary mapping Unicode\n",
            " |      ordinals (integers) or characters to Unicode ordinals, strings or None.\n",
            " |      Character keys will be then converted to ordinals.\n",
            " |      If there are two arguments, they must be strings of equal length, and\n",
            " |      in the resulting dictionary, each character in x will be mapped to the\n",
            " |      character at the same position in y. If there is a third argument, it\n",
            " |      must be a string, whose characters will be mapped to None in the result.\n",
            "\n"
          ]
        }
      ]
    },
    {
      "cell_type": "code",
      "source": [
        "dir(str)"
      ],
      "metadata": {
        "colab": {
          "base_uri": "https://localhost:8080/"
        },
        "id": "P_N51kQ6AYQ5",
        "outputId": "a7ae5a77-a4fd-42ca-87c8-19148b429f47"
      },
      "execution_count": 147,
      "outputs": [
        {
          "output_type": "execute_result",
          "data": {
            "text/plain": [
              "['__add__',\n",
              " '__class__',\n",
              " '__contains__',\n",
              " '__delattr__',\n",
              " '__dir__',\n",
              " '__doc__',\n",
              " '__eq__',\n",
              " '__format__',\n",
              " '__ge__',\n",
              " '__getattribute__',\n",
              " '__getitem__',\n",
              " '__getnewargs__',\n",
              " '__gt__',\n",
              " '__hash__',\n",
              " '__init__',\n",
              " '__init_subclass__',\n",
              " '__iter__',\n",
              " '__le__',\n",
              " '__len__',\n",
              " '__lt__',\n",
              " '__mod__',\n",
              " '__mul__',\n",
              " '__ne__',\n",
              " '__new__',\n",
              " '__reduce__',\n",
              " '__reduce_ex__',\n",
              " '__repr__',\n",
              " '__rmod__',\n",
              " '__rmul__',\n",
              " '__setattr__',\n",
              " '__sizeof__',\n",
              " '__str__',\n",
              " '__subclasshook__',\n",
              " 'capitalize',\n",
              " 'casefold',\n",
              " 'center',\n",
              " 'count',\n",
              " 'encode',\n",
              " 'endswith',\n",
              " 'expandtabs',\n",
              " 'find',\n",
              " 'format',\n",
              " 'format_map',\n",
              " 'index',\n",
              " 'isalnum',\n",
              " 'isalpha',\n",
              " 'isascii',\n",
              " 'isdecimal',\n",
              " 'isdigit',\n",
              " 'isidentifier',\n",
              " 'islower',\n",
              " 'isnumeric',\n",
              " 'isprintable',\n",
              " 'isspace',\n",
              " 'istitle',\n",
              " 'isupper',\n",
              " 'join',\n",
              " 'ljust',\n",
              " 'lower',\n",
              " 'lstrip',\n",
              " 'maketrans',\n",
              " 'partition',\n",
              " 'removeprefix',\n",
              " 'removesuffix',\n",
              " 'replace',\n",
              " 'rfind',\n",
              " 'rindex',\n",
              " 'rjust',\n",
              " 'rpartition',\n",
              " 'rsplit',\n",
              " 'rstrip',\n",
              " 'split',\n",
              " 'splitlines',\n",
              " 'startswith',\n",
              " 'strip',\n",
              " 'swapcase',\n",
              " 'title',\n",
              " 'translate',\n",
              " 'upper',\n",
              " 'zfill']"
            ]
          },
          "metadata": {},
          "execution_count": 147
        }
      ]
    },
    {
      "cell_type": "code",
      "source": [
        "print(str.__doc__)  # Docstring of the 'str' class\n",
        "print(len.__doc__)  # Docstring of the 'len' function\n",
        "print(list.append.__doc__)  # Docstring of the 'append' method of 'list'\n"
      ],
      "metadata": {
        "colab": {
          "base_uri": "https://localhost:8080/"
        },
        "id": "mEpx5TmlAihh",
        "outputId": "9c54c2af-de76-40aa-fa87-6a1a7fdd006a"
      },
      "execution_count": 148,
      "outputs": [
        {
          "output_type": "stream",
          "name": "stdout",
          "text": [
            "str(object='') -> str\n",
            "str(bytes_or_buffer[, encoding[, errors]]) -> str\n",
            "\n",
            "Create a new string object from the given object. If encoding or\n",
            "errors is specified, then the object must expose a data buffer\n",
            "that will be decoded using the given encoding and error handler.\n",
            "Otherwise, returns the result of object.__str__() (if defined)\n",
            "or repr(object).\n",
            "encoding defaults to sys.getdefaultencoding().\n",
            "errors defaults to 'strict'.\n",
            "Return the number of items in a container.\n",
            "Append object to the end of the list.\n"
          ]
        }
      ]
    },
    {
      "cell_type": "code",
      "source": [],
      "metadata": {
        "colab": {
          "base_uri": "https://localhost:8080/"
        },
        "id": "_MHMbW8SAogC",
        "outputId": "366d48f0-9e95-4ebd-f77e-f483b032a043"
      },
      "execution_count": 150,
      "outputs": [
        {
          "output_type": "execute_result",
          "data": {
            "text/plain": [
              "['__add__',\n",
              " '__class__',\n",
              " '__class_getitem__',\n",
              " '__contains__',\n",
              " '__delattr__',\n",
              " '__dir__',\n",
              " '__doc__',\n",
              " '__eq__',\n",
              " '__format__',\n",
              " '__ge__',\n",
              " '__getattribute__',\n",
              " '__getitem__',\n",
              " '__getnewargs__',\n",
              " '__gt__',\n",
              " '__hash__',\n",
              " '__init__',\n",
              " '__init_subclass__',\n",
              " '__iter__',\n",
              " '__le__',\n",
              " '__len__',\n",
              " '__lt__',\n",
              " '__mul__',\n",
              " '__ne__',\n",
              " '__new__',\n",
              " '__reduce__',\n",
              " '__reduce_ex__',\n",
              " '__repr__',\n",
              " '__rmul__',\n",
              " '__setattr__',\n",
              " '__sizeof__',\n",
              " '__str__',\n",
              " '__subclasshook__',\n",
              " 'count',\n",
              " 'index']"
            ]
          },
          "metadata": {},
          "execution_count": 150
        }
      ]
    },
    {
      "cell_type": "code",
      "source": [
        "s = 'aditya'\n",
        "type(s)"
      ],
      "metadata": {
        "colab": {
          "base_uri": "https://localhost:8080/"
        },
        "id": "jJpo55G2A7Eq",
        "outputId": "4847ea4a-c588-444f-c95d-d1a4715bc388"
      },
      "execution_count": 151,
      "outputs": [
        {
          "output_type": "execute_result",
          "data": {
            "text/plain": [
              "str"
            ]
          },
          "metadata": {},
          "execution_count": 151
        }
      ]
    },
    {
      "cell_type": "code",
      "source": [
        "x = [1, 3, 5]\n",
        "# print(person)\n",
        "def pri(*args, **kargs):\n",
        "  print(args)\n",
        "  print(kargs)\n",
        "pri(*x, **person)"
      ],
      "metadata": {
        "colab": {
          "base_uri": "https://localhost:8080/"
        },
        "id": "YYu3UQhiBS8M",
        "outputId": "4b305759-b035-4801-def5-37d3da974e16"
      },
      "execution_count": 157,
      "outputs": [
        {
          "output_type": "stream",
          "name": "stdout",
          "text": [
            "(1, 3, 5)\n",
            "{'name': 'Adii', 'gender': 'Male', 'age': 19}\n"
          ]
        }
      ]
    },
    {
      "cell_type": "code",
      "source": [
        "sq = [i*i for i in x]\n",
        "sq"
      ],
      "metadata": {
        "colab": {
          "base_uri": "https://localhost:8080/"
        },
        "id": "mI5eiDTDB5fA",
        "outputId": "c73e87d0-9888-40ff-b3a2-1400301eb3ce"
      },
      "execution_count": 159,
      "outputs": [
        {
          "output_type": "execute_result",
          "data": {
            "text/plain": [
              "[1, 9, 25]"
            ]
          },
          "metadata": {},
          "execution_count": 159
        }
      ]
    },
    {
      "cell_type": "code",
      "source": [
        "cu = [i**3 for i in x]\n",
        "cu"
      ],
      "metadata": {
        "colab": {
          "base_uri": "https://localhost:8080/"
        },
        "id": "5FyCW8AiDbKU",
        "outputId": "c9accbe8-eca2-47c4-8db8-8a035fca2dd1"
      },
      "execution_count": 160,
      "outputs": [
        {
          "output_type": "execute_result",
          "data": {
            "text/plain": [
              "[1, 27, 125]"
            ]
          },
          "metadata": {},
          "execution_count": 160
        }
      ]
    },
    {
      "cell_type": "code",
      "source": [
        "t = tuple(zip(sq, cu))\n",
        "t"
      ],
      "metadata": {
        "colab": {
          "base_uri": "https://localhost:8080/"
        },
        "id": "rbIy2wk1D5mV",
        "outputId": "e5fb2712-e700-4e83-cc5e-95c328f2ceb4"
      },
      "execution_count": 167,
      "outputs": [
        {
          "output_type": "execute_result",
          "data": {
            "text/plain": [
              "((1, 1), (9, 27), (25, 125))"
            ]
          },
          "metadata": {},
          "execution_count": 167
        }
      ]
    },
    {
      "cell_type": "code",
      "source": [
        "dic = {i:j for (i,j) in zip(sq, cu)}\n",
        "dic"
      ],
      "metadata": {
        "colab": {
          "base_uri": "https://localhost:8080/"
        },
        "id": "YtspyFIgDtec",
        "outputId": "d8841893-a68c-4ecc-d69c-4f8846af26c5"
      },
      "execution_count": 161,
      "outputs": [
        {
          "output_type": "execute_result",
          "data": {
            "text/plain": [
              "{1: 1, 9: 27, 25: 125}"
            ]
          },
          "metadata": {},
          "execution_count": 161
        }
      ]
    },
    {
      "cell_type": "code",
      "source": [
        "ar = [*sq, *cu]\n",
        "ar"
      ],
      "metadata": {
        "colab": {
          "base_uri": "https://localhost:8080/"
        },
        "id": "_d7Wh6VOD21S",
        "outputId": "43ef7747-77b0-463c-abfc-4894a5239a43"
      },
      "execution_count": 168,
      "outputs": [
        {
          "output_type": "execute_result",
          "data": {
            "text/plain": [
              "[1, 9, 25, 1, 27, 125]"
            ]
          },
          "metadata": {},
          "execution_count": 168
        }
      ]
    },
    {
      "cell_type": "code",
      "source": [
        "dicc = {**person, **dic}\n",
        "dicc"
      ],
      "metadata": {
        "colab": {
          "base_uri": "https://localhost:8080/"
        },
        "id": "TEbEj8szEtco",
        "outputId": "e3b6604c-97c9-477b-ca27-92e9dc534a8a"
      },
      "execution_count": 173,
      "outputs": [
        {
          "output_type": "execute_result",
          "data": {
            "text/plain": [
              "{'name': 'Adii', 'gender': 'Male', 'age': 19, 1: 1, 9: 27, 25: 125}"
            ]
          },
          "metadata": {},
          "execution_count": 173
        }
      ]
    },
    {
      "cell_type": "code",
      "source": [
        "dicc.pop(1)\n",
        "dicc.popitem()"
      ],
      "metadata": {
        "colab": {
          "base_uri": "https://localhost:8080/"
        },
        "id": "wYkmjdWJEy3z",
        "outputId": "7758cc4f-8c26-465e-9f4e-a647121bddc4"
      },
      "execution_count": 174,
      "outputs": [
        {
          "output_type": "execute_result",
          "data": {
            "text/plain": [
              "(25, 125)"
            ]
          },
          "metadata": {},
          "execution_count": 174
        }
      ]
    },
    {
      "cell_type": "code",
      "source": [
        "len(dicc)"
      ],
      "metadata": {
        "colab": {
          "base_uri": "https://localhost:8080/"
        },
        "id": "GI1KCUTME_9S",
        "outputId": "03df59e8-70f7-48eb-f354-ed42485faebe"
      },
      "execution_count": 175,
      "outputs": [
        {
          "output_type": "execute_result",
          "data": {
            "text/plain": [
              "4"
            ]
          },
          "metadata": {},
          "execution_count": 175
        }
      ]
    },
    {
      "cell_type": "code",
      "source": [
        "# lambda\n",
        "\n",
        "add = lambda *args: sum(args)\n",
        "\n",
        "add(*x)"
      ],
      "metadata": {
        "colab": {
          "base_uri": "https://localhost:8080/"
        },
        "id": "QKm_SSleFNPm",
        "outputId": "e4c52390-1f15-4fc1-9f0d-7465a5a9f693"
      },
      "execution_count": 176,
      "outputs": [
        {
          "output_type": "execute_result",
          "data": {
            "text/plain": [
              "9"
            ]
          },
          "metadata": {},
          "execution_count": 176
        }
      ]
    },
    {
      "cell_type": "code",
      "source": [
        "prs = lambda x,*args: x in args\n",
        "prs(3,*x)"
      ],
      "metadata": {
        "colab": {
          "base_uri": "https://localhost:8080/"
        },
        "id": "yw76DtRWFv2v",
        "outputId": "01f1c1fd-f3e3-4eda-9125-cf5395c55716"
      },
      "execution_count": 178,
      "outputs": [
        {
          "output_type": "execute_result",
          "data": {
            "text/plain": [
              "True"
            ]
          },
          "metadata": {},
          "execution_count": 178
        }
      ]
    },
    {
      "cell_type": "code",
      "source": [
        "def transform(f, L):\n",
        "  output = []\n",
        "\n",
        "  for i in L:\n",
        "    output.append(f(i))\n",
        "\n",
        "  print(output)\n",
        "\n",
        "transform(lambda i: i**3,x)\n",
        "\n",
        "# same thing can be done by map function\n",
        "\n",
        "ll = list(map(lambda i:i*i, x))\n",
        "ll"
      ],
      "metadata": {
        "colab": {
          "base_uri": "https://localhost:8080/"
        },
        "id": "SgjjqhNHGGyi",
        "outputId": "e7a234a0-c72f-4965-9452-4b0016c4a524"
      },
      "execution_count": 181,
      "outputs": [
        {
          "output_type": "stream",
          "name": "stdout",
          "text": [
            "[1, 27, 125]\n"
          ]
        },
        {
          "output_type": "execute_result",
          "data": {
            "text/plain": [
              "[1, 9, 25]"
            ]
          },
          "metadata": {},
          "execution_count": 181
        }
      ]
    },
    {
      "cell_type": "code",
      "source": [
        "# filter\n",
        "L = [3,4,5,6,7]\n",
        "\n",
        "list(filter(lambda x:x>5,L))"
      ],
      "metadata": {
        "colab": {
          "base_uri": "https://localhost:8080/"
        },
        "id": "5T0-Wq9WGtLp",
        "outputId": "2eed1092-ef02-4ffd-8212-b1f3fa623335"
      },
      "execution_count": 182,
      "outputs": [
        {
          "output_type": "execute_result",
          "data": {
            "text/plain": [
              "[6, 7]"
            ]
          },
          "metadata": {},
          "execution_count": 182
        }
      ]
    },
    {
      "cell_type": "code",
      "source": [
        "# reduce"
      ],
      "metadata": {
        "colab": {
          "base_uri": "https://localhost:8080/"
        },
        "id": "vRiH_xxOHOuV",
        "outputId": "29622694-c5aa-4d7a-d15e-c4615b2ce94e"
      },
      "execution_count": 183,
      "outputs": [
        {
          "output_type": "stream",
          "name": "stdout",
          "text": [
            "division by zero\n"
          ]
        }
      ]
    },
    {
      "cell_type": "code",
      "source": [
        "try:\n",
        "  x = 9\n",
        "  y = 0\n",
        "  d = x / y\n",
        "except Exception as e:\n",
        "  print(e)"
      ],
      "metadata": {
        "colab": {
          "base_uri": "https://localhost:8080/"
        },
        "id": "-tZI06p_IAPG",
        "outputId": "f7fd4cb8-b750-4ba8-b94d-f799187f7ca9"
      },
      "execution_count": 184,
      "outputs": [
        {
          "output_type": "stream",
          "name": "stdout",
          "text": [
            "division by zero\n"
          ]
        }
      ]
    },
    {
      "cell_type": "code",
      "source": [
        "x = 6\n",
        "# y = 'Adi'\n",
        "y = 2\n",
        "try:\n",
        "  z = x + y\n",
        "except Exception as e:\n",
        "  print(e)\n",
        "else:\n",
        "  print(z)\n",
        "finally:\n",
        "  print('Done')"
      ],
      "metadata": {
        "colab": {
          "base_uri": "https://localhost:8080/"
        },
        "id": "_IxXSj6iID6S",
        "outputId": "80f3dc1b-1d29-4f5c-cc1a-65eca98d39bf"
      },
      "execution_count": 186,
      "outputs": [
        {
          "output_type": "stream",
          "name": "stdout",
          "text": [
            "8\n",
            "Done\n"
          ]
        }
      ]
    },
    {
      "cell_type": "code",
      "source": [
        "def tic_tac_toe():\n",
        "    board = [' ' for _ in range(9)]\n",
        "\n",
        "    def print_board():\n",
        "        print(f' {board[0]} | {board[1]} | {board[2]} ')\n",
        "        print('-----------')\n",
        "        print(f' {board[3]} | {board[4]} | {board[5]} ')\n",
        "        print('-----------')\n",
        "        print(f' {board[6]} | {board[7]} | {board[8]} ')\n",
        "\n",
        "    def check_winner(player):\n",
        "        # Check rows, columns, and diagonals\n",
        "        win_combinations = [\n",
        "            [0,1,2], [3,4,5], [6,7,8],  # rows\n",
        "            [0,3,6], [1,4,7], [2,5,8],  # columns\n",
        "            [0,4,8], [2,4,6]  # diagonals\n",
        "        ]\n",
        "        return any(all(board[i] == player for i in combo) for combo in win_combinations)\n",
        "\n",
        "    current_player = 'X'\n",
        "    while True:\n",
        "        print_board()\n",
        "        try:\n",
        "            move = int(input(f\"Player {current_player}, choose a position (0-8): \"))\n",
        "            if 0 <= move < 9 and board[move] == ' ':\n",
        "                board[move] = current_player\n",
        "\n",
        "                if check_winner(current_player):\n",
        "                    print_board()\n",
        "                    print(f\"Player {current_player} wins!\")\n",
        "                    break\n",
        "\n",
        "                if ' ' not in board:\n",
        "                    print_board()\n",
        "                    print(\"It's a draw!\")\n",
        "                    break\n",
        "\n",
        "                current_player = 'O' if current_player == 'X' else 'X'\n",
        "            else:\n",
        "                print(\"Invalid move. Try again.\")\n",
        "        except ValueError:\n",
        "            print(\"Please enter a valid number between 0-8.\")"
      ],
      "metadata": {
        "id": "XldtYYE6IsmJ"
      },
      "execution_count": 187,
      "outputs": []
    },
    {
      "cell_type": "code",
      "source": [
        "tic_tac_toe()"
      ],
      "metadata": {
        "colab": {
          "base_uri": "https://localhost:8080/"
        },
        "id": "3kDICos9JppC",
        "outputId": "1c10392e-9df6-4a32-c533-7133d3cd6783"
      },
      "execution_count": 188,
      "outputs": [
        {
          "output_type": "stream",
          "name": "stdout",
          "text": [
            "   |   |   \n",
            "-----------\n",
            "   |   |   \n",
            "-----------\n",
            "   |   |   \n",
            "Player X, choose a position (0-8): 5\n",
            "   |   |   \n",
            "-----------\n",
            "   |   | X \n",
            "-----------\n",
            "   |   |   \n",
            "Player O, choose a position (0-8): 3\n",
            "   |   |   \n",
            "-----------\n",
            " O |   | X \n",
            "-----------\n",
            "   |   |   \n",
            "Player X, choose a position (0-8): 8\n",
            "   |   |   \n",
            "-----------\n",
            " O |   | X \n",
            "-----------\n",
            "   |   | X \n",
            "Player O, choose a position (0-8): 3\n",
            "Invalid move. Try again.\n",
            "   |   |   \n",
            "-----------\n",
            " O |   | X \n",
            "-----------\n",
            "   |   | X \n",
            "Player O, choose a position (0-8): 2\n",
            "   |   | O \n",
            "-----------\n",
            " O |   | X \n",
            "-----------\n",
            "   |   | X \n",
            "Player X, choose a position (0-8): 6\n",
            "   |   | O \n",
            "-----------\n",
            " O |   | X \n",
            "-----------\n",
            " X |   | X \n",
            "Player O, choose a position (0-8): 7\n",
            "   |   | O \n",
            "-----------\n",
            " O |   | X \n",
            "-----------\n",
            " X | O | X \n",
            "Player X, choose a position (0-8): 0\n",
            " X |   | O \n",
            "-----------\n",
            " O |   | X \n",
            "-----------\n",
            " X | O | X \n",
            "Player O, choose a position (0-8): 1\n",
            " X | O | O \n",
            "-----------\n",
            " O |   | X \n",
            "-----------\n",
            " X | O | X \n",
            "Player X, choose a position (0-8): 4\n",
            " X | O | O \n",
            "-----------\n",
            " O | X | X \n",
            "-----------\n",
            " X | O | X \n",
            "Player X wins!\n"
          ]
        }
      ]
    },
    {
      "cell_type": "code",
      "source": [
        "def quiz_game():\n",
        "    questions = [\n",
        "        {\n",
        "            \"question\": \"What is the capital of France?\",\n",
        "            \"options\": [\"London\", \"Berlin\", \"Paris\", \"Madrid\"],\n",
        "            \"correct\": 2\n",
        "        },\n",
        "        {\n",
        "            \"question\": \"Which planet is known as the Red Planet?\",\n",
        "            \"options\": [\"Venus\", \"Mars\", \"Jupiter\", \"Saturn\"],\n",
        "            \"correct\": 1\n",
        "        }\n",
        "    ]\n",
        "\n",
        "    score = 0\n",
        "    for q in questions:\n",
        "        print(q[\"question\"])\n",
        "        for i, option in enumerate(q[\"options\"]):\n",
        "            print(f\"{i}. {option}\")\n",
        "\n",
        "        try:\n",
        "            answer = int(input(\"Enter your choice (0-3): \"))\n",
        "            if answer == q[\"correct\"]:\n",
        "                print(\"Correct!\")\n",
        "                score += 1\n",
        "            else:\n",
        "                print(\"Wrong!\")\n",
        "        except ValueError:\n",
        "            print(\"Invalid input\")\n",
        "\n",
        "    print(f\"Your final score: {score}/{len(questions)}\")\n",
        "\n",
        "quiz_game()"
      ],
      "metadata": {
        "colab": {
          "base_uri": "https://localhost:8080/"
        },
        "id": "JzhHfCDSJvSs",
        "outputId": "2467d628-1710-4ec7-c398-6da96d4171d0"
      },
      "execution_count": 189,
      "outputs": [
        {
          "output_type": "stream",
          "name": "stdout",
          "text": [
            "What is the capital of France?\n",
            "0. London\n",
            "1. Berlin\n",
            "2. Paris\n",
            "3. Madrid\n",
            "Enter your choice (0-3): 2\n",
            "Correct!\n",
            "Which planet is known as the Red Planet?\n",
            "0. Venus\n",
            "1. Mars\n",
            "2. Jupiter\n",
            "3. Saturn\n",
            "Enter your choice (0-3): 1\n",
            "Correct!\n",
            "Your final score: 2/2\n"
          ]
        }
      ]
    },
    {
      "cell_type": "code",
      "source": [
        "import random as rnd\n",
        "import string\n",
        "def genPass(len):\n",
        "  char = string.ascii_letters + string.digits + string.punctuation\n",
        "  password = ''.join([rnd.choice(char) for _ in range(len)])\n",
        "  print(password)\n",
        "\n",
        "genPass(12)"
      ],
      "metadata": {
        "colab": {
          "base_uri": "https://localhost:8080/"
        },
        "id": "5ddl2HY4Li0X",
        "outputId": "d69f50f3-0ffb-47f3-e431-abbec2addfbd"
      },
      "execution_count": 190,
      "outputs": [
        {
          "output_type": "stream",
          "name": "stdout",
          "text": [
            "hs1?:&y<z*V\"\n"
          ]
        }
      ]
    },
    {
      "cell_type": "code",
      "source": [
        "any(board[a] == board[b] == board[c] == player for a,b,c in win_list)\n",
        "if ' ' not in beard:\n",
        "  print(\"its a tie\")\n",
        "\n",
        "\n"
      ],
      "metadata": {
        "id": "VESu_IUFNa4D"
      },
      "execution_count": null,
      "outputs": []
    }
  ]
}
{
  "nbformat": 4,
  "nbformat_minor": 0,
  "metadata": {
    "colab": {
      "provenance": [],
      "authorship_tag": "ABX9TyPRsK5xvdsQYhble+bcHAO0",
      "include_colab_link": true
    },
    "kernelspec": {
      "name": "python3",
      "display_name": "Python 3"
    },
    "language_info": {
      "name": "python"
    }
  },
  "cells": [
    {
      "cell_type": "markdown",
      "metadata": {
        "id": "view-in-github",
        "colab_type": "text"
      },
      "source": [
        "<a href=\"https://colab.research.google.com/github/idityaGE/Python/blob/main/assignment_2/assig_py_2.ipynb\" target=\"_parent\"><img src=\"https://colab.research.google.com/assets/colab-badge.svg\" alt=\"Open In Colab\"/></a>"
      ]
    },
    {
      "cell_type": "code",
      "execution_count": null,
      "metadata": {
        "id": "qI-itUZ5Zvf1"
      },
      "outputs": [],
      "source": [
        "# print(\"\"\"\n",
        "# Twinkle, twinkle, little star,\n",
        "#       How I wonder what you are!\n",
        "#              Up above the world so high,\n",
        "#              Like a diamond in the sky.\n",
        "# Twinkle, twinkle, little star,\n",
        "#     How I wonder what you are!\n",
        "# \"\"\")\n",
        "\n",
        "\n",
        "print(\"\"\" Twinkle, twinkle, little star,\\n \\t How I wonder what you are!\\n\\t\\t Up above the world so high,\\n\\t\\t Like a diamond in the sky.\\n Twinkle, twinkle, little star,\\n\\t How I wonder what you are!\n",
        "\"\"\")"
      ]
    },
    {
      "cell_type": "code",
      "source": [
        "import sys\n",
        "\n",
        "print(sys.version)"
      ],
      "metadata": {
        "id": "yHFjosCkaBqi"
      },
      "execution_count": null,
      "outputs": []
    },
    {
      "cell_type": "code",
      "source": [
        "import datetime\n",
        "\n",
        "current_time = datetime.datetime.now()\n",
        "\n",
        "print(\"The attributes of now() are :\")\n",
        "\n",
        "print(\"Year :\", current_time.year)\n",
        "\n",
        "print(\"Month : \", current_time.month)\n",
        "\n",
        "print(\"Day : \", current_time.day)\n",
        "\n",
        "print(\"Hour : \", current_time.hour)\n",
        "\n",
        "print(\"Minute : \", current_time.minute)\n",
        "\n",
        "print(\"Second :\", current_time.second)\n",
        "\n",
        "print(\"Microsecond :\", current_time.microsecond)"
      ],
      "metadata": {
        "id": "X0C22k0GaD-A"
      },
      "execution_count": null,
      "outputs": []
    }
  ]
}
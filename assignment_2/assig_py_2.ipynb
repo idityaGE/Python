{
  "nbformat": 4,
  "nbformat_minor": 0,
  "metadata": {
    "colab": {
      "provenance": [],
      "authorship_tag": "ABX9TyNxzBUXebTYVxWIRdguxSHL",
      "include_colab_link": true
    },
    "kernelspec": {
      "name": "python3",
      "display_name": "Python 3"
    },
    "language_info": {
      "name": "python"
    }
  },
  "cells": [
    {
      "cell_type": "markdown",
      "metadata": {
        "id": "view-in-github",
        "colab_type": "text"
      },
      "source": [
        "<a href=\"https://colab.research.google.com/github/idityaGE/Python/blob/main/assignment_2/assig_py_2.ipynb\" target=\"_parent\"><img src=\"https://colab.research.google.com/assets/colab-badge.svg\" alt=\"Open In Colab\"/></a>"
      ]
    },
    {
      "cell_type": "code",
      "source": [
        "'''\n",
        "1. Write a Python program to print the following string in a specific format(see the output).\n",
        "Sample String : &quot;Twinkle, twinkle, little star, How I wonder what you are! Up above the world so\n",
        "high, Like a diamond in the sky. Twinkle, twinkle, little star, How I wonder what you are&quot;\n",
        "Output :\n",
        "Twinkle, twinkle, little star,\n",
        "      How I wonder what you are!\n",
        "             Up above the world so high,\n",
        "             Like a diamond in the sky.\n",
        "Twinkle, twinkle, little star,\n",
        "    How I wonder what you are!\n",
        "'''\n",
        "\n",
        "print(\"\"\" Twinkle, twinkle, little star,\\n \\t How I wonder what you are!\\n\\t\\t Up above the world so high,\\n\\t\\t Like a diamond in the sky.\\n Twinkle, twinkle, little star,\\n\\t How I wonder what you are!\n",
        "\"\"\")\n",
        "# output :"
      ],
      "metadata": {
        "colab": {
          "base_uri": "https://localhost:8080/"
        },
        "id": "HJsrJS4yI-eW",
        "outputId": "3ef7da38-6b22-46ef-bd38-5fda0ce514fb"
      },
      "execution_count": 3,
      "outputs": [
        {
          "output_type": "stream",
          "name": "stdout",
          "text": [
            " Twinkle, twinkle, little star,\n",
            " \t How I wonder what you are!\n",
            "\t\t Up above the world so high,\n",
            "\t\t Like a diamond in the sky.\n",
            " Twinkle, twinkle, little star,\n",
            "\t How I wonder what you are!\n",
            "\n"
          ]
        }
      ]
    },
    {
      "cell_type": "code",
      "source": [
        "\n",
        "\n",
        "# 2. Write a Python program to find out what version of Python you are using.\n",
        "import sys\n",
        "print(sys.version)"
      ],
      "metadata": {
        "id": "yHFjosCkaBqi",
        "colab": {
          "base_uri": "https://localhost:8080/"
        },
        "outputId": "511f4826-da2f-45b3-da84-eae687c81fda"
      },
      "execution_count": 4,
      "outputs": [
        {
          "output_type": "stream",
          "name": "stdout",
          "text": [
            "3.10.12 (main, Sep 11 2024, 15:47:36) [GCC 11.4.0]\n"
          ]
        }
      ]
    },
    {
      "cell_type": "code",
      "source": [
        "\n",
        "\n",
        "# 3. Write a Python program to display the current date and time.\n",
        "import datetime\n",
        "\n",
        "current_time = datetime.datetime.now()\n",
        "\n",
        "print(\"The attributes of now() are :\")\n",
        "print(\"Year :\", current_time.year)\n",
        "print(\"Month : \", current_time.month)\n",
        "print(\"Day : \", current_time.day)\n",
        "print(\"Hour : \", current_time.hour)\n",
        "print(\"Minute : \", current_time.minute)\n",
        "print(\"Second :\", current_time.second)\n",
        "print(\"Microsecond :\", current_time.microsecond)\n",
        "# output :"
      ],
      "metadata": {
        "id": "X0C22k0GaD-A",
        "colab": {
          "base_uri": "https://localhost:8080/"
        },
        "outputId": "7f017292-1326-4ac7-b841-9abe25a3823c"
      },
      "execution_count": 5,
      "outputs": [
        {
          "output_type": "stream",
          "name": "stdout",
          "text": [
            "The attributes of now() are :\n",
            "Year : 2024\n",
            "Month :  9\n",
            "Day :  24\n",
            "Hour :  17\n",
            "Minute :  48\n",
            "Second : 57\n",
            "Microsecond : 349794\n"
          ]
        }
      ]
    },
    {
      "cell_type": "code",
      "source": [
        "\n",
        "\n",
        "# 5. Write a Python program that accepts the user's first and last name and prints them in reverse\n",
        "# order with a space between them.\n",
        "first_name = input(\"Enter your first name : \")\n",
        "last_name = input(\"Enter your last name : \")\n",
        "print(f\"{last_name} {first_name}\")\n",
        "# output :"
      ],
      "metadata": {
        "colab": {
          "base_uri": "https://localhost:8080/"
        },
        "id": "_yce2Vu3IXwN",
        "outputId": "f2998a04-08e7-477e-8aae-dfff327a5e89"
      },
      "execution_count": 7,
      "outputs": [
        {
          "output_type": "stream",
          "name": "stdout",
          "text": [
            "Enter your first name : Aditya\n",
            "Enter your last name : Maurya\n",
            "Maurya Aditya\n"
          ]
        }
      ]
    },
    {
      "cell_type": "code",
      "source": [
        "\n",
        "\"\"\"\n",
        "6. Write a Python program that accepts a sequence of comma-separated numbers from the user and\n",
        "generates a list and a tuple of those numbers.\n",
        "Sample data : 3, 5, 7, 23\n",
        "Output :\n",
        "List : ['3', ' 5', ' 7', ' 23']\n",
        "Tuple : ('3', ' 5', ' 7', ' 23')\n",
        "\"\"\"\n",
        "data = input(\"Enter the comma-separated numbers : \")\n",
        "data_list = data.split(',')\n",
        "data_tuple = tuple(data_list)\n",
        "print(\"List:\", data_list)\n",
        "print(\"Tuple:\", data_tuple)\n",
        "# output :"
      ],
      "metadata": {
        "colab": {
          "base_uri": "https://localhost:8080/"
        },
        "id": "CfmhQ21bKYvt",
        "outputId": "1f809461-5f1a-43d5-d532-3edf80eea9de"
      },
      "execution_count": 8,
      "outputs": [
        {
          "output_type": "stream",
          "name": "stdout",
          "text": [
            "Enter the comma-separated numbers : 3, 5, 2, 5\n",
            "List: ['3', ' 5', ' 2', ' 5']\n",
            "Tuple: ('3', ' 5', ' 2', ' 5')\n"
          ]
        }
      ]
    },
    {
      "cell_type": "code",
      "source": [
        "\n",
        "\n",
        "'''\n",
        "7. Write a Python program that accepts a filename from the user and prints the extension of the file.\n",
        "Sample filename : abc.java\n",
        "Output : java\n",
        "'''\n",
        "string = input('Enter the File name : ')\n",
        "file_exten = string.split('.')[-1]\n",
        "print(file_exten)\n",
        "# output :"
      ],
      "metadata": {
        "colab": {
          "base_uri": "https://localhost:8080/"
        },
        "id": "RARAYswXLZIv",
        "outputId": "6df201a5-78a2-49da-ce39-78de51bbb5a4"
      },
      "execution_count": 10,
      "outputs": [
        {
          "output_type": "stream",
          "name": "stdout",
          "text": [
            "Enter the File name : array.cpp\n",
            "cpp\n"
          ]
        }
      ]
    },
    {
      "cell_type": "code",
      "source": [
        "\n",
        "\n",
        "'''\n",
        "8. Write a Python program to display the first and last colors from the following list.\n",
        "color_list = [\"Red\",\"Green\",\"White\" ,\"Black\"]\n",
        "'''\n",
        "color_list = [\"Red\",\"Green\",\"White\" ,\"Black\"]\n",
        "first_color = color_list[0]\n",
        "last_color = color_list[-1]\n",
        "print(\"First color:\", first_color)\n",
        "print(\"Last color:\", last_color)\n",
        "# output :"
      ],
      "metadata": {
        "colab": {
          "base_uri": "https://localhost:8080/"
        },
        "id": "dywLUQncL7Jj",
        "outputId": "3b212ce7-a5b2-4f7f-ee37-70d40adfd364"
      },
      "execution_count": 11,
      "outputs": [
        {
          "output_type": "stream",
          "name": "stdout",
          "text": [
            "First color: Red\n",
            "Last color: Black\n"
          ]
        }
      ]
    },
    {
      "cell_type": "code",
      "source": [
        "\n",
        "\n",
        "'''\n",
        "9. Write a Python program to display the examination schedule. (extract the date from\n",
        "exam_st_date).\n",
        "exam_st_date = (11, 12, 2024)\n",
        "Sample Output : The examination will start from : 11 / 12 / 2024\n",
        "'''\n",
        "exam_st_date = (11, 12, 2024)\n",
        "print(f\"The examination will start from : {exam_st_date[0]} / {exam_st_date[1]} / {exam_st_date[2]}\")\n",
        "# output :"
      ],
      "metadata": {
        "colab": {
          "base_uri": "https://localhost:8080/"
        },
        "id": "v8CYnLxVMVX_",
        "outputId": "0856b29c-c1ec-44b2-eed2-3e5ee01380f5"
      },
      "execution_count": 12,
      "outputs": [
        {
          "output_type": "stream",
          "name": "stdout",
          "text": [
            "The examination will start from : 11 / 12 / 2024\n"
          ]
        }
      ]
    },
    {
      "cell_type": "code",
      "source": [
        "\n",
        "\n",
        "'''\n",
        "10. Write a Python program that accepts an integer (n) and computes the value of n+nn+nnn.\n",
        "Sample value of n is 5\n",
        "Expected Result : 615\n",
        "'''\n",
        "n = input(\"Enter the value of n : \")\n",
        "result = int(n) + int(n*2) + int(n*3)\n",
        "print(\"Result: \", result)\n",
        "# output :"
      ],
      "metadata": {
        "colab": {
          "base_uri": "https://localhost:8080/"
        },
        "id": "HXauF_sQMq9t",
        "outputId": "2f77d597-70b5-4f11-f144-7062fe39e8f6"
      },
      "execution_count": 16,
      "outputs": [
        {
          "output_type": "stream",
          "name": "stdout",
          "text": [
            "Enter the value of n : 5\n",
            "Result:  615\n"
          ]
        }
      ]
    }
  ]
}
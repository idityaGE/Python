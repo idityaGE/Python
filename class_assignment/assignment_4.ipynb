{
  "nbformat": 4,
  "nbformat_minor": 0,
  "metadata": {
    "colab": {
      "provenance": [],
      "authorship_tag": "ABX9TyN/lYcffcGribkqMB5kox+W",
      "include_colab_link": true
    },
    "kernelspec": {
      "name": "python3",
      "display_name": "Python 3"
    },
    "language_info": {
      "name": "python"
    }
  },
  "cells": [
    {
      "cell_type": "markdown",
      "metadata": {
        "id": "view-in-github",
        "colab_type": "text"
      },
      "source": [
        "<a href=\"https://colab.research.google.com/github/idityaGE/Python/blob/main/class_assignment/assignment_4.ipynb\" target=\"_parent\"><img src=\"https://colab.research.google.com/assets/colab-badge.svg\" alt=\"Open In Colab\"/></a>"
      ]
    },
    {
      "cell_type": "markdown",
      "source": [
        "### Q1 - Guess the Number Game:\n",
        "Build a Number guessing game, in which the user selects a range.\n",
        "Let’s say User selected a range, i.e., from A to B, where A and B belong to Integer.\n",
        "Some random integer will be selected by the system and the user has to guess that integer in the minimum number of guesses."
      ],
      "metadata": {
        "id": "JRSpmrwRwfTu"
      }
    },
    {
      "cell_type": "code",
      "execution_count": 4,
      "metadata": {
        "id": "k-JHA77Zo_y4"
      },
      "outputs": [],
      "source": [
        "import random\n",
        "\n",
        "def guess_game():\n",
        "    print(\"    Guessing Game     \")\n",
        "    min_range = int(input(\"Enter the min range: \"))\n",
        "    max_range = int(input(\"Enter the max range: \"))\n",
        "\n",
        "    random_num = random.randint(min_range, max_range)\n",
        "    counter = 0\n",
        "    guess_num = None\n",
        "\n",
        "    while random_num != guess_num:\n",
        "        guess_num = int(input(\"Enter your guess: \"))\n",
        "        counter += 1\n",
        "        if guess_num == random_num:\n",
        "            print(\"Well Done, You guessed it right!\")\n",
        "            print(f'You took {counter} guesses.')\n",
        "            break\n",
        "        elif guess_num > random_num:\n",
        "            print(\"Try lower\")\n",
        "        else:\n",
        "            print(\"Try higher\")"
      ]
    },
    {
      "cell_type": "code",
      "source": [
        "guess_game()"
      ],
      "metadata": {
        "colab": {
          "base_uri": "https://localhost:8080/"
        },
        "id": "nEvLi6rrsIuC",
        "outputId": "cff3b4b8-a95d-4d64-d999-66ec558ba8ce"
      },
      "execution_count": 5,
      "outputs": [
        {
          "output_type": "stream",
          "name": "stdout",
          "text": [
            "    Guessing Game     \n",
            "Enter the min range: 1\n",
            "Enter the max range: 10\n",
            "Enter your guess: 5\n",
            "Try higher\n",
            "Enter your guess: 7\n",
            "Try higher\n",
            "Enter your guess: 8\n",
            "Try higher\n",
            "Enter your guess: 9\n",
            "Well Done, You guessed it right!\n",
            "You took 4 guesses.\n"
          ]
        }
      ]
    },
    {
      "cell_type": "markdown",
      "source": [
        "### Q2- Rock-Paper-Scissor Game:\n",
        "In this game, the user gets the first chance to pick the option between Rock, paper, and scissors. After the computer select from the remaining two choices(randomly), the winner is decided as per the following rules:\n",
        "- Rock vs paper-> paper wins\n",
        "- Rock vs scissor-> Rock wins\n",
        "- paper vs scissor-> scissor wins."
      ],
      "metadata": {
        "id": "7u5fxjo2wvM0"
      }
    },
    {
      "cell_type": "code",
      "source": [
        "def RPS_game():\n",
        "  print(\"Rock-Paper-Scissors Game!\")\n",
        "  print('''Choose one:\n",
        "    1 -> Rock\n",
        "    2 -> Paper\n",
        "    3 -> Scissors''')\n",
        "\n",
        "  options = {1: \"rock\", 2: \"paper\", 3: \"scissors\"}\n",
        "\n",
        "  try:\n",
        "    user_choice = int(input(\"Enter your choice (1, 2, or 3): \"))\n",
        "    if user_choice not in options:\n",
        "      print(\"Invalid choice! Please select 1, 2, or 3.\")\n",
        "      return\n",
        "  except ValueError:\n",
        "    print(\"Invalid input! Please enter a number (1, 2, or 3).\")\n",
        "    return\n",
        "\n",
        "  user_pick = options[user_choice]\n",
        "  print(f\"You chose: {user_pick.capitalize()}\")\n",
        "\n",
        "  remaining_choices = [key for key in options if key != user_choice]\n",
        "  computer_choice = random.choice(remaining_choices)\n",
        "  computer_pick = options[computer_choice]\n",
        "  print(f\"Computer chose: {computer_pick.capitalize()}\")\n",
        "\n",
        "  if (user_choice == 1 and computer_choice == 3) or \\\n",
        "     (user_choice == 2 and computer_choice == 1) or \\\n",
        "     (user_choice == 3 and computer_choice == 2):\n",
        "    print(\"You win!\")\n",
        "  else:\n",
        "    print(\"Computer wins!\")"
      ],
      "metadata": {
        "id": "EYX1AEjmsLVu"
      },
      "execution_count": 8,
      "outputs": []
    },
    {
      "cell_type": "code",
      "source": [
        "RPS_game()"
      ],
      "metadata": {
        "colab": {
          "base_uri": "https://localhost:8080/"
        },
        "id": "4S93QA30tMOr",
        "outputId": "e05f55d6-64f9-43b7-9088-30e2ab48a426"
      },
      "execution_count": 9,
      "outputs": [
        {
          "output_type": "stream",
          "name": "stdout",
          "text": [
            "Rock-Paper-Scissors Game!\n",
            "Choose one: \n",
            "    1 -> Rock \n",
            "    2 -> Paper \n",
            "    3 -> Scissors\n",
            "Enter your choice (1, 2, or 3): 4\n",
            "Invalid choice! Please select 1, 2, or 3.\n"
          ]
        }
      ]
    },
    {
      "cell_type": "code",
      "source": [
        "RPS_game()"
      ],
      "metadata": {
        "colab": {
          "base_uri": "https://localhost:8080/"
        },
        "id": "ejetTJS-wQn5",
        "outputId": "12babbf8-5394-4163-82cd-9636f25f4369"
      },
      "execution_count": 10,
      "outputs": [
        {
          "output_type": "stream",
          "name": "stdout",
          "text": [
            "Rock-Paper-Scissors Game!\n",
            "Choose one: \n",
            "    1 -> Rock \n",
            "    2 -> Paper \n",
            "    3 -> Scissors\n",
            "Enter your choice (1, 2, or 3): 3\n",
            "You chose: Scissors\n",
            "Computer chose: Rock\n",
            "Computer wins!\n"
          ]
        }
      ]
    },
    {
      "cell_type": "markdown",
      "source": [
        "### Q3- Password Generator using python:\n",
        "Build a random password generator. You will collect data from the user about number of passwords and their lengths and output a collection of passwords with random characters."
      ],
      "metadata": {
        "id": "iGVkmxnzw97Z"
      }
    },
    {
      "cell_type": "code",
      "source": [
        "import string\n",
        "def generate_password(length):\n",
        "  characters = \"ABCDEFGHIJKLMNOPQRSTUVWXYZabcdefghijklmnopqrstuvwxyz0123456789!@#$%^&*()_+\"\n",
        "  # characters = string.ascii_letters + string.digits + string.punctuation\n",
        "  password = ''.join(random.choice(characters) for _ in range(length))\n",
        "  return password\n",
        "\n",
        "def password_generator():\n",
        "  print(\"Password Generator\")\n",
        "  num_passwords = int(input(\"Enter the number of passwords to generate: \"))\n",
        "  password_length = int(input(\"Enter the length for each password: \"))\n",
        "\n",
        "  if num_passwords <= 0 or password_length <= 0:\n",
        "    print(\"Both the number of passwords and password length must be greater than zero\")\n",
        "    return\n",
        "\n",
        "  print(\"\\nGenerated Passwords:\")\n",
        "  for i in range(num_passwords):\n",
        "    print(f\"Password {i + 1}: {generate_password(password_length)}\")"
      ],
      "metadata": {
        "id": "T-DXyARMwVYL"
      },
      "execution_count": 19,
      "outputs": []
    },
    {
      "cell_type": "code",
      "source": [
        "password_generator()"
      ],
      "metadata": {
        "colab": {
          "base_uri": "https://localhost:8080/"
        },
        "id": "t-nxQjLRyE61",
        "outputId": "ce9d031c-3c1f-42e6-c08e-7453e3b0377d"
      },
      "execution_count": 20,
      "outputs": [
        {
          "output_type": "stream",
          "name": "stdout",
          "text": [
            "Password Generator\n",
            "Enter the number of passwords to generate: 5\n",
            "Enter the length for each password: 8\n",
            "\n",
            "Generated Passwords:\n",
            "Password 1: OZ#*+WgE\n",
            "Password 2: GGFbOu3m\n",
            "Password 3: Cn4%ntOc\n",
            "Password 4: 7jhuw7ye\n",
            "Password 5: )90ycImF\n"
          ]
        }
      ]
    }
  ]
}
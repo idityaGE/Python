{
  "nbformat": 4,
  "nbformat_minor": 0,
  "metadata": {
    "colab": {
      "provenance": [],
      "authorship_tag": "ABX9TyMHLRiHGTmSJQ71ebKIOYyM",
      "include_colab_link": true
    },
    "kernelspec": {
      "name": "python3",
      "display_name": "Python 3"
    },
    "language_info": {
      "name": "python"
    }
  },
  "cells": [
    {
      "cell_type": "markdown",
      "metadata": {
        "id": "view-in-github",
        "colab_type": "text"
      },
      "source": [
        "<a href=\"https://colab.research.google.com/github/idityaGE/Python/blob/main/class_assignment/assignment_3.ipynb\" target=\"_parent\"><img src=\"https://colab.research.google.com/assets/colab-badge.svg\" alt=\"Open In Colab\"/></a>"
      ]
    },
    {
      "cell_type": "code",
      "execution_count": 1,
      "metadata": {
        "colab": {
          "base_uri": "https://localhost:8080/"
        },
        "id": "ODAjX22c8Y5u",
        "outputId": "fb7e3252-706a-49c7-8aa0-1ad8a900c9e0"
      },
      "outputs": [
        {
          "output_type": "stream",
          "name": "stdout",
          "text": [
            "{'banana': 2, 'apple': 3, 'date': 4, 'cherry': 5}\n",
            "{'cherry': 5, 'date': 4, 'apple': 3, 'banana': 2}\n"
          ]
        }
      ],
      "source": [
        "# Q1- Write a Python script to sort (ascending and descending) a dictionary by value.\n",
        "my_dict = {\n",
        "  'apple': 3,\n",
        "  'banana': 2,\n",
        "  'cherry': 5,\n",
        "  'date': 4\n",
        "}\n",
        "\n",
        "accending_dict = dict(sorted(my_dict.items(), key = lambda item: item[1]))\n",
        "decending_dict = dict(sorted(my_dict.items(), key = lambda item: item[1], reverse = True))\n",
        "\n",
        "print(accending_dict)\n",
        "print(decending_dict)\n",
        "\n",
        "# outut :"
      ]
    },
    {
      "cell_type": "code",
      "source": [
        "\n",
        "\n",
        "'''\n",
        "Q2- Write a Python script to concatenate the following dictionaries to create a new one\n",
        "Sample Dictionary:\n",
        "dic1 = {1:10, 2:20}\n",
        "dic2 = {3:30, 4:40}\n",
        "dic3 = {5:50,6:60}\n",
        "Expected Result: {1: 10, 2: 20, 3: 30, 4: 40, 5: 50, 6: 60}\n",
        "'''\n",
        "\n",
        "# method 1\n",
        "def merge_dict(*dicts):\n",
        "  merged_dict = {}\n",
        "  for i in dicts:\n",
        "    merged_dict.update(i);\n",
        "  return merged_dict\n",
        "\n",
        "\n",
        "dic1 = {1:10, 2:20}\n",
        "dic2 = {3:30, 4:40}\n",
        "dic3 = {5:50,6:60}\n",
        "\n",
        "result = merge_dict(dic1, dic2, dic3)\n",
        "\n",
        "print(result)\n",
        "\n",
        "# method 2\n",
        "merged_dict = {**dic1, **dic2 , **dic3}\n",
        "\n",
        "print(merged_dict)\n"
      ],
      "metadata": {
        "colab": {
          "base_uri": "https://localhost:8080/"
        },
        "id": "OCSuPayY_xM2",
        "outputId": "e5a956e0-6016-4ce3-eebd-36957f0aae54"
      },
      "execution_count": 4,
      "outputs": [
        {
          "output_type": "stream",
          "name": "stdout",
          "text": [
            "{1: 10, 2: 20, 3: 30, 4: 40, 5: 50, 6: 60}\n",
            "{1: 10, 2: 20, 3: 30, 4: 40, 5: 50, 6: 60}\n"
          ]
        }
      ]
    },
    {
      "cell_type": "code",
      "source": [
        "\n",
        "\n",
        "# Write a Python script to check whether a given key already exists in a dictionary.\n",
        "\n",
        "my_dict = {1: 10, 2: 20, 3: 30, 4: 40}\n",
        "key1 = 3\n",
        "key2 = 5\n",
        "\n",
        "def isKeyExist(my_dict, key):\n",
        "  for i in my_dict.keys():\n",
        "    if i == key:\n",
        "      print(\"Yes, exist\")\n",
        "      return\n",
        "  print(\"does'n exist\")\n",
        "\n",
        "isKeyExist(my_dict, key1)\n",
        "isKeyExist(my_dict, key2)\n",
        "\n",
        "# method 2\n",
        "def isKeyExist_in(my_dict, key):\n",
        "  return key in my_dict.keys()\n",
        "\n",
        "print(isKeyExist_in(my_dict, key1))\n",
        "print(isKeyExist_in(my_dict, key2))\n",
        "\n",
        "# output :"
      ],
      "metadata": {
        "colab": {
          "base_uri": "https://localhost:8080/"
        },
        "id": "zl94YikCBL0V",
        "outputId": "6e923bc5-3453-4dd4-a39b-f6a235c511ef"
      },
      "execution_count": 12,
      "outputs": [
        {
          "output_type": "stream",
          "name": "stdout",
          "text": [
            "Yes, exist\n",
            "does'n exist\n",
            "True\n",
            "False\n"
          ]
        }
      ]
    },
    {
      "cell_type": "code",
      "source": [
        "\n",
        "\n",
        "'''\n",
        "Q4 - Write a Python script to generate and print a dictionary that contains a number (between 1\n",
        "and n) in the form (x: x*x).\n",
        "Sample Dictionary (n = 5):\n",
        "Expected Output: {1: 1, 2: 4, 3: 9, 4: 16, 5: 25}\n",
        "'''\n",
        "\n",
        "n = int(input(\"Enter the n : \"))\n",
        "my_dict = {i: i*i for i in range(1, n + 1)}\n",
        "print(my_dict)\n",
        "\n",
        "# output :"
      ],
      "metadata": {
        "colab": {
          "base_uri": "https://localhost:8080/"
        },
        "id": "WTvI6hgeCAJQ",
        "outputId": "0c18b80e-3b63-49fc-b07f-c1d4db43fcbd"
      },
      "execution_count": 13,
      "outputs": [
        {
          "output_type": "stream",
          "name": "stdout",
          "text": [
            "Enter the n : 5\n",
            "{1: 1, 2: 4, 3: 9, 4: 16, 5: 25}\n"
          ]
        }
      ]
    },
    {
      "cell_type": "code",
      "source": [
        "\n",
        "\n",
        "# Write a Python program to sum all the items in a dictionary.\n",
        "\n",
        "my_dict = {1: 10, 2: 20, 3: 30, 4: 40}\n",
        "\n",
        "def sumOfValues(my_dict):\n",
        "  return sum(my_dict.values())\n",
        "\n",
        "print(sumOfValues(my_dict))\n",
        "\n",
        "# output :"
      ],
      "metadata": {
        "colab": {
          "base_uri": "https://localhost:8080/"
        },
        "id": "-rke-KpcEQ90",
        "outputId": "8885097e-b231-47a3-d680-1f0274a80286"
      },
      "execution_count": 14,
      "outputs": [
        {
          "output_type": "stream",
          "name": "stdout",
          "text": [
            "100\n"
          ]
        }
      ]
    },
    {
      "cell_type": "code",
      "source": [
        "\n",
        "\n",
        "# Write a Python program to multiply all the items in a dictionary.\n",
        "\n",
        "def multiplyDictValues(my_dict):\n",
        "    result = 1\n",
        "    for value in my_dict.values():\n",
        "        result *= value\n",
        "    return result\n",
        "\n",
        "my_dict = {1: 2, 2: 3, 3: 4, 4: 5}\n",
        "total_product = multiplyDictValues(my_dict)\n",
        "print(total_product)\n",
        "\n",
        "# output :"
      ],
      "metadata": {
        "colab": {
          "base_uri": "https://localhost:8080/"
        },
        "id": "H1T1H60NEwo4",
        "outputId": "82a1b299-a703-4139-936e-07486d962869"
      },
      "execution_count": 20,
      "outputs": [
        {
          "output_type": "execute_result",
          "data": {
            "text/plain": [
              "120"
            ]
          },
          "metadata": {},
          "execution_count": 20
        }
      ]
    },
    {
      "cell_type": "code",
      "source": [
        "\n",
        "\n",
        "'''\n",
        "Write a Python program to map two lists into a dictionary. (Hint: create list1 named as key,\n",
        "then create another list named as value, containing values corresponding to list 1 and then\n",
        "use zip)\n",
        "'''\n",
        "\n",
        "values = ['apple', 'banana', 'cherry']\n",
        "keys = [1, 2, 3]\n",
        "\n",
        "# method 1\n",
        "mapped_dict = dict(zip(keys, values))\n",
        "\n",
        "# method 2\n",
        "map_dixt = {i : j for i, j in zip(keys, values)}\n",
        "\n",
        "print(map_dixt)\n",
        "\n",
        "# output"
      ],
      "metadata": {
        "colab": {
          "base_uri": "https://localhost:8080/"
        },
        "id": "VbHy9U05E37B",
        "outputId": "45861f99-28c8-4f39-a4e5-25fd451645d2"
      },
      "execution_count": 29,
      "outputs": [
        {
          "output_type": "stream",
          "name": "stdout",
          "text": [
            "{1: 'apple', 2: 'banana', 3: 'cherry'}\n"
          ]
        }
      ]
    },
    {
      "cell_type": "code",
      "source": [
        "\n",
        "\n",
        "# Write a Python program to get the maximum and minimum values of a dictionary.\n",
        "\n",
        "my_dict = {1: 10, 2: 20, 3: 30, 4: 40}\n",
        "\n",
        "def max_min(my_dict):\n",
        "  maxi = max(my_dict.values())\n",
        "  mini = min(my_dict.values())\n",
        "  return maxi, mini  # return typle\n",
        "\n",
        "print(max_min(my_dict))\n",
        "# output :"
      ],
      "metadata": {
        "colab": {
          "base_uri": "https://localhost:8080/"
        },
        "id": "QgZG-6wWE7iP",
        "outputId": "ed7c333b-d0e5-4bf5-8156-f62bfa7afe7a"
      },
      "execution_count": 22,
      "outputs": [
        {
          "output_type": "stream",
          "name": "stdout",
          "text": [
            "(40, 10)\n"
          ]
        }
      ]
    },
    {
      "cell_type": "code",
      "source": [
        "\n",
        "\n",
        "# Write a Python program to remove duplicates from the dictionary.\n",
        "\n",
        "def removeDuplicates(my_dict):\n",
        "  unique_dict = {}\n",
        "  for key,value in my_dict.items():\n",
        "    if value not in unique_dict.values():\n",
        "      unique_dict[key] = value\n",
        "  return unique_dict\n",
        "\n",
        "my_dict = {1: 'apple', 2: 'banana', 3: 'apple', 4: 'orange', 5: 'banana'}\n",
        "result = removeDuplicates(my_dict)\n",
        "result\n",
        "\n",
        "# output :"
      ],
      "metadata": {
        "colab": {
          "base_uri": "https://localhost:8080/"
        },
        "id": "PK35_L-RE-vK",
        "outputId": "86753f8e-9aa5-4e6a-dc0f-d9beff2af59b"
      },
      "execution_count": 24,
      "outputs": [
        {
          "output_type": "execute_result",
          "data": {
            "text/plain": [
              "{1: 'apple', 2: 'banana', 4: 'orange'}"
            ]
          },
          "metadata": {},
          "execution_count": 24
        }
      ]
    },
    {
      "cell_type": "code",
      "source": [
        "\n",
        "\n",
        "# Write a Python program to check if multiple keys exist in a dictionary.\n",
        "\n",
        "def isMultipleKeys(my_dict, key):\n",
        "    n = 0\n",
        "    for i in my_dict.keys():\n",
        "      if i == key:\n",
        "        n = n + 1\n",
        "    return n == 1\n",
        "\n",
        "my_dict = {1: 'apple', 2: 'banana', 3: 'cherry', 4: 'date'}\n",
        "\n",
        "key = 2\n",
        "\n",
        "isMultipleKeys(my_dict, key)\n",
        "\n",
        "# output :"
      ],
      "metadata": {
        "colab": {
          "base_uri": "https://localhost:8080/"
        },
        "id": "TY0_PIgLFA98",
        "outputId": "eb1a19dd-9d04-4c12-bfb0-0225dc0f5ffd"
      },
      "execution_count": 28,
      "outputs": [
        {
          "output_type": "execute_result",
          "data": {
            "text/plain": [
              "True"
            ]
          },
          "metadata": {},
          "execution_count": 28
        }
      ]
    }
  ]
}